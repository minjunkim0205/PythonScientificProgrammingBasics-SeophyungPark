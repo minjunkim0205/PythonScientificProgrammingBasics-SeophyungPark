{
 "cells": [
  {
   "cell_type": "markdown",
   "metadata": {},
   "source": [
    "<h1 align='center'> 파이썬과학프로그래밍기초 실습 2</h1>\n",
    "\n",
    "<p style=\"text-align: right\"> 2023.9.14.</p>"
   ]
  },
  {
   "cell_type": "markdown",
   "metadata": {},
   "source": [
    "<div class=\"alert alert-block alert-info\">\n",
    "    \n",
    "- 파일 이름에서 00000000을 자신의 학번으로, name을 자신의 이름으로 수정하세요.\n",
    "\n",
    "- 다음 줄에 자신의 이름, 학번, 학과(전공)을 적으세요.\n",
    "\n",
    "* 이름:김민준  &nbsp;&nbsp;          학번:20235128    &nbsp;&nbsp;         학과(전공):소프트웨어융합\n",
    "    \n",
    "</div>\n",
    "\n",
    "- JupyterLab 문서의 최신 버전은 [JupyterLab Documentation](https://jupyterlab.readthedocs.io/en/stable/index.html#/)을  참고하라\n",
    "\n",
    "- Markdown은 [Markdown Guide](https://www.markdownguide.org/)를 참고하라.\n",
    "- [Markdown Cheat Sheet](https://www.markdownguide.org/cheat-sheet/)\n",
    "\n",
    "* 제출 마감: 9월 13일(tn) 오후 10:00까지 최종본 SmartLEAD에 제출"
   ]
  },
  {
   "cell_type": "markdown",
   "metadata": {},
   "source": [
    "<div class=\"alert alert-info\">\n",
    "    \n",
    "**참고: 나머지 정리**\n",
    "    \n",
    "정수 $m$을 $n$으로 나누었을 때의 몫과 나머지를 각각 $q$와 $r$이라고 하면,\n",
    "   $$ m = qn + r,  (0 \\le r < n)$$\n",
    "</div>\n",
    "\n",
    "$$ 5 = 2 \\cdot 2 + 1$$\n",
    "$$ -5 = -3 \\cdot 2 + 1$$"
   ]
  },
  {
   "cell_type": "code",
   "execution_count": 1,
   "metadata": {
    "tags": [],
    "ExecuteTime": {
     "end_time": "2023-09-14T05:05:34.541139700Z",
     "start_time": "2023-09-14T05:05:34.171168300Z"
    }
   },
   "outputs": [
    {
     "data": {
      "text/plain": "(2, -3)"
     },
     "execution_count": 1,
     "metadata": {},
     "output_type": "execute_result"
    }
   ],
   "source": [
    "5 // 2, -5 // 2"
   ]
  },
  {
   "cell_type": "markdown",
   "source": [
    "(y, x) 형태의 데이터는 튜플 타입\n",
    "튜플은 괄호를 생략하고 ,로 구분 가능"
   ],
   "metadata": {
    "collapsed": false
   }
  },
  {
   "cell_type": "code",
   "execution_count": 2,
   "metadata": {
    "tags": [],
    "ExecuteTime": {
     "end_time": "2023-09-14T05:05:34.595483Z",
     "start_time": "2023-09-14T05:05:34.186192Z"
    }
   },
   "outputs": [
    {
     "data": {
      "text/plain": "(2, 1)"
     },
     "execution_count": 2,
     "metadata": {},
     "output_type": "execute_result"
    }
   ],
   "source": [
    "divmod(5, 2)"
   ]
  },
  {
   "cell_type": "markdown",
   "source": [
    "divmod()함수는 몫과 나머지를 튜플 데이터 타입으로 반환"
   ],
   "metadata": {
    "collapsed": false
   }
  },
  {
   "cell_type": "code",
   "execution_count": 3,
   "metadata": {
    "tags": [],
    "ExecuteTime": {
     "end_time": "2023-09-14T05:05:34.634996400Z",
     "start_time": "2023-09-14T05:05:34.200198500Z"
    }
   },
   "outputs": [
    {
     "data": {
      "text/plain": "(-3, 1)"
     },
     "execution_count": 3,
     "metadata": {},
     "output_type": "execute_result"
    }
   ],
   "source": [
    "divmod(-5, 2)"
   ]
  },
  {
   "cell_type": "markdown",
   "metadata": {
    "tags": []
   },
   "source": [
    "### 문제 1. \n",
    "Python에서 바인딩의 개념이 무엇인지 서술하라."
   ]
  },
  {
   "cell_type": "markdown",
   "metadata": {},
   "source": [
    "**설명**\n",
    "어떤 name(변수)가 객체를 참조하도록 만드는 과정"
   ]
  },
  {
   "cell_type": "markdown",
   "metadata": {
    "tags": []
   },
   "source": [
    "### 문제 2. \n",
    "다음 셀을 실행하고 실행 결과에서 처음에는 True가, 두번째는 False가 나오는 이유를 설명하라."
   ]
  },
  {
   "cell_type": "code",
   "execution_count": 19,
   "metadata": {
    "ExecuteTime": {
     "end_time": "2023-09-14T05:30:17.778555100Z",
     "start_time": "2023-09-14T05:30:17.774036500Z"
    }
   },
   "outputs": [
    {
     "name": "stdout",
     "output_type": "stream",
     "text": [
      "3050324886064\n",
      "3050324885968\n",
      "True\n",
      "False\n",
      "======\n",
      "3050298680016\n",
      "3050298680016\n",
      "5.0\n",
      "5.0\n",
      "3050322123600\n",
      "3050298680016\n",
      "4.0\n",
      "5.0\n"
     ]
    }
   ],
   "source": [
    "x = 5.\n",
    "y = 5.\n",
    "print(id(x))\n",
    "print(id(y))\n",
    "print(x == y)\n",
    "print(x is y)\n",
    "# 질문\n",
    "print(\"======\", end=\"\\n\")\n",
    "a = 5.\n",
    "b = a\n",
    "print(id(a), end=\"\\n\")\n",
    "print(id(b), end=\"\\n\")\n",
    "print(a, end=\"\\n\")\n",
    "print(b, end=\"\\n\")\n",
    "a = 4.\n",
    "print(id(a), end=\"\\n\")\n",
    "print(id(b), end=\"\\n\")\n",
    "print(a, end=\"\\n\")\n",
    "print(b, end=\"\\n\")"
   ]
  },
  {
   "cell_type": "markdown",
   "metadata": {},
   "source": [
    "**설명**\n",
    "== 두값을 비교하는 연산\n",
    "is 두 객체가 참조하는 주소를 비교하는 연산\n",
    "두 변수가 갖고 있는 값은 같지만, 참조하는 주소값이 다르기 때문에"
   ]
  },
  {
   "cell_type": "markdown",
   "metadata": {},
   "source": [
    "### 문제 3.\n",
    "\n",
    "파이썬 데이터 형 중에 변경한 객체와 변경 불가능한 객체의 차이점을 설명하라."
   ]
  },
  {
   "cell_type": "markdown",
   "metadata": {},
   "source": [
    "**설명**\n",
    "list: 변경가능(mutable) 자료형\n",
    "tuple: 변경 불가능(immutable) 자료형\n",
    "string: 유니코드 문자열, 변경 불가능(immutable)\n",
    "bytes: 0~255사이의 숫자들의 시퀀스로 변경 불가능.\n",
    "bytearray: bytes의 변경 가능 버전\n",
    "range:range() 함수가 생성하는 변경 불가능 자료형\n",
    "\n",
    "Mutable는 개별 원소를 수정할수 있지만, Immutable은 개별 원소를 수정할수 없다"
   ]
  },
  {
   "cell_type": "markdown",
   "metadata": {},
   "source": [
    "### 문제 4. \n",
    "아래에 있는 세 코드 셀들의 실행 결과가 나오는 과정을 각각 설명하라. "
   ]
  },
  {
   "cell_type": "code",
   "execution_count": 21,
   "metadata": {
    "tags": [],
    "ExecuteTime": {
     "end_time": "2023-09-14T05:34:23.518968300Z",
     "start_time": "2023-09-14T05:34:23.500961700Z"
    }
   },
   "outputs": [
    {
     "name": "stdout",
     "output_type": "stream",
     "text": [
      "False\n"
     ]
    }
   ],
   "source": [
    "1 and ' 가나다' and 5 and set() and \"str\" and {'a':1, 'b':5}"
   ]
  },
  {
   "cell_type": "markdown",
   "metadata": {},
   "source": [
    "**설명**\n",
    "Lazy Evaluation 에 따라\n",
    "A1 and A2 and ... An\n",
    "- Ai, 1<= i <= n,이 모두 True이면 An의 값을 반환\n",
    "- 그렇지 않으면, 첫번째 False 피연산자를 반환\n",
    "\n",
    "따라서 비어있는 set()는 False이기 때문에 피연산자 set()이 반환된다"
   ]
  },
  {
   "cell_type": "code",
   "execution_count": 20,
   "outputs": [
    {
     "name": "stdout",
     "output_type": "stream",
     "text": [
      "False\n"
     ]
    }
   ],
   "source": [
    "# 질문\n",
    "print(False and False, end=\"\\n\")"
   ],
   "metadata": {
    "collapsed": false
   }
  },
  {
   "cell_type": "code",
   "execution_count": 6,
   "metadata": {
    "tags": [],
    "ExecuteTime": {
     "end_time": "2023-09-14T05:05:34.794372800Z",
     "start_time": "2023-09-14T05:05:34.250237600Z"
    }
   },
   "outputs": [
    {
     "data": {
      "text/plain": "'0'"
     },
     "execution_count": 6,
     "metadata": {},
     "output_type": "execute_result"
    }
   ],
   "source": [
    "0 or [] or () or '0'"
   ]
  },
  {
   "cell_type": "markdown",
   "metadata": {},
   "source": [
    "**설명**\n",
    "Lazy Evaluation 에 따라\n",
    "A1 or A2 or ... An\n",
    "- Ai, 1<= i <= n,이 모두 False이면 An의 값을 반환\n",
    "- 그렇지 않으면, 첫번째 True 피연산자를 반환\n",
    "\n",
    "따라서 비어 있지 않은 '0'는 True이기 때문에 피연산자 '0'이 반환된다"
   ]
  },
  {
   "cell_type": "code",
   "execution_count": 7,
   "metadata": {
    "tags": [],
    "ExecuteTime": {
     "end_time": "2023-09-14T05:05:34.847614500Z",
     "start_time": "2023-09-14T05:05:34.275243600Z"
    }
   },
   "outputs": [
    {
     "data": {
      "text/plain": "'str'"
     },
     "execution_count": 7,
     "metadata": {},
     "output_type": "execute_result"
    }
   ],
   "source": [
    "1 and 'str' or [] or 34 and '0'"
   ]
  },
  {
   "cell_type": "markdown",
   "source": [
    "**설명**\n",
    "and와 or가 섞여 있으면 and를 먼저 평가한다\n",
    "- 1 and 'str' : 'str'\n",
    "- 34 and '0' : '0'\n",
    "- 'str' or [] or '0' : 'str'\n",
    "\n",
    "의 순서로 피연산자 'str'이 반환된다"
   ],
   "metadata": {
    "collapsed": false
   }
  },
  {
   "cell_type": "markdown",
   "metadata": {},
   "source": [
    "### 문제 5. \n",
    "다음은 4비트 2진수로 표현할 수 있는 16 종류의 서로 다른 수이다. 각 이진수를 unsigned 정수와 2의 보수 형식을 이용한 signed 정수로 해석할 때, 10 진수에 해당하는 값을 적어라.\n",
    "\n",
    "2진수의 표현에 대해서는 여기를 참조하라.\n",
    "\n",
    "https://ko.wikipedia.org/wiki/%EB%B6%80%ED%98%B8%ED%99%94%EB%90%9C_%EC%88%AB%EC%9E%90_%ED%91%9C%ED%98%84"
   ]
  },
  {
   "cell_type": "markdown",
   "metadata": {},
   "source": [
    "| 2진수  | unsigned 4 비트 정수 | 2의 보수 형식 |\n",
    "|:----:|:----------------:|:--------:|\n",
    "| 0000 |        0         |    0     |\n",
    "| 0001 |        1         |    1     |\n",
    "| 0010 |        2         |    2     |\n",
    "| 0011 |        3         |    3     |\n",
    "| 0100 |        4         |    4     |\n",
    "| 0101 |        5         |    5     |\n",
    "| 0110 |        6         |    6     |\n",
    "| 0111 |        7         |    7     |\n",
    "| 1000 |        8         |    -8    |\n",
    "| 1001 |        9         |    -7    |\n",
    "| 1010 |        10        |    -6    |\n",
    "| 1011 |        11        |    -5    |\n",
    "| 1100 |        12        |    -4    |\n",
    "| 1101 |        13        |    -3    |\n",
    "| 1110 |        14        |    -2    |\n",
    "| 1111 |        15        |    -1    |"
   ]
  },
  {
   "cell_type": "code",
   "execution_count": 7,
   "metadata": {
    "ExecuteTime": {
     "end_time": "2023-09-14T05:05:34.874658800Z",
     "start_time": "2023-09-14T05:05:34.278756300Z"
    }
   },
   "outputs": [],
   "source": []
  },
  {
   "cell_type": "markdown",
   "metadata": {},
   "source": [
    "### 예제 1."
   ]
  },
  {
   "cell_type": "code",
   "execution_count": 22,
   "metadata": {
    "tags": [],
    "ExecuteTime": {
     "end_time": "2023-09-14T05:39:00.545904600Z",
     "start_time": "2023-09-14T05:39:00.529901700Z"
    }
   },
   "outputs": [
    {
     "ename": "SyntaxError",
     "evalue": "invalid syntax (3817022332.py, line 2)",
     "output_type": "error",
     "traceback": [
      "\u001B[1;36m  Cell \u001B[1;32mIn[22], line 2\u001B[1;36m\u001B[0m\n\u001B[1;33m    n = 1b0110\u001B[0m\n\u001B[1;37m         ^\u001B[0m\n\u001B[1;31mSyntaxError\u001B[0m\u001B[1;31m:\u001B[0m invalid syntax\n"
     ]
    }
   ],
   "source": [
    "m = 0b1101\n",
    "n = 0b0110\n",
    "m, n"
   ]
  },
  {
   "cell_type": "code",
   "execution_count": 9,
   "metadata": {
    "tags": [],
    "ExecuteTime": {
     "end_time": "2023-09-14T05:05:34.967716Z",
     "start_time": "2023-09-14T05:05:34.314792700Z"
    }
   },
   "outputs": [
    {
     "data": {
      "text/plain": "(4, 4, 3, 3)"
     },
     "execution_count": 9,
     "metadata": {},
     "output_type": "execute_result"
    }
   ],
   "source": [
    "m.bit_length(),(-m).bit_length(), n.bit_length(), (-n).bit_length()"
   ]
  },
  {
   "cell_type": "code",
   "execution_count": 10,
   "metadata": {
    "tags": [],
    "ExecuteTime": {
     "end_time": "2023-09-14T05:05:35.035262300Z",
     "start_time": "2023-09-14T05:05:34.326797100Z"
    }
   },
   "outputs": [
    {
     "data": {
      "text/plain": "-13"
     },
     "execution_count": 10,
     "metadata": {},
     "output_type": "execute_result"
    }
   ],
   "source": [
    "~m + 1"
   ]
  },
  {
   "cell_type": "code",
   "execution_count": 11,
   "metadata": {
    "tags": [],
    "ExecuteTime": {
     "end_time": "2023-09-14T05:05:35.083293100Z",
     "start_time": "2023-09-14T05:05:34.344306Z"
    }
   },
   "outputs": [
    {
     "data": {
      "text/plain": "(4, 15, 11)"
     },
     "execution_count": 11,
     "metadata": {},
     "output_type": "execute_result"
    }
   ],
   "source": [
    "m&n, m|n, m^n"
   ]
  },
  {
   "cell_type": "code",
   "execution_count": 12,
   "metadata": {
    "tags": [],
    "ExecuteTime": {
     "end_time": "2023-09-14T05:05:35.128321400Z",
     "start_time": "2023-09-14T05:05:34.362311800Z"
    }
   },
   "outputs": [
    {
     "data": {
      "text/plain": "(-14, -5, 9)"
     },
     "execution_count": 12,
     "metadata": {},
     "output_type": "execute_result"
    }
   ],
   "source": [
    "-m & -n, -m|-n, (-m)^(-n)"
   ]
  },
  {
   "cell_type": "code",
   "execution_count": 12,
   "metadata": {
    "ExecuteTime": {
     "end_time": "2023-09-14T05:05:35.166845600Z",
     "start_time": "2023-09-14T05:05:34.375823100Z"
    }
   },
   "outputs": [],
   "source": []
  },
  {
   "cell_type": "code",
   "execution_count": 12,
   "metadata": {
    "ExecuteTime": {
     "end_time": "2023-09-14T05:05:35.188872300Z",
     "start_time": "2023-09-14T05:05:34.393339200Z"
    }
   },
   "outputs": [],
   "source": []
  },
  {
   "cell_type": "markdown",
   "metadata": {},
   "source": [
    "**설명**\n",
    "\n",
    "\n",
    "\n"
   ]
  },
  {
   "cell_type": "code",
   "execution_count": 13,
   "metadata": {
    "ExecuteTime": {
     "end_time": "2023-09-14T05:05:35.219394100Z",
     "start_time": "2023-09-14T05:05:34.409858400Z"
    }
   },
   "outputs": [
    {
     "data": {
      "text/plain": "True"
     },
     "execution_count": 13,
     "metadata": {},
     "output_type": "execute_result"
    }
   ],
   "source": [
    "45 > 5"
   ]
  },
  {
   "cell_type": "code",
   "execution_count": 14,
   "metadata": {
    "ExecuteTime": {
     "end_time": "2023-09-14T05:05:35.475003700Z",
     "start_time": "2023-09-14T05:05:34.421874700Z"
    }
   },
   "outputs": [
    {
     "ename": "TypeError",
     "evalue": "'>' not supported between instances of 'int' and 'complex'",
     "output_type": "error",
     "traceback": [
      "\u001B[1;31m---------------------------------------------------------------------------\u001B[0m",
      "\u001B[1;31mTypeError\u001B[0m                                 Traceback (most recent call last)",
      "Cell \u001B[1;32mIn[14], line 1\u001B[0m\n\u001B[1;32m----> 1\u001B[0m \u001B[38;5;241;43m3\u001B[39;49m\u001B[43m \u001B[49m\u001B[38;5;241;43m>\u001B[39;49m\u001B[43m \u001B[49m\u001B[38;5;241;43m3\u001B[39;49m\u001B[38;5;241;43m+\u001B[39;49m\u001B[43m \u001B[49m\u001B[38;5;241;43m3\u001B[39;49m\u001B[43mj\u001B[49m\n",
      "\u001B[1;31mTypeError\u001B[0m: '>' not supported between instances of 'int' and 'complex'"
     ]
    }
   ],
   "source": [
    "3 > 3+ 3j"
   ]
  },
  {
   "cell_type": "code",
   "execution_count": null,
   "metadata": {
    "ExecuteTime": {
     "start_time": "2023-09-14T05:05:34.718593Z"
    }
   },
   "outputs": [],
   "source": [
    "'a' > 'b'"
   ]
  },
  {
   "cell_type": "code",
   "execution_count": null,
   "metadata": {
    "ExecuteTime": {
     "start_time": "2023-09-14T05:05:34.720591600Z"
    }
   },
   "outputs": [],
   "source": [
    "'abcd' > 'abaf'"
   ]
  },
  {
   "cell_type": "code",
   "execution_count": null,
   "metadata": {
    "ExecuteTime": {
     "start_time": "2023-09-14T05:05:34.722593600Z"
    }
   },
   "outputs": [],
   "source": [
    "'가' > 'abc'"
   ]
  },
  {
   "cell_type": "code",
   "execution_count": null,
   "metadata": {
    "ExecuteTime": {
     "start_time": "2023-09-14T05:05:34.725592Z"
    }
   },
   "outputs": [],
   "source": [
    "[1, 5, 'tabc'] > [1, 5, 'str']"
   ]
  },
  {
   "cell_type": "code",
   "execution_count": null,
   "metadata": {
    "ExecuteTime": {
     "start_time": "2023-09-14T05:05:34.727593200Z"
    }
   },
   "outputs": [],
   "source": [
    "(2, 2) > (1, 1, 5)"
   ]
  },
  {
   "cell_type": "markdown",
   "metadata": {},
   "source": [
    "## print 함수 사용시 유효자리 숫자 표현에 관한 질문\n",
    "\n",
    "- 정수를 표현할 때 컴퓨터의 메모리가 허락하는 한도에서 최대한 많은 비트 수를 사용한다.\n",
    "- Python 자습서의 15. 부동 소수점 산술: 문제점 및 한계 참조\n",
    "\n",
    "https://docs.python.org/ko/3.9/tutorial/floatingpoint.html\n"
   ]
  },
  {
   "cell_type": "markdown",
   "metadata": {},
   "source": [
    "### 예제 2. 아래 셀들의 문장들을 실행해 보라."
   ]
  },
  {
   "cell_type": "code",
   "execution_count": null,
   "metadata": {
    "ExecuteTime": {
     "start_time": "2023-09-14T05:05:34.729593900Z"
    }
   },
   "outputs": [],
   "source": [
    "print(2**120)"
   ]
  },
  {
   "cell_type": "code",
   "execution_count": null,
   "metadata": {
    "ExecuteTime": {
     "start_time": "2023-09-14T05:05:34.731601500Z"
    }
   },
   "outputs": [],
   "source": [
    "f = 0.1234567890123456789012345678901234567890\n",
    "print(f)\n",
    "print(f + 0.3)\n",
    "g = f + 0.30000000000000005\n",
    "print(g)\n",
    "print(g*100)\n"
   ]
  },
  {
   "cell_type": "code",
   "execution_count": null,
   "metadata": {
    "ExecuteTime": {
     "start_time": "2023-09-14T05:05:34.733604100Z"
    }
   },
   "outputs": [],
   "source": [
    "0.42345678901234571"
   ]
  },
  {
   "cell_type": "code",
   "execution_count": null,
   "metadata": {
    "scrolled": true,
    "ExecuteTime": {
     "start_time": "2023-09-14T05:05:34.736600600Z"
    }
   },
   "outputs": [],
   "source": [
    "import sys\n",
    "print(sys.float_info)"
   ]
  },
  {
   "cell_type": "code",
   "execution_count": null,
   "metadata": {
    "ExecuteTime": {
     "start_time": "2023-09-14T05:05:34.738600300Z"
    }
   },
   "outputs": [],
   "source": [
    "import math\n",
    "math.log10(2**53)"
   ]
  },
  {
   "cell_type": "code",
   "execution_count": null,
   "metadata": {
    "ExecuteTime": {
     "start_time": "2023-09-14T05:05:34.739600400Z"
    }
   },
   "outputs": [],
   "source": [
    "delta = 0.1\n",
    "x = 0.\n",
    "for _ in range(10):\n",
    "    x = x + delta\n",
    "    print(x)"
   ]
  },
  {
   "cell_type": "code",
   "execution_count": null,
   "metadata": {
    "ExecuteTime": {
     "start_time": "2023-09-14T05:05:34.742602800Z"
    }
   },
   "outputs": [],
   "source": [
    "x = 0.1234567890123456789\n",
    "repr(x)"
   ]
  },
  {
   "cell_type": "code",
   "execution_count": null,
   "metadata": {
    "ExecuteTime": {
     "start_time": "2023-09-14T05:05:34.744604Z"
    }
   },
   "outputs": [],
   "source": [
    "float(repr(x))"
   ]
  },
  {
   "cell_type": "code",
   "execution_count": null,
   "metadata": {
    "ExecuteTime": {
     "start_time": "2023-09-14T05:05:34.746772800Z"
    }
   },
   "outputs": [],
   "source": [
    "x = 0.3\n",
    "float('0.1234567890123456789')"
   ]
  },
  {
   "cell_type": "code",
   "execution_count": null,
   "metadata": {
    "ExecuteTime": {
     "start_time": "2023-09-14T05:05:34.750775800Z"
    }
   },
   "outputs": [],
   "source": [
    "repr(x)"
   ]
  },
  {
   "cell_type": "markdown",
   "metadata": {},
   "source": [
    "## print 함수에서 정수와 실수 포맷"
   ]
  },
  {
   "cell_type": "markdown",
   "metadata": {},
   "source": [
    "### 예제3."
   ]
  },
  {
   "cell_type": "code",
   "execution_count": null,
   "metadata": {
    "ExecuteTime": {
     "start_time": "2023-09-14T05:05:34.753774700Z"
    }
   },
   "outputs": [],
   "source": [
    "n = 1234567890\n",
    "print(n)\n",
    "print(\"n =\",n)"
   ]
  },
  {
   "cell_type": "code",
   "execution_count": null,
   "metadata": {
    "ExecuteTime": {
     "start_time": "2023-09-14T05:05:34.756772800Z"
    }
   },
   "outputs": [],
   "source": [
    "print(\"  1\")\n",
    "print(\" 11\")\n",
    "print(\"111\")"
   ]
  },
  {
   "cell_type": "code",
   "execution_count": null,
   "metadata": {
    "ExecuteTime": {
     "start_time": "2023-09-14T05:05:34.759772200Z"
    }
   },
   "outputs": [],
   "source": [
    "print(f'n={n}')"
   ]
  },
  {
   "cell_type": "code",
   "execution_count": null,
   "metadata": {
    "tags": [],
    "ExecuteTime": {
     "start_time": "2023-09-14T05:05:34.760771800Z"
    }
   },
   "outputs": [],
   "source": [
    "print(f'n={n}')"
   ]
  },
  {
   "cell_type": "code",
   "execution_count": null,
   "metadata": {
    "tags": [],
    "ExecuteTime": {
     "start_time": "2023-09-14T05:05:34.762775800Z"
    }
   },
   "outputs": [],
   "source": [
    "print(f'n={n:,}')"
   ]
  },
  {
   "cell_type": "code",
   "execution_count": null,
   "metadata": {
    "ExecuteTime": {
     "start_time": "2023-09-14T05:05:34.763776300Z"
    }
   },
   "outputs": [],
   "source": [
    "x = 1234567.89012345678\n",
    "print(x)"
   ]
  },
  {
   "cell_type": "code",
   "execution_count": null,
   "metadata": {
    "ExecuteTime": {
     "start_time": "2023-09-14T05:05:34.765776300Z"
    }
   },
   "outputs": [],
   "source": [
    "print(f'x = {x}')"
   ]
  },
  {
   "cell_type": "code",
   "execution_count": null,
   "metadata": {
    "ExecuteTime": {
     "start_time": "2023-09-14T05:05:34.766777800Z"
    }
   },
   "outputs": [],
   "source": [
    "print(f'x = {x:,}')"
   ]
  },
  {
   "cell_type": "code",
   "execution_count": null,
   "metadata": {
    "ExecuteTime": {
     "start_time": "2023-09-14T05:05:34.767778300Z"
    }
   },
   "outputs": [],
   "source": [
    "print(f'x = {x:_}')"
   ]
  },
  {
   "cell_type": "code",
   "execution_count": null,
   "metadata": {
    "ExecuteTime": {
     "start_time": "2023-09-14T05:05:34.768775600Z"
    }
   },
   "outputs": [],
   "source": [
    "print(f'x = {x:15,.2f}')"
   ]
  },
  {
   "cell_type": "code",
   "execution_count": null,
   "metadata": {
    "ExecuteTime": {
     "start_time": "2023-09-14T05:05:34.770776900Z"
    }
   },
   "outputs": [],
   "source": [
    "print(f'x = {x:15.4e}')"
   ]
  },
  {
   "cell_type": "code",
   "execution_count": null,
   "metadata": {
    "ExecuteTime": {
     "start_time": "2023-09-14T05:05:34.771776300Z"
    }
   },
   "outputs": [],
   "source": []
  },
  {
   "cell_type": "code",
   "execution_count": null,
   "metadata": {
    "ExecuteTime": {
     "start_time": "2023-09-14T05:05:34.774777500Z"
    }
   },
   "outputs": [],
   "source": []
  }
 ],
 "metadata": {
  "kernelspec": {
   "display_name": "Python 3 (ipykernel)",
   "language": "python",
   "name": "python3"
  },
  "language_info": {
   "codemirror_mode": {
    "name": "ipython",
    "version": 3
   },
   "file_extension": ".py",
   "mimetype": "text/x-python",
   "name": "python",
   "nbconvert_exporter": "python",
   "pygments_lexer": "ipython3",
   "version": "3.11.4"
  },
  "latex_envs": {
   "LaTeX_envs_menu_present": true,
   "autoclose": false,
   "autocomplete": true,
   "bibliofile": "biblio.bib",
   "cite_by": "apalike",
   "current_citInitial": 1,
   "eqLabelWithNumbers": true,
   "eqNumInitial": 1,
   "hotkeys": {
    "equation": "Ctrl-E",
    "itemize": "Ctrl-I"
   },
   "labels_anchors": false,
   "latex_user_defs": false,
   "report_style_numbering": false,
   "user_envs_cfg": false
  },
  "toc": {
   "base_numbering": 1,
   "nav_menu": {},
   "number_sections": false,
   "sideBar": true,
   "skip_h1_title": false,
   "title_cell": "Table of Contents",
   "title_sidebar": "Contents",
   "toc_cell": false,
   "toc_position": {
    "height": "calc(100% - 180px)",
    "left": "10px",
    "top": "150px",
    "width": "270.5px"
   },
   "toc_section_display": true,
   "toc_window_display": false
  }
 },
 "nbformat": 4,
 "nbformat_minor": 4
}
