{
 "cells": [
  {
   "cell_type": "markdown",
   "metadata": {},
   "source": [
    "<h1 align='center'> 파이썬과학프로그래밍기초 실습 5</h1>\n",
    "\n",
    "<p style=\"text-align: right\"> 2023.10.12.</p>"
   ]
  },
  {
   "cell_type": "markdown",
   "metadata": {},
   "source": [
    "\n",
    "<div class=\"alert alert-block alert-info\">\n",
    "    \n",
    "- 파일 이름에서 00000000을 자신의 학번으로, name을 자신의 이름으로 수정하세요.\n",
    "\n",
    "- 다음 줄에 자신의 이름, 학번, 학과(전공)을 적으세요.\n",
    "\n",
    "* 이름:김민준   &nbsp;&nbsp;          학번:20235128    &nbsp;&nbsp;         학과(전공):소융\n",
    "    \n",
    "</div>\n",
    "\n",
    "- JupyterLab 문서의 최신 버전은 [JupyterLab Documentation](https://jupyterlab.readthedocs.io/en/stable/index.html#/)을  참고하라\n",
    "\n",
    "- Markdown은 [Markdown Guide](https://www.markdownguide.org/)를 참고하라.\n",
    "- [Markdown Cheat Sheet](https://www.markdownguide.org/cheat-sheet/)\n",
    "\n",
    "* 제출 마감: 10월 18일 (수) 오후 10:00까지 최종본을 SmartLEAD에 제출\n"
   ]
  },
  {
   "cell_type": "code",
   "execution_count": 1,
   "metadata": {
    "tags": []
   },
   "outputs": [
    {
     "data": {
      "text/plain": [
       "'3.11.4 | packaged by Anaconda, Inc. | (main, Jul  5 2023, 13:38:37) [MSC v.1916 64 bit (AMD64)]'"
      ]
     },
     "execution_count": 1,
     "metadata": {},
     "output_type": "execute_result"
    }
   ],
   "source": [
    "import sys\n",
    "sys.version"
   ]
  },
  {
   "cell_type": "markdown",
   "metadata": {
    "tags": []
   },
   "source": [
    "## 예제 1.\n",
    "\n",
    "student_records.csv 파일은 2031년도 파이썬고급프로그래밍 수업을 듣는 **가상의** 학생들의 이름, 학번, 소속, 그리고 5 번의 시험 점수를 dictionary 형식으로 기록한 것이다. \n",
    "\n",
    "(학생들의 이름과 학번은 현재 파이썬프로그래밍기초 수업을 듣는 학생들의 이름을 임의로 조작하여 만든 가상의 이름과 학번입니다.)\n",
    "\n",
    "아래 셀의 프로그램은 csv 파일을 Dictionary로 읽는 것이다.\n",
    "\n",
    "아래 프로그램을 실행하여 보라."
   ]
  },
  {
   "cell_type": "code",
   "execution_count": 1,
   "metadata": {
    "tags": [],
    "ExecuteTime": {
     "end_time": "2023-10-09T12:10:42.716892500Z",
     "start_time": "2023-10-09T12:10:42.692373600Z"
    }
   },
   "outputs": [
    {
     "name": "stdout",
     "output_type": "stream",
     "text": [
      "{'이름': '길은영', '학번': '20267377', '소속': '일본학과', '학년': '3', '과제1': '61', '과제2': '69', '과제3': '46', '과제4': '79', '과제5': '57', '과제6': '77', '과제7': '56', '과제8': '65'}\n",
      "{'이름': '임희윤', '학번': '20337377', '소속': '심리학과', '학년': '2', '과제1': '76', '과제2': '62', '과제3': '62', '과제4': '64', '과제5': '77', '과제6': '100', '과제7': '51', '과제8': '94'}\n",
      "{'이름': '류준산', '학번': '20266173', '소속': '경제학과', '학년': '2', '과제1': '98', '과제2': '84', '과제3': '79', '과제4': '87', '과제5': '70', '과제6': '97', '과제7': '89', '과제8': '52'}\n",
      "{'이름': '한성빈', '학번': '20314864', '소속': '경제학과', '학년': '3', '과제1': '75', '과제2': '63', '과제3': '59', '과제4': '81', '과제5': '83', '과제6': '90', '과제7': '93', '과제8': '71'}\n",
      "{'이름': '김화원', '학번': '20277416', '소속': '경영학과', '학년': '3', '과제1': '45', '과제2': '90', '과제3': '86', '과제4': '94', '과제5': '94', '과제6': '52', '과제7': '76', '과제8': '84'}\n",
      "{'이름': '강화윤', '학번': '20278703', '소속': '생명과학과', '학년': '3', '과제1': '77', '과제2': '60', '과제3': '73', '과제4': '87', '과제5': '56', '과제6': '88', '과제7': '93', '과제8': '75'}\n",
      "{'이름': '나동호', '학번': '20307508', '소속': '의과학융합전공', '학년': '3', '과제1': '71', '과제2': '69', '과제3': '66', '과제4': '49', '과제5': '87', '과제6': '90', '과제7': '78', '과제8': '88'}\n",
      "{'이름': '장아주', '학번': '20327422', '소속': '소프트웨어융합대학', '학년': '1', '과제1': '73', '과제2': '85', '과제3': '53', '과제4': '55', '과제5': '64', '과제6': '64', '과제7': '62', '과제8': '43'}\n",
      "{'이름': '한은윤', '학번': '20315261', '소속': '소프트웨어융합대학', '학년': '1', '과제1': '83', '과제2': '84', '과제3': '70', '과제4': '82', '과제5': '62', '과제6': '97', '과제7': '84', '과제8': '85'}\n",
      "{'이름': '구준찬', '학번': '20318889', '소속': '소프트웨어융합대학', '학년': '1', '과제1': '57', '과제2': '79', '과제3': '60', '과제4': '58', '과제5': '75', '과제6': '65', '과제7': '81', '과제8': '61'}\n",
      "{'이름': '김승윤', '학번': '20337402', '소속': '소프트웨어융합대학', '학년': '1', '과제1': '71', '과제2': '99', '과제3': '99', '과제4': '59', '과제5': '87', '과제6': '97', '과제7': '41', '과제8': '78'}\n",
      "{'이름': '윤영우', '학번': '20267343', '소속': '소프트웨어융합대학', '학년': '1', '과제1': '57', '과제2': '67', '과제3': '63', '과제4': '94', '과제5': '59', '과제6': '96', '과제7': '92', '과제8': '95'}\n",
      "{'이름': '김성혁', '학번': '20287422', '소속': '소프트웨어융합대학', '학년': '1', '과제1': '93', '과제2': '81', '과제3': '99', '과제4': '88', '과제5': '55', '과제6': '45', '과제7': '81', '과제8': '95'}\n",
      "{'이름': '안성우', '학번': '20305207', '소속': '소프트웨어융합대학', '학년': '1', '과제1': '91', '과제2': '66', '과제3': '64', '과제4': '65', '과제5': '47', '과제6': '61', '과제7': '81', '과제8': '95'}\n",
      "{'이름': '현상연', '학번': '20328616', '소속': '빅데이터전공', '학년': '2', '과제1': '96', '과제2': '91', '과제3': '85', '과제4': '78', '과제5': '77', '과제6': '57', '과제7': '65', '과제8': '59'}\n",
      "{'이름': '이진찬', '학번': '20307484', '소속': '스마트IoT전공', '학년': '2', '과제1': '93', '과제2': '89', '과제3': '87', '과제4': '99', '과제5': '60', '과제6': '59', '과제7': '50', '과제8': '75'}\n",
      "{'이름': '이지훈', '학번': '20327392', '소속': '빅데이터전공', '학년': '2', '과제1': '91', '과제2': '90', '과제3': '76', '과제4': '90', '과제5': '87', '과제6': '91', '과제7': '72', '과제8': '69'}\n",
      "{'이름': '이재지', '학번': '20297439', '소속': '스마트IoT전공', '학년': '2', '과제1': '74', '과제2': '55', '과제3': '99', '과제4': '100', '과제5': '89', '과제6': '83', '과제7': '60', '과제8': '73'}\n",
      "{'이름': '임여영', '학번': '20297379', '소속': '콘텐츠IT전공', '학년': '2', '과제1': '81', '과제2': '76', '과제3': '68', '과제4': '55', '과제5': '52', '과제6': '85', '과제7': '82', '과제8': '64'}\n",
      "{'이름': '김한욱', '학번': '20277338', '소속': '스마트IoT전공', '학년': '2', '과제1': '58', '과제2': '50', '과제3': '62', '과제4': '96', '과제5': '96', '과제6': '73', '과제7': '78', '과제8': '92'}\n",
      "{'이름': '이상우', '학번': '20257356', '소속': '스마트IoT전공', '학년': '2', '과제1': '49', '과제2': '65', '과제3': '53', '과제4': '73', '과제5': '58', '과제6': '72', '과제7': '61', '과제8': '83'}\n",
      "{'이름': '김소윤', '학번': '20287329', '소속': '빅데이터전공', '학년': '2', '과제1': '52', '과제2': '65', '과제3': '79', '과제4': '69', '과제5': '77', '과제6': '99', '과제7': '62', '과제8': '52'}\n",
      "{'이름': '함궁혁', '학번': '20325215', '소속': '빅데이터전공', '학년': '2', '과제1': '70', '과제2': '60', '과제3': '87', '과제4': '89', '과제5': '84', '과제6': '93', '과제7': '60', '과제8': '62'}\n",
      "{'이름': '김민우', '학번': '20274344', '소속': '빅데이터전공', '학년': '3', '과제1': '63', '과제2': '46', '과제3': '84', '과제4': '87', '과제5': '91', '과제6': '51', '과제7': '65', '과제8': '62'}\n",
      "{'이름': '이수연', '학번': '20315232', '소속': '빅데이터전공', '학년': '3', '과제1': '97', '과제2': '62', '과제3': '62', '과제4': '61', '과제5': '57', '과제6': '72', '과제7': '97', '과제8': '61'}\n",
      "{'이름': '임수우', '학번': '20275884', '소속': '스마트IoT전공', '학년': '3', '과제1': '66', '과제2': '59', '과제3': '89', '과제4': '52', '과제5': '91', '과제6': '86', '과제7': '83', '과제8': '96'}\n",
      "{'이름': '이은석', '학번': '20267518', '소속': '빅데이터전공', '학년': '3', '과제1': '64', '과제2': '88', '과제3': '59', '과제4': '99', '과제5': '52', '과제6': '42', '과제7': '84', '과제8': '57'}\n",
      "{'이름': '나동민', '학번': '20267452', '소속': '콘텐츠IT전공', '학년': '3', '과제1': '71', '과제2': '69', '과제3': '89', '과제4': '90', '과제5': '84', '과제6': '60', '과제7': '71', '과제8': '96'}\n",
      "{'이름': '윤원헌', '학번': '20287476', '소속': '빅데이터전공', '학년': '3', '과제1': '98', '과제2': '98', '과제3': '80', '과제4': '72', '과제5': '80', '과제6': '65', '과제7': '89', '과제8': '88'}\n",
      "{'이름': '한재혁', '학번': '20275473', '소속': '콘텐츠IT전공', '학년': '3', '과제1': '89', '과제2': '73', '과제3': '74', '과제4': '83', '과제5': '61', '과제6': '69', '과제7': '54', '과제8': '56'}\n",
      "{'이름': '박민용', '학번': '20297366', '소속': '빅데이터전공', '학년': '3', '과제1': '50', '과제2': '63', '과제3': '91', '과제4': '72', '과제5': '59', '과제6': '99', '과제7': '73', '과제8': '88'}\n",
      "{'이름': '김동원', '학번': '20315272', '소속': '빅데이터전공', '학년': '3', '과제1': '98', '과제2': '79', '과제3': '95', '과제4': '70', '과제5': '75', '과제6': '57', '과제7': '50', '과제8': '98'}\n",
      "{'이름': '김주성', '학번': '20257459', '소속': '빅데이터전공', '학년': '3', '과제1': '67', '과제2': '89', '과제3': '65', '과제4': '70', '과제5': '58', '과제6': '46', '과제7': '89', '과제8': '59'}\n",
      "{'이름': '김재성', '학번': '20308862', '소속': 'ICT융합전공', '학년': '3', '과제1': '85', '과제2': '92', '과제3': '92', '과제4': '45', '과제5': '81', '과제6': '67', '과제7': '78', '과제8': '58'}\n",
      "{'이름': '채소규', '학번': '20297366', '소속': '컴퓨터공학과', '학년': '2', '과제1': '95', '과제2': '76', '과제3': '93', '과제4': '66', '과제5': '90', '과제6': '59', '과제7': '86', '과제8': '49'}\n",
      "{'이름': '이소원', '학번': '20274870', '소속': '전자공학과', '학년': '2', '과제1': '61', '과제2': '69', '과제3': '52', '과제4': '66', '과제5': '62', '과제6': '65', '과제7': '67', '과제8': '70'}\n",
      "{'이름': '권태민', '학번': '20316593', '소속': '전자공학과', '학년': '3', '과제1': '98', '과제2': '72', '과제3': '84', '과제4': '59', '과제5': '89', '과제6': '73', '과제7': '59', '과제8': '71'}\n",
      "{'이름': '백동성', '학번': '20268613', '소속': '전자공학과', '학년': '4', '과제1': '92', '과제2': '55', '과제3': '67', '과제4': '85', '과제5': '69', '과제6': '57', '과제7': '53', '과제8': '99'}\n",
      "{'이름': '장민하', '학번': '20263847', '소속': '빅데이터전공', '학년': '3', '과제1': '60', '과제2': '79', '과제3': '84', '과제4': '81', '과제5': '87', '과제6': '49', '과제7': '61', '과제8': '93'}\n",
      "{'이름': '류성연', '학번': '20293832', '소속': '빅데이터전공', '학년': '3', '과제1': '78', '과제2': '68', '과제3': '75', '과제4': '88', '과제5': '82', '과제6': '48', '과제7': '98', '과제8': '79'}\n",
      "{'이름': '김태찬', '학번': '20327409', '소속': '콘텐츠IT전공', '학년': '2', '과제1': '76', '과제2': '78', '과제3': '85', '과제4': '95', '과제5': '76', '과제6': '64', '과제7': '91', '과제8': '96'}\n",
      "{'이름': '임상헌', '학번': '20307406', '소속': '콘텐츠IT전공', '학년': '2', '과제1': '76', '과제2': '63', '과제3': '55', '과제4': '90', '과제5': '70', '과제6': '78', '과제7': '95', '과제8': '79'}\n",
      "{'이름': '안주영', '학번': '20255886', '소속': '빅데이터전공', '학년': '3', '과제1': '52', '과제2': '80', '과제3': '96', '과제4': '48', '과제5': '66', '과제6': '57', '과제7': '93', '과제8': '56'}\n",
      "{'이름': '구영수', '학번': '20317381', '소속': '빅데이터전공', '학년': '2', '과제1': '59', '과제2': '64', '과제3': '60', '과제4': '70', '과제5': '74', '과제6': '100', '과제7': '58', '과제8': '86'}\n",
      "{'이름': '이재수', '학번': '20327371', '소속': '콘텐츠IT전공', '학년': '2', '과제1': '56', '과제2': '86', '과제3': '98', '과제4': '85', '과제5': '65', '과제6': '70', '과제7': '93', '과제8': '57'}\n",
      "{'이름': '류상수', '학번': '20317399', '소속': '스마트IoT전공', '학년': '2', '과제1': '95', '과제2': '67', '과제3': '49', '과제4': '99', '과제5': '43', '과제6': '53', '과제7': '100', '과제8': '78'}\n",
      "{'이름': '함재원', '학번': '20317303', '소속': '콘텐츠IT전공', '학년': '2', '과제1': '82', '과제2': '67', '과제3': '79', '과제4': '89', '과제5': '74', '과제6': '71', '과제7': '60', '과제8': '57'}\n",
      "{'이름': '남예기', '학번': '20317548', '소속': '광고홍보학과', '학년': '2', '과제1': '58', '과제2': '64', '과제3': '52', '과제4': '84', '과제5': '65', '과제6': '55', '과제7': '82', '과제8': '74'}\n",
      "{'이름': '조대욱', '학번': '20256200', '소속': '빅데이터전공', '학년': '3', '과제1': '95', '과제2': '60', '과제3': '69', '과제4': '60', '과제5': '56', '과제6': '86', '과제7': '66', '과제8': '67'}\n",
      "{'이름': '함민윤', '학번': '20287478', '소속': '빅데이터전공', '학년': '2', '과제1': '47', '과제2': '70', '과제3': '100', '과제4': '77', '과제5': '97', '과제6': '63', '과제7': '46', '과제8': '84'}\n",
      "{'이름': '한영용', '학번': '20327534', '소속': '콘텐츠IT전공', '학년': '2', '과제1': '46', '과제2': '98', '과제3': '81', '과제4': '48', '과제5': '72', '과제6': '46', '과제7': '62', '과제8': '79'}\n",
      "{'이름': '이강현', '학번': '20297381', '소속': '빅데이터전공', '학년': '2', '과제1': '55', '과제2': '91', '과제3': '90', '과제4': '59', '과제5': '59', '과제6': '94', '과제7': '66', '과제8': '94'}\n",
      "{'이름': '심성영', '학번': '20287540', '소속': '빅데이터전공', '학년': '2', '과제1': '56', '과제2': '96', '과제3': '80', '과제4': '79', '과제5': '95', '과제6': '92', '과제7': '71', '과제8': '65'}\n",
      "{'이름': '이재빈', '학번': '20297433', '소속': '빅데이터전공', '학년': '2', '과제1': '80', '과제2': '53', '과제3': '43', '과제4': '66', '과제5': '85', '과제6': '78', '과제7': '82', '과제8': '66'}\n",
      "{'이름': '안용석', '학번': '20307376', '소속': '콘텐츠IT전공', '학년': '2', '과제1': '83', '과제2': '65', '과제3': '97', '과제4': '99', '과제5': '75', '과제6': '79', '과제7': '84', '과제8': '99'}\n",
      "{'이름': '조승환', '학번': '20287374', '소속': '컴퓨터공학과', '학년': '4', '과제1': '66', '과제2': '66', '과제3': '74', '과제4': '52', '과제5': '93', '과제6': '48', '과제7': '100', '과제8': '83'}\n",
      "{'이름': '길대민', '학번': '20317391', '소속': '빅데이터전공', '학년': '2', '과제1': '86', '과제2': '74', '과제3': '94', '과제4': '79', '과제5': '84', '과제6': '46', '과제7': '79', '과제8': '84'}\n",
      "{'이름': '정동주', '학번': '20317381', '소속': '광고홍보학과', '학년': '4', '과제1': '66', '과제2': '76', '과제3': '93', '과제4': '86', '과제5': '98', '과제6': '43', '과제7': '68', '과제8': '88'}\n",
      "{'이름': '권윤하', '학번': '20307408', '소속': '스마트IoT전공', '학년': '2', '과제1': '94', '과제2': '81', '과제3': '55', '과제4': '100', '과제5': '73', '과제6': '88', '과제7': '51', '과제8': '90'}\n",
      "{'이름': '함성현', '학번': '20285865', '소속': '빅데이터전공', '학년': '2', '과제1': '68', '과제2': '74', '과제3': '91', '과제4': '67', '과제5': '53', '과제6': '57', '과제7': '62', '과제8': '77'}\n",
      "{'이름': '길영규', '학번': '20277461', '소속': '경영학과', '학년': '2', '과제1': '89', '과제2': '93', '과제3': '59', '과제4': '97', '과제5': '99', '과제6': '67', '과제7': '75', '과제8': '67'}\n",
      "{'이름': '김규하', '학번': '20287555', '소속': '콘텐츠IT전공', '학년': '4', '과제1': '82', '과제2': '67', '과제3': '97', '과제4': '96', '과제5': '87', '과제6': '55', '과제7': '62', '과제8': '99'}\n",
      "{'이름': '신영성', '학번': '20298671', '소속': '데이터테크전공', '학년': '4', '과제1': '100', '과제2': '42', '과제3': '41', '과제4': '80', '과제5': '55', '과제6': '78', '과제7': '71', '과제8': '90'}\n",
      "{'이름': '고병훈', '학번': '20255161', '소속': '콘텐츠IT전공', '학년': '2', '과제1': '99', '과제2': '92', '과제3': '72', '과제4': '47', '과제5': '69', '과제6': '73', '과제7': '48', '과제8': '82'}\n",
      "{'이름': '최용원', '학번': '20319045', '소속': '국어국문학전공', '학년': '4', '과제1': '57', '과제2': '42', '과제3': '75', '과제4': '65', '과제5': '60', '과제6': '48', '과제7': '43', '과제8': '94'}\n",
      "{'이름': '유승현', '학번': '20293372', '소속': '빅데이터전공', '학년': '2', '과제1': '70', '과제2': '75', '과제3': '61', '과제4': '63', '과제5': '100', '과제6': '57', '과제7': '79', '과제8': '59'}\n",
      "{'이름': '이진우', '학번': '20317443', '소속': 'AI의료융합전공', '학년': '4', '과제1': '64', '과제2': '93', '과제3': '58', '과제4': '95', '과제5': '96', '과제6': '72', '과제7': '90', '과제8': '51'}\n",
      "{'이름': '임강규', '학번': '20287373', '소속': '빅데이터전공', '학년': '2', '과제1': '70', '과제2': '88', '과제3': '71', '과제4': '94', '과제5': '85', '과제6': '100', '과제7': '94', '과제8': '67'}\n",
      "{'이름': '정서성', '학번': '20287480', '소속': '빅데이터전공', '학년': '4', '과제1': '54', '과제2': '42', '과제3': '49', '과제4': '69', '과제5': '60', '과제6': '41', '과제7': '49', '과제8': '100'}\n",
      "{'이름': '배상윤', '학번': '20337358', '소속': '빅데이터전공', '학년': '2', '과제1': '98', '과제2': '58', '과제3': '60', '과제4': '53', '과제5': '43', '과제6': '65', '과제7': '100', '과제8': '79'}\n",
      "{'이름': '윤소산', '학번': '20257354', '소속': '경영학과', '학년': '3', '과제1': '49', '과제2': '67', '과제3': '52', '과제4': '71', '과제5': '91', '과제6': '73', '과제7': '60', '과제8': '54'}\n",
      "{'이름': '신한산', '학번': '20308787', '소속': '콘텐츠IT전공', '학년': '2', '과제1': '91', '과제2': '78', '과제3': '59', '과제4': '53', '과제5': '68', '과제6': '97', '과제7': '41', '과제8': '82'}\n",
      "{'이름': '윤주인', '학번': '20337397', '소속': '빅데이터전공', '학년': '4', '과제1': '68', '과제2': '62', '과제3': '78', '과제4': '52', '과제5': '65', '과제6': '99', '과제7': '63', '과제8': '80'}\n",
      "{'이름': '김여환', '학번': '20277462', '소속': '빅데이터전공', '학년': '2', '과제1': '64', '과제2': '65', '과제3': '87', '과제4': '66', '과제5': '92', '과제6': '76', '과제7': '78', '과제8': '97'}\n",
      "{'이름': '남용원', '학번': '20317536', '소속': '콘텐츠IT전공', '학년': '2', '과제1': '60', '과제2': '82', '과제3': '85', '과제4': '55', '과제5': '79', '과제6': '75', '과제7': '68', '과제8': '67'}\n",
      "{'이름': '이은경', '학번': '20318996', '소속': '빅데이터전공', '학년': '2', '과제1': '67', '과제2': '62', '과제3': '53', '과제4': '55', '과제5': '61', '과제6': '94', '과제7': '95', '과제8': '76'}\n"
     ]
    }
   ],
   "source": [
    "import csv\n",
    "with open('fake_student_records.csv', mode='r', encoding='utf-8') as csv_file:\n",
    "    csv_reader = csv.DictReader(csv_file)\n",
    "    for row in csv_reader:\n",
    "        print(row)"
   ]
  },
  {
   "cell_type": "markdown",
   "metadata": {},
   "source": [
    "### 문제 1.\n",
    "\n",
    "예제 1번에 주어진 프로그램을 최대한 이해해서 각 문장별로 자신이 이해한 내용을 상세히 기록하라.\n"
   ]
  },
  {
   "cell_type": "markdown",
   "metadata": {},
   "source": [
    "**답**\n",
    "- ### import csv \n",
    "먼저 파이썬의 csv 모듈을 임포트합니다. 이 모듈을 사용하여 CSV 파일을 처리할 수 있습니다.\n",
    "\n",
    "- ### with open('fake_student_records.csv', mode='r', encoding='utf-8') as csv_file: \n",
    "with 문을 사용하여 CSV 파일을 열고 파일을 자동으로 닫을 수 있는 환경을 만듭니다. 이 구문은 <br>\n",
    "'fake_student_records.csv' 파일을 읽기 모드('r')로 열고, UTF-8 인코딩을 사용하여 파일을 <br>\n",
    "읽습니다. csv_file 변수에 파일 핸들을 저장합니다.\n",
    "\n",
    "- ### csv_reader = csv.DictReader(csv_file) \n",
    "csv.DictReader 클래스를 사용하여 CSV 파일을 딕셔너리 형태로 읽습니다. 이 클래스는 CSV 파일의 <br>\n",
    "첫 번째 행을 헤더로 사용하고, 각 행을 딕셔너리로 변환하여 사용할 수 있게 해줍니다. csv_reader <br>\n",
    "변수에 이 리더 객체를 저장합니다.\n",
    "\n",
    "- ### for row in csv_reader:\n",
    "csv_reader를 이용하여 CSV 파일을 행 단위로 순회합니다. 각 행은 딕셔너리 형태로 표현됩니다.\n",
    "\n",
    "- ### print(row)\n",
    "각 행(딕셔너리)을 출력합니다. 이 코드는 CSV 파일의 모든 행을 읽어와서 각 행을 딕셔너리 형태로 <br>\n",
    "출력합니다.\n",
    "\n",
    "- ### 결과\n",
    "결과적으로 이 코드는 'fake_student_records.csv' 파일의 내용을 읽어와서 각 행을 딕셔너리로 <br>\n",
    "변환하여 출력합니다. 이렇게 CSV 파일을 처리하면 데이터를 쉽게 분석하거나 가공할 수 있습니다."
   ]
  },
  {
   "cell_type": "markdown",
   "metadata": {
    "tags": []
   },
   "source": [
    "### 예제 2\n",
    "\n",
    "아래 셀에 있는 프로그램은 'fake_student_records.csv' 파일에서 각 학생의 학번과 입학연도를 각각 콘솔에 출력하는 프로그램이다.\n",
    "\n",
    "아래 셀을 실행해 보라."
   ]
  },
  {
   "cell_type": "code",
   "execution_count": 2,
   "metadata": {
    "tags": [],
    "ExecuteTime": {
     "end_time": "2023-10-09T12:18:10.384290500Z",
     "start_time": "2023-10-09T12:18:10.373284800Z"
    }
   },
   "outputs": [
    {
     "name": "stdout",
     "output_type": "stream",
     "text": [
      "20267377 2026\n",
      "20337377 2033\n",
      "20266173 2026\n",
      "20314864 2031\n",
      "20277416 2027\n",
      "20278703 2027\n",
      "20307508 2030\n",
      "20327422 2032\n",
      "20315261 2031\n",
      "20318889 2031\n",
      "20337402 2033\n",
      "20267343 2026\n",
      "20287422 2028\n",
      "20305207 2030\n",
      "20328616 2032\n",
      "20307484 2030\n",
      "20327392 2032\n",
      "20297439 2029\n",
      "20297379 2029\n",
      "20277338 2027\n",
      "20257356 2025\n",
      "20287329 2028\n",
      "20325215 2032\n",
      "20274344 2027\n",
      "20315232 2031\n",
      "20275884 2027\n",
      "20267518 2026\n",
      "20267452 2026\n",
      "20287476 2028\n",
      "20275473 2027\n",
      "20297366 2029\n",
      "20315272 2031\n",
      "20257459 2025\n",
      "20308862 2030\n",
      "20297366 2029\n",
      "20274870 2027\n",
      "20316593 2031\n",
      "20268613 2026\n",
      "20263847 2026\n",
      "20293832 2029\n",
      "20327409 2032\n",
      "20307406 2030\n",
      "20255886 2025\n",
      "20317381 2031\n",
      "20327371 2032\n",
      "20317399 2031\n",
      "20317303 2031\n",
      "20317548 2031\n",
      "20256200 2025\n",
      "20287478 2028\n",
      "20327534 2032\n",
      "20297381 2029\n",
      "20287540 2028\n",
      "20297433 2029\n",
      "20307376 2030\n",
      "20287374 2028\n",
      "20317391 2031\n",
      "20317381 2031\n",
      "20307408 2030\n",
      "20285865 2028\n",
      "20277461 2027\n",
      "20287555 2028\n",
      "20298671 2029\n",
      "20255161 2025\n",
      "20319045 2031\n",
      "20293372 2029\n",
      "20317443 2031\n",
      "20287373 2028\n",
      "20287480 2028\n",
      "20337358 2033\n",
      "20257354 2025\n",
      "20308787 2030\n",
      "20337397 2033\n",
      "20277462 2027\n",
      "20317536 2031\n",
      "20318996 2031\n"
     ]
    }
   ],
   "source": [
    "import csv\n",
    "with open('fake_student_records.csv', mode='r', encoding='utf-8') as csv_file:\n",
    "    csv_reader = csv.DictReader(csv_file)\n",
    "    for row in csv_reader:\n",
    "        print(row['학번'], row['학번'][:4])\n"
   ]
  },
  {
   "cell_type": "markdown",
   "metadata": {},
   "source": [
    "### 문제 2.\n",
    "\n",
    "예제 2번에 주어진 프로그램을 최대한 이해해서 각 문장별로 자신이 이해한 내용을 상세히 기록하라."
   ]
  },
  {
   "cell_type": "markdown",
   "metadata": {},
   "source": [
    "**답**\n",
    "위의 코드 설명과 동일한 순서에서 출력부만 변경되었음으로, 출력줄 부분만 설명하겠습니다\n",
    "- ### print(row['학번'], row['학번'][:4])\n",
    "각 행(딕셔너리)에서 '학번' 키를 사용하여 학번을 출력하고, 이어서 같은 학번의 앞 4자리를 출력합니다. <br>\n",
    "row['학번']은 해당 행의 '학번' 열 값을 가져옵니다.\n",
    "\n",
    "- ### 결과\n",
    "결과적으로 이 코드는 'fake_student_records.csv' 파일을 읽어와서 각 행의 '학번' 열 값을 출력하고, 그 학번의 앞 4자리도 함께 출력합니다"
   ]
  },
  {
   "cell_type": "markdown",
   "metadata": {
    "tags": []
   },
   "source": [
    "### 예제 3.\n",
    "\n",
    "아래 프로그램은 학생의 이름과 학번을 키로 같는 딕셔러리들의 리스트에서 입학연도별 학생 수를 구하는 프로그램이다.\n",
    "\n",
    "아래 셀을 실행해서 결과를 살펴 보라."
   ]
  },
  {
   "cell_type": "code",
   "execution_count": null,
   "metadata": {
    "tags": []
   },
   "outputs": [],
   "source": [
    "records = [{'이름': '이재빈', '학번':'20297433'},\n",
    "{'이름': '안용석', '학번':'20307376'},\n",
    "{'이름': '조승환', '학번':'20287374'},\n",
    "{'이름': '길대민', '학번':'20317391'},\n",
    "{'이름': '정동주', '학번':'20317381'},\n",
    "{'이름': '권윤하', '학번':'20307408'},\n",
    "{'이름': '함성현', '학번':'20285865'},\n",
    "{'이름': '길영규', '학번':'20277461'},\n",
    "{'이름': '김규하', '학번':'20287555'},\n",
    "{'이름': '신영성', '학번':'20298671'},\n",
    "{'이름': '고병훈', '학번':'20255161'},\n",
    "{'이름': '최용원', '학번':'20319045'}]\n",
    "\n",
    "students_year = dict()\n",
    "for r in records:\n",
    "    year = r['학번'][:4]\n",
    "    if year in students_year:\n",
    "        students_year[year] += 1\n",
    "    else:\n",
    "        students_year[year] = 1\n",
    "print(students_year)\n",
    "for year in students_year:\n",
    "    print(year, students_year[year])"
   ]
  },
  {
   "cell_type": "markdown",
   "metadata": {},
   "source": [
    "### 문제 3.\n",
    "\n",
    "예제 3번에 주어진 프로그램을 최대한 이해해서 각 문장별로 자신이 이해한 내용을 상세히 기록하라."
   ]
  },
  {
   "cell_type": "markdown",
   "metadata": {},
   "source": [
    "**답**"
   ]
  },
  {
   "cell_type": "markdown",
   "metadata": {
    "tags": []
   },
   "source": [
    "### 문제 4.\n",
    "\n",
    "'fake_student_records.csv' 파일을 읽고 입학연도 별 학생 수를 콘솔에 출력하는 프로그램을 작성하라.\n",
    "\n",
    "실행 결과는 다음과 같아야 한다.\n",
    "\n",
    "\n",
    "2026 7\n",
    "\n",
    "2033 4\n",
    "\n",
    "2031 16\n",
    "\n",
    "2027 9\n",
    "\n",
    "2030 8\n",
    "\n",
    "2032 7\n",
    "\n",
    "2028 10\n",
    "\n",
    "2029 9\n",
    "\n",
    "2025 6\n"
   ]
  },
  {
   "cell_type": "code",
   "execution_count": null,
   "metadata": {
    "tags": []
   },
   "outputs": [],
   "source": [
    "          "
   ]
  },
  {
   "cell_type": "markdown",
   "metadata": {
    "tags": []
   },
   "source": [
    "### 예제 4.\n",
    "\n",
    "아래 프로그램은 예제 3에서 입학연도별 학생 수를 딕셔너리 형으로 구한 데이터를 이용해서 막대 그래프를 그리는 프로그램이다.\n",
    "\n",
    "아래 셀을 실행해서 결과를 살펴 보라."
   ]
  },
  {
   "cell_type": "code",
   "execution_count": 6,
   "metadata": {
    "tags": []
   },
   "outputs": [
    {
     "data": {
      "image/png": "[encoded data removed]",
      "text/plain": [
       "<Figure size 640x480 with 1 Axes>"
      ]
     },
     "metadata": {},
     "output_type": "display_data"
    }
   ],
   "source": [
    "import matplotlib.pyplot as plt\n",
    "\n",
    "students_year = {'2029': 2, '2030': 2, '2028': 3, '2031': 3, '2027': 1, '2025': 1}\n",
    "\n",
    "plt.bar(students_year.keys(), students_year.values())\n",
    "plt.show()"
   ]
  },
  {
   "cell_type": "code",
   "execution_count": null,
   "metadata": {},
   "outputs": [],
   "source": []
  },
  {
   "cell_type": "markdown",
   "metadata": {
    "tags": []
   },
   "source": [
    "### 문제 5.\n",
    "\n",
    "예제 5의 프로그램을 참고해서 예제 4에서 구한 입학연도별 학생 수를 막대그래프로 그리는 프로그램을 작성하라."
   ]
  },
  {
   "cell_type": "code",
   "execution_count": null,
   "metadata": {},
   "outputs": [],
   "source": []
  },
  {
   "cell_type": "markdown",
   "metadata": {},
   "source": [
    "### 문제 6. \n",
    "\n",
    "문자열을 파라미터로 받아서, 대문자와 소문자의 개수를 튜플로 반환하는 함수를 작성하라.\n"
   ]
  },
  {
   "cell_type": "code",
   "execution_count": null,
   "metadata": {
    "tags": []
   },
   "outputs": [],
   "source": [
    "def upper_and_lower(s):\n",
    "    "
   ]
  },
  {
   "cell_type": "markdown",
   "metadata": {},
   "source": [
    "### 문제 7. \n",
    "\n",
    "함수의 정의부에서 괄호 안의  '/'와 '*' 의 역할을 설명하라.\n"
   ]
  },
  {
   "cell_type": "markdown",
   "metadata": {},
   "source": [
    "**답**"
   ]
  },
  {
   "cell_type": "code",
   "execution_count": null,
   "metadata": {},
   "outputs": [],
   "source": []
  }
 ],
 "metadata": {
  "kernelspec": {
   "display_name": "Python 3 (ipykernel)",
   "language": "python",
   "name": "python3"
  },
  "language_info": {
   "codemirror_mode": {
    "name": "ipython",
    "version": 3
   },
   "file_extension": ".py",
   "mimetype": "text/x-python",
   "name": "python",
   "nbconvert_exporter": "python",
   "pygments_lexer": "ipython3",
   "version": "3.11.4"
  },
  "latex_envs": {
   "LaTeX_envs_menu_present": true,
   "autoclose": false,
   "autocomplete": true,
   "bibliofile": "biblio.bib",
   "cite_by": "apalike",
   "current_citInitial": 1,
   "eqLabelWithNumbers": true,
   "eqNumInitial": 1,
   "hotkeys": {
    "equation": "Ctrl-E",
    "itemize": "Ctrl-I"
   },
   "labels_anchors": false,
   "latex_user_defs": false,
   "report_style_numbering": false,
   "user_envs_cfg": false
  },
  "toc": {
   "base_numbering": 1,
   "nav_menu": {},
   "number_sections": false,
   "sideBar": true,
   "skip_h1_title": false,
   "title_cell": "Table of Contents",
   "title_sidebar": "Contents",
   "toc_cell": false,
   "toc_position": {
    "height": "calc(100% - 180px)",
    "left": "10px",
    "top": "150px",
    "width": "270.5px"
   },
   "toc_section_display": true,
   "toc_window_display": false
  }
 },
 "nbformat": 4,
 "nbformat_minor": 4
}
