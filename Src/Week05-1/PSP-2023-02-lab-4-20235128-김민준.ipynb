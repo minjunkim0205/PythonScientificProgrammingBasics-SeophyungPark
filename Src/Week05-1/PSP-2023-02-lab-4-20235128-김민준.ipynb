{
 "cells": [
  {
   "cell_type": "markdown",
   "metadata": {},
   "source": [
    "<h1 align='center'> 파이썬과학프로그래밍기초 실습 4</h1>\n",
    "\n",
    "<p style=\"text-align: right\"> 2023.10.5.</p>"
   ]
  },
  {
   "cell_type": "markdown",
   "metadata": {},
   "source": [
    "<div class=\"alert alert-block alert-info\">\n",
    "    \n",
    "- 파일 이름에서 00000000을 자신의 학번으로, name을 자신의 이름으로 수정하세요.\n",
    "\n",
    "- 다음 줄에 자신의 이름, 학번, 학과(전공)을 적으세요.\n",
    "\n",
    "* 이름:김민준   &nbsp;&nbsp;          학번:20235128    &nbsp;&nbsp;         학과(전공):소프트웨어융합\n",
    "    \n",
    "</div>\n",
    "\n",
    "- Jupyter notebook에 대한 설명은 [The Jupyter Notebook](https://jupyter-notebook.readthedocs.io/en/stable/)을  참고하라\n",
    "\n",
    "- Markdown은 [Markdown Guide](https://www.markdownguide.org/)를 참고하라.\n",
    "- [Markdown Cheat Sheet](https://www.markdownguide.org/cheat-sheet/)\n",
    "\n",
    "* 실습 과제 제출 마감: 10월 4일 (월) 오후 10:00"
   ]
  },
  {
   "cell_type": "markdown",
   "metadata": {},
   "source": [
    "### 문제 1.\n",
    "아래 셀에 있는 프로그램이 실행되는 과정을 설명하라."
   ]
  },
  {
   "cell_type": "code",
   "execution_count": 17,
   "metadata": {
    "tags": [],
    "ExecuteTime": {
     "end_time": "2023-09-27T00:18:46.037727700Z",
     "start_time": "2023-09-27T00:18:45.674611700Z"
    }
   },
   "outputs": [
    {
     "name": "stdout",
     "output_type": "stream",
     "text": [
      "[1]\n",
      "[1, 4]\n",
      "[1, 4, 7]\n"
     ]
    }
   ],
   "source": [
    "lst = []\n",
    "for _ in range(1, 10, 3):\n",
    "    lst.append(_)\n",
    "    print(lst)"
   ]
  },
  {
   "cell_type": "markdown",
   "metadata": {},
   "source": [
    "**답**\n",
    "for문의 range(1, 10, 3)에서 1부터 10이하의 3씩 증가하는 숫자들을 _에 반환해 for문을 돈다.\n",
    "for문 내부에는 lst라는 리스트에 for문이 돌때마다 _의값이 들어가고, 그 값이 들어간 상태의 lst를 출력해준다.\n",
    "즉 range(1, 10, 3)는 숫자 1, 4, 7 을 반환해 for문을 돌고, for문 내부에선 숫자들이 리스트에 추가 될때마다\n",
    "출력을 진행하기 때문에 순서대로 다음과 같은 출력을 보여준다"
   ]
  },
  {
   "cell_type": "markdown",
   "metadata": {},
   "source": [
    "### 문제 2.\n",
    "문제 1에서 구한 lst를 다음과 같이 리스트 컴프리헨션으로 표현할 수 있다. "
   ]
  },
  {
   "cell_type": "code",
   "execution_count": 18,
   "metadata": {
    "tags": [],
    "ExecuteTime": {
     "end_time": "2023-09-27T00:18:46.255612400Z",
     "start_time": "2023-09-27T00:18:45.706916800Z"
    }
   },
   "outputs": [
    {
     "name": "stdout",
     "output_type": "stream",
     "text": [
      "[1, 4, 7]\n"
     ]
    }
   ],
   "source": [
    "lst = [num for num in range(1, 10, 3)]\n",
    "print(lst)"
   ]
  },
  {
   "cell_type": "markdown",
   "metadata": {},
   "source": [
    "다음 프로그램을 리스트 컴프리헨션을 사용해서 다시 작성하라."
   ]
  },
  {
   "cell_type": "code",
   "execution_count": 19,
   "metadata": {
    "tags": [],
    "ExecuteTime": {
     "end_time": "2023-09-27T00:18:46.274908500Z",
     "start_time": "2023-09-27T00:18:45.718436400Z"
    }
   },
   "outputs": [
    {
     "name": "stdout",
     "output_type": "stream",
     "text": [
      "[1, 4, 9, 16, 25]\n"
     ]
    }
   ],
   "source": [
    "numbers = [1, 2, 3, 4, 5]\n",
    "squared_numbers = []\n",
    "\n",
    "for num in numbers:\n",
    "    squared_numbers.append(num ** 2)\n",
    "\n",
    "print(squared_numbers)"
   ]
  },
  {
   "cell_type": "markdown",
   "metadata": {},
   "source": [
    "**아래 셀에 답을 적으시오**"
   ]
  },
  {
   "cell_type": "code",
   "execution_count": 20,
   "metadata": {
    "ExecuteTime": {
     "end_time": "2023-09-27T00:18:46.274908500Z",
     "start_time": "2023-09-27T00:18:45.736385100Z"
    }
   },
   "outputs": [
    {
     "name": "stdout",
     "output_type": "stream",
     "text": [
      "[1, 4, 9, 16, 25]\n"
     ]
    }
   ],
   "source": [
    "# 답\n",
    "squared_numbers = [num**2 for num in range(1, 6, 1)]\n",
    "print(squared_numbers)"
   ]
  },
  {
   "cell_type": "markdown",
   "metadata": {},
   "source": [
    "### 문제 3.\n",
    "다음 프로그램을 리스트 컴프리헨션을 사용해서 다시 작성하라."
   ]
  },
  {
   "cell_type": "code",
   "execution_count": 21,
   "metadata": {
    "tags": [],
    "ExecuteTime": {
     "end_time": "2023-09-27T00:18:46.278920Z",
     "start_time": "2023-09-27T00:18:45.779587400Z"
    }
   },
   "outputs": [
    {
     "name": "stdout",
     "output_type": "stream",
     "text": [
      "[2, 4, 6, 8]\n"
     ]
    }
   ],
   "source": [
    "numbers = [1, 2, 3, 4, 5, 6, 7, 8, 9]\n",
    "even_numbers = []\n",
    "\n",
    "for num in numbers:\n",
    "    if num % 2 == 0:\n",
    "        even_numbers.append(num)\n",
    "\n",
    "print(even_numbers)"
   ]
  },
  {
   "cell_type": "markdown",
   "metadata": {},
   "source": [
    "**아래 셀에 답을 적으시오**"
   ]
  },
  {
   "cell_type": "code",
   "execution_count": 30,
   "metadata": {
    "tags": [],
    "ExecuteTime": {
     "end_time": "2023-09-27T00:22:29.738568800Z",
     "start_time": "2023-09-27T00:22:29.723516400Z"
    }
   },
   "outputs": [
    {
     "name": "stdout",
     "output_type": "stream",
     "text": [
      "[2, 4, 6, 8]\n"
     ]
    }
   ],
   "source": [
    "# 답\n",
    "even_numbers = [num for num in range(1, 10, 1) if (num%2 == 0)]\n",
    "print(even_numbers)"
   ]
  },
  {
   "cell_type": "markdown",
   "metadata": {},
   "source": [
    "### 문제 4.\n",
    "다음 프로그램을 리스트 컴프리헨션을 사용해서 다시 작성하라."
   ]
  },
  {
   "cell_type": "code",
   "execution_count": 23,
   "metadata": {
    "tags": [],
    "ExecuteTime": {
     "end_time": "2023-09-27T00:18:46.312576700Z",
     "start_time": "2023-09-27T00:18:45.860460600Z"
    }
   },
   "outputs": [
    {
     "name": "stdout",
     "output_type": "stream",
     "text": [
      "[1, 4, 27, 16, 125, 36, 343, 64, 729]\n"
     ]
    }
   ],
   "source": [
    "numbers = [1, 2, 3, 4, 5, 6, 7, 8, 9]\n",
    "weird_numbers = []\n",
    "\n",
    "for num in numbers:\n",
    "    if num % 2 == 0:\n",
    "        weird_numbers.append(num ** 2)\n",
    "    else:\n",
    "        weird_numbers.append(num ** 3)\n",
    "        \n",
    "print(weird_numbers)"
   ]
  },
  {
   "cell_type": "markdown",
   "metadata": {},
   "source": [
    "**아래 셀에 답을 적으시오**"
   ]
  },
  {
   "cell_type": "code",
   "execution_count": 32,
   "metadata": {
    "tags": [],
    "ExecuteTime": {
     "end_time": "2023-09-27T00:25:03.976738100Z",
     "start_time": "2023-09-27T00:25:03.964419600Z"
    }
   },
   "outputs": [
    {
     "name": "stdout",
     "output_type": "stream",
     "text": [
      "[1, 4, 27, 16, 125, 36, 343, 64, 729]\n"
     ]
    }
   ],
   "source": [
    "weird_numbers = [num**2 if (num%2==0) else num**3 for num in range(1, 10, 1)]\n",
    "print(weird_numbers)"
   ]
  },
  {
   "cell_type": "markdown",
   "metadata": {},
   "source": [
    "### 문제 5.\n",
    "다음 프로그램을 리스트 컴프리헨션을 사용해서 다시 작성하라."
   ]
  },
  {
   "cell_type": "code",
   "execution_count": 25,
   "metadata": {
    "tags": [],
    "ExecuteTime": {
     "end_time": "2023-09-27T00:18:46.347641700Z",
     "start_time": "2023-09-27T00:18:45.903888100Z"
    }
   },
   "outputs": [
    {
     "name": "stdout",
     "output_type": "stream",
     "text": [
      "['Other', 'Even', 'Divisible by 3', 'Even', 'Other', 'Even', 'Other', 'Even', 'Divisible by 3']\n"
     ]
    }
   ],
   "source": [
    "numbers = [1, 2, 3, 4, 5, 6, 7, 8, 9]\n",
    "categories = []\n",
    "\n",
    "for num in numbers:\n",
    "    if num % 2 == 0:\n",
    "        categories.append(\"Even\")\n",
    "    elif num % 3 == 0:\n",
    "        categories.append(\"Divisible by 3\")\n",
    "    else:\n",
    "        categories.append(\"Other\")\n",
    "\n",
    "print(categories)"
   ]
  },
  {
   "cell_type": "code",
   "execution_count": 35,
   "metadata": {
    "tags": [],
    "ExecuteTime": {
     "end_time": "2023-09-27T00:29:48.229238Z",
     "start_time": "2023-09-27T00:29:48.213411500Z"
    }
   },
   "outputs": [
    {
     "name": "stdout",
     "output_type": "stream",
     "text": [
      "['Other', 'Even', 'Divisible by 3', 'Even', 'Other', 'Even', 'Other', 'Even', 'Divisible by 3']\n"
     ]
    }
   ],
   "source": [
    "# 답\n",
    "categories = [\"Even\"if(num%2==0)else\"Divisible by 3\"if(num%3==0)else\"Other\" for num in range(1, 10, 1)]\n",
    "print(categories)"
   ]
  },
  {
   "cell_type": "markdown",
   "metadata": {},
   "source": [
    "### 문제 6.\n",
    "아래 두 셀은 search_value에 서로 다른 값이 할당되고, 그 이후 프로그램은 동일하다. 이 프로그램이 어떻게 동작되는지 이해하고, for-else 구문의 동작 방법을 설명하라."
   ]
  },
  {
   "cell_type": "code",
   "execution_count": 27,
   "metadata": {
    "tags": [],
    "ExecuteTime": {
     "end_time": "2023-09-27T00:18:46.375147200Z",
     "start_time": "2023-09-27T00:18:45.956948800Z"
    }
   },
   "outputs": [
    {
     "name": "stdout",
     "output_type": "stream",
     "text": [
      "Found 3 in the list.\n"
     ]
    }
   ],
   "source": [
    "search_list = [1, 2, 3, 4, 5]\n",
    "search_value = 3\n",
    "\n",
    "for item in search_list:\n",
    "    if item == search_value:\n",
    "        print(f\"Found {search_value} in the list.\")\n",
    "        break\n",
    "else:\n",
    "    print(f\"{search_value} not found in the list.\")"
   ]
  },
  {
   "cell_type": "code",
   "execution_count": 28,
   "metadata": {
    "tags": [],
    "ExecuteTime": {
     "end_time": "2023-09-27T00:18:46.396098900Z",
     "start_time": "2023-09-27T00:18:45.973098Z"
    }
   },
   "outputs": [
    {
     "name": "stdout",
     "output_type": "stream",
     "text": [
      "6 not found in the list.\n"
     ]
    }
   ],
   "source": [
    "search_value = 6\n",
    "\n",
    "for item in search_list:\n",
    "    if item == search_value:\n",
    "        print(f\"Found {search_value} in the list.\")\n",
    "        break\n",
    "else:\n",
    "    print(f\"{search_value} not found in the list.\")"
   ]
  },
  {
   "cell_type": "markdown",
   "metadata": {},
   "source": [
    "**답***"
   ]
  },
  {
   "cell_type": "markdown",
   "metadata": {},
   "source": []
  },
  {
   "cell_type": "markdown",
   "metadata": {},
   "source": [
    "### 문제 7.\n",
    "\n",
    "파이썬 데이터 구조에서 리스트와 딕셔너리 형 객체의 개별 원소에 접근하는 방식의 차이점을 설명하라."
   ]
  },
  {
   "cell_type": "raw",
   "metadata": {},
   "source": []
  },
  {
   "cell_type": "raw",
   "metadata": {},
   "source": []
  },
  {
   "cell_type": "markdown",
   "metadata": {},
   "source": [
    "## 예제 1.\n",
    "임의의 십진수을 키보드로 입력받아서 이진수 문자열로 변환하여 콘솔에 출력하는 Python 프로그램을 작성하고, 출력 포맷은 bin() 함수의 출력을 참조하되, bin() 함수를 사용하면 안된다. 그리고 키보드로 입력한 문자열이 정수가 아닌 경우에는 입력 오류 메시지를 콘솔에 출력하라.\n",
    "\n",
    "예: 아래 함수를 호출한 결과는 문자열 '0b10110'인데, 문자열의 앞 두 문자열 '0b'는 이진 문자열을 의미한다.\n",
    "\n",
    "bin(32)"
   ]
  },
  {
   "cell_type": "code",
   "execution_count": 28,
   "metadata": {
    "ExecuteTime": {
     "end_time": "2023-09-27T00:18:46.399094300Z",
     "start_time": "2023-09-27T00:18:45.983729200Z"
    }
   },
   "outputs": [],
   "source": []
  },
  {
   "cell_type": "code",
   "execution_count": 28,
   "metadata": {
    "ExecuteTime": {
     "end_time": "2023-09-27T00:18:46.411336300Z",
     "start_time": "2023-09-27T00:18:45.998482900Z"
    }
   },
   "outputs": [],
   "source": []
  },
  {
   "cell_type": "markdown",
   "metadata": {},
   "source": [
    "### 예제 2.\n",
    "\n",
    "n-비트 unsigned binary number string을 키보드로 입력하면 그것을 정수로 변환하여 출력하는 프로그램을 작성하라.\n",
    "\n",
    "예: 키보드로 11011 또는 0011011을 입력하면 27이 출력되어야 한다.\n",
    "\n",
    "이 프로그램에는 사용자가 키보드로 입력한 문자열이 이진 문자열이 아닌 경우에 오류 메시지를 콘솔에 출력하고 즉시 프로그램을 종료하는 기능이 포함되어야 한다.\n",
    "\n",
    "단, Try-else 구문을 사용하지 말고, if-else 구문을 사용한 프로그램을 작성해야 한다."
   ]
  },
  {
   "cell_type": "code",
   "execution_count": 28,
   "metadata": {
    "ExecuteTime": {
     "end_time": "2023-09-27T00:18:46.426841300Z",
     "start_time": "2023-09-27T00:18:46.016645300Z"
    }
   },
   "outputs": [],
   "source": []
  },
  {
   "cell_type": "markdown",
   "metadata": {},
   "source": [
    "### 예제 3.\n",
    "\n",
    "다음과 같은 8-bit minifloat format이 있다고 가정하자.\n",
    "\n",
    "\n",
    "\n",
    "<table style=\"border:1px solid black;\">\n",
    "    <thead>\n",
    "        <tr>\n",
    "            <th style=\"border:1px solid black;\">b7</th>\n",
    "            <th style=\"border:1px solid black;\">b6</th>\n",
    "            <th style=\"border:1px solid black;\">b5</th>\n",
    "            <th style=\"border:1px solid black;\">b4</th>\n",
    "            <th style=\"border:1px solid black;\">b3</th>\n",
    "            <th style=\"border:1px solid black;\">b2</th>\n",
    "            <th style=\"border:1px solid black;\">b1</th>\n",
    "            <th style=\"border:1px solid black;\">b0</th>\n",
    "        </tr>\n",
    "        <tr>\n",
    "            <td style=\"border:1px solid black;\">sign (1 bit)</td>\n",
    "            <td colspan=4 style=\"border:1px solid black;\">q = e + 7 (4 btis)</td>\n",
    "            <td colspan=3 style=\"border:1px solid black;\">mantissa (3 btis))</td>\n",
    "        </tr>\n",
    "    </thead>\n",
    "    \n",
    "</table>\n",
    "\n",
    "위 형식으로 표현된 8 bits 이진수를 10 진수 실수로 변환하면 다음과 같다.\n",
    "\n",
    "$$x=(-1)^s×(1.b_2 b_1 b_0)_2×2^e=(-1)^s×(1.b_2 b_1 b_0)_2×2^{q-7}$$\n",
    "\n",
    "여기에서, 다음 4 가지 이진수는 다음과 같은 의미를 갖는다고 정의하자.\n",
    "- 0 0000 000 = 0\n",
    "- 1 0000 000 = -0\n",
    "- 0 1111 000 = +infinity\n",
    "- 1 1111 000 = -infinity\n",
    "\n",
    "위의 4 가지 이진수 이외의 이진수들은 다음과 같이 변환된다.\n",
    "\n",
    "예를 들면, 0 1011 101은 다음과 같다.\n",
    "$$0 1011 101 = (-1)^0 \\times (1.101)_2\\times 2^{11-7}=(1.101)_2\\times 2^4=(11010)_2$$\n",
    "$$(11010)_2 = 0 \\times 1 + 1 \\times 2^1 + 0 \\times 2^2 + 1 \\times 2^3 + 1 \\times 2^4 = 2 + 8 + 16 = 26$$\n",
    "\n",
    "예를 들면, 1 0110 001은 다음과 같다.\n",
    "$$ 1 0110 001 = (-1)^1\\times(1.001)_2\\times2^{6-7}=-(1.001)_2\\times2^{-1}=-(0.1001)_2$$\n",
    "$$ -(0.1001)_2 = -\\left(1\\times 2^{-1} + 2^{-4} = 0.5 + 0.1625\\right) =  -0.5625$$\n",
    "\n",
    "\n",
    "키보드로 입력되는 8-bit 이진수를 minifloat format으로 해석해서 실수로 콘솔에 반환하는 프로그램을 작성하라.\n"
   ]
  },
  {
   "cell_type": "code",
   "execution_count": 28,
   "metadata": {
    "ExecuteTime": {
     "end_time": "2023-09-27T00:18:46.428833400Z",
     "start_time": "2023-09-27T00:18:46.028691400Z"
    }
   },
   "outputs": [],
   "source": []
  },
  {
   "cell_type": "code",
   "execution_count": 28,
   "metadata": {
    "ExecuteTime": {
     "end_time": "2023-09-27T00:18:46.429834800Z",
     "start_time": "2023-09-27T00:18:46.046191800Z"
    }
   },
   "outputs": [],
   "source": []
  }
 ],
 "metadata": {
  "kernelspec": {
   "display_name": "Python 3 (ipykernel)",
   "language": "python",
   "name": "python3"
  },
  "language_info": {
   "codemirror_mode": {
    "name": "ipython",
    "version": 3
   },
   "file_extension": ".py",
   "mimetype": "text/x-python",
   "name": "python",
   "nbconvert_exporter": "python",
   "pygments_lexer": "ipython3",
   "version": "3.11.4"
  },
  "latex_envs": {
   "LaTeX_envs_menu_present": true,
   "autoclose": false,
   "autocomplete": true,
   "bibliofile": "biblio.bib",
   "cite_by": "apalike",
   "current_citInitial": 1,
   "eqLabelWithNumbers": true,
   "eqNumInitial": 1,
   "hotkeys": {
    "equation": "Ctrl-E",
    "itemize": "Ctrl-I"
   },
   "labels_anchors": false,
   "latex_user_defs": false,
   "report_style_numbering": false,
   "user_envs_cfg": false
  },
  "toc": {
   "base_numbering": 1,
   "nav_menu": {},
   "number_sections": false,
   "sideBar": true,
   "skip_h1_title": false,
   "title_cell": "Table of Contents",
   "title_sidebar": "Contents",
   "toc_cell": false,
   "toc_position": {
    "height": "calc(100% - 180px)",
    "left": "10px",
    "top": "150px",
    "width": "270.5px"
   },
   "toc_section_display": true,
   "toc_window_display": false
  }
 },
 "nbformat": 4,
 "nbformat_minor": 4
}
