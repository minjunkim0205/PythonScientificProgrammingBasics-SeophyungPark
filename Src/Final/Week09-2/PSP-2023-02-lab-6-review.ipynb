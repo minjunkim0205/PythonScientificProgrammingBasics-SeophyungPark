{
 "cells": [
  {
   "cell_type": "markdown",
   "metadata": {},
   "source": [
    "<h1 align='center'> 파이썬과학프로그래밍기초 실습 6</h1>\n",
    "\n",
    "<p style=\"text-align: right\"> 2023.10.26.</p>"
   ]
  },
  {
   "cell_type": "markdown",
   "metadata": {},
   "source": [
    "\n",
    "<div class=\"alert alert-block alert-info\">\n",
    "    \n",
    "- 파일 이름에서 00000000을 자신의 학번으로, name을 자신의 이름으로 수정하세요.\n",
    "\n",
    "- 다음 줄에 자신의 이름, 학번, 학과(전공)을 적으세요.\n",
    "\n",
    "* 이름:김민준   &nbsp;&nbsp;          학번:20235128    &nbsp;&nbsp;         학과(전공):소프트웨어융합\n",
    "    \n",
    "</div>\n",
    "\n",
    "- JupyterLab 문서의 최신 버전은 [JupyterLab Documentation](https://jupyterlab.readthedocs.io/en/stable/index.html#/)을  참고하라\n",
    "\n",
    "- Markdown은 [Markdown Guide](https://www.markdownguide.org/)를 참고하라.\n",
    "- [Markdown Cheat Sheet](https://www.markdownguide.org/cheat-sheet/)\n",
    "\n",
    "* 제출 마감: **10월 25일 (수) 오후 10:00**까지 최종본을 SmartLEAD에 제출\n"
   ]
  },
  {
   "cell_type": "markdown",
   "metadata": {},
   "source": [
    "### 예제 1. 행렬의 곱셈\n",
    "\n",
    "아래 행렬의 곱셈을 손으로 직접 계산해 보자.\n",
    "\n",
    "행렬의 곱셈은 다음을 참조하라.\n",
    "\n",
    "https://en.wikipedia.org/wiki/Matrix_multiplication"
   ]
  },
  {
   "cell_type": "markdown",
   "metadata": {},
   "source": [
    "행렬 ${\\bf A}$와 ${\\bf B}$가 각각 다음과 같다.\n",
    "$${\\bf A} = \\begin{bmatrix}\n",
    "1 & 2 & 3 \\\\ 4 & 5 & 6 \n",
    " \\end{bmatrix}\n",
    " $$\n",
    " \n",
    "$$ {\\bf B} = \\begin{bmatrix}\n",
    " 1 & 2  \\\\ 3 & 4 \\\\ 5 & 6\n",
    " \\end{bmatrix}\n",
    " $$ \n",
    "\n",
    "두 행렬 ${\\bf A}$와 ${\\bf B}$를 곱하기 위해서는 행렬 ${\\bf A}$의 열의 개수와 행렬 ${\\bf  B}$의 행의 개수가 같아야 한다.\n",
    "\n",
    "다음 두 행렬에서 ${\\bf A}$는 $2\\times 3$ (2행 3열) 행렬이고, ${\\bf B}$는 $3\\times 2$ (3행 2열) 행렬이므로  ${\\bf AB}$를 구할 수 있다.\n",
    "\n",
    "\n",
    "행렬  ${\\bf A}$와 ${\\bf B}$의 곱은 다음과 같이 계산된다.\n",
    "\n",
    "$$  {\\bf C} = {\\bf AB} = \\begin{bmatrix}\n",
    " 1 & 2 & 3\\\\ 4 & 5 & 6 \n",
    " \\end{bmatrix}\n",
    " \\begin{bmatrix}\n",
    " 1 & 2  \\\\ 3 & 4 \\\\ 5 & 6\n",
    " \\end{bmatrix}\n",
    "  = \\begin{bmatrix}\n",
    "22 & 28 \\\\\n",
    "49 & 64 \n",
    " \\end{bmatrix}\n",
    " = \\begin{bmatrix}\n",
    "c_{11} & c_{12} \\\\\n",
    "c_{21} & c_{22} \n",
    " \\end{bmatrix}\n",
    "$$"
   ]
  },
  {
   "cell_type": "markdown",
   "metadata": {},
   "source": [
    "행렬 $ {\\bf C}$의 각 원소는 다음과 같이 계산된다.\n",
    "\n",
    "$$ {\\bf C} = \\begin{bmatrix}\n",
    "\\color{red}{c_{11}} & c_{12} \\\\\n",
    "c_{21} & c_{22} \n",
    " \\end{bmatrix} = \\begin{bmatrix}\n",
    " \\color{red}{1} & \\color{red}{2} & \\color{red}{3} \\\\ 4 & 5 & 6 \n",
    " \\end{bmatrix}\n",
    " \\begin{bmatrix}\n",
    " \\color{red}{1} & 2  \\\\ \\color{red}{3} & 4 \\\\ \\color{red}{5} & 6\n",
    " \\end{bmatrix} = \\begin{bmatrix}\n",
    " \\color{red}{(1)(1) + (2)(3) + (3)(5)} & (1)(2) + (2)(4) + (3)(6) \\\\\n",
    " (4)(1) + (5)(3) + (6)(5) & (4)(2) + (5)(4) + (6)(6)\n",
    " \\end{bmatrix}\n",
    " $$ "
   ]
  },
  {
   "cell_type": "markdown",
   "metadata": {},
   "source": [
    "$$ {\\bf C} = \\begin{bmatrix}\n",
    "c_{11} & \\color{red}{c_{12}} \\\\\n",
    "c_{21} & c_{22} \n",
    " \\end{bmatrix} =  \\begin{bmatrix}\n",
    " \\color{red}{1} & \\color{red}{2} & \\color{red}{3} \\\\ 4 & 5 & 6 \n",
    " \\end{bmatrix}\n",
    " \\begin{bmatrix}\n",
    " 1 & \\color{red}{2}  \\\\ 3 & \\color{red}{4} \\\\ 5 & \\color{red}{6}\n",
    " \\end{bmatrix} = \\begin{bmatrix}\n",
    " (1)(1) + (2)(3) + (3)(5) & \\color{red}{(1)(2) + (2)(4) + (3)(6)} \\\\\n",
    " (4)(1) + (5)(3) + (6)(5) & (4)(2) + (5)(4) + (6)(6)\n",
    " \\end{bmatrix}\n",
    " $$"
   ]
  },
  {
   "cell_type": "markdown",
   "metadata": {},
   "source": [
    "$$ {\\bf C} = \\begin{bmatrix}\n",
    "c_{11} & c_{12} \\\\\n",
    "\\color{red}{c_{21}} & c_{22} \n",
    " \\end{bmatrix}\n",
    "= \\begin{bmatrix}\n",
    " 1 & 2 & 3 \\\\ \\color{red}{4} & \\color{red}{5} & \\color{red}{6}\n",
    " \\end{bmatrix}\n",
    " \\begin{bmatrix}\n",
    " \\color{red}{1} & 2  \\\\ \\color{red}{3} & 4 \\\\ \\color{red}{5} & 6\n",
    " \\end{bmatrix} = \\begin{bmatrix}\n",
    " (1)(1) + (2)(3) + (3)(5) & (1)(2) + (2)(4) + (3)(6) \\\\\n",
    " \\color{red}{(4)(1) + (5)(3) + (6)(5)} & (4)(2) + (5)(4) + (6)(6)\n",
    " \\end{bmatrix}\n",
    " $$"
   ]
  },
  {
   "cell_type": "markdown",
   "metadata": {},
   "source": [
    "$$ {\\bf C} = \\begin{bmatrix}\n",
    "c_{11} & c_{12} \\\\\n",
    "c_{21} & \\color{red}{c_{22}} \n",
    " \\end{bmatrix} = \\begin{bmatrix}\n",
    " 1 & 2 & 3 \\\\ \\color{red}{4} & \\color{red}{5} & \\color{red}{6}\n",
    " \\end{bmatrix}\n",
    " \\begin{bmatrix}\n",
    "  1 & \\color{red}{2}  \\\\ 3 & \\color{red}{4} \\\\ 5 & \\color{red}{6}\n",
    " \\end{bmatrix} = \\begin{bmatrix}\n",
    " (1)(1) + (2)(3) + (3)(5) & (1)(2) + (2)(4) + (3)(6) \\\\\n",
    " (4)(1) + (5)(3) + (6)(5) & \\color{red}{(4)(2) + (5)(4) + (6)(6)}\n",
    " \\end{bmatrix}\n",
    " $$"
   ]
  },
  {
   "cell_type": "markdown",
   "metadata": {},
   "source": [
    "행렬 ${\\bf C}$는 다음과 같이 계산된다.\n",
    "\n",
    "$$ {\\bf C} = \\begin{bmatrix}\n",
    "c_{11} & c_{12} \\\\\n",
    "c_{21} & c_{22} \n",
    " \\end{bmatrix}\n",
    " = \\begin{bmatrix}\n",
    " (1)(1) + (2)(3) + (3)(5) & (1)(2) + (2)(4) + (3)(6) \\\\\n",
    " (4)(1) + (5)(3) + (6)(5) & (4)(2) + (5)(4) + (6)(6)\n",
    " \\end{bmatrix}\n",
    " = \\begin{bmatrix}\n",
    "22 & 28 \\\\\n",
    "49 & 64 \n",
    " \\end{bmatrix}\n",
    " $$"
   ]
  },
  {
   "cell_type": "markdown",
   "metadata": {},
   "source": [
    "### 예제 2.\n",
    "예제 1에서 구한 행렬 ${\\bf C}$의 $c_{11}$ 구하는 프로그램을 작성하라.\n",
    "\n",
    "주의: 행렬 원소의 인덱스는 1부터 시작하지만, Python 리스트 원소의 인덱스는 0부터 시작한다."
   ]
  },
  {
   "cell_type": "code",
   "execution_count": 17,
   "metadata": {
    "tags": [],
    "ExecuteTime": {
     "end_time": "2023-10-25T06:24:19.662048Z",
     "start_time": "2023-10-25T06:24:19.535892400Z"
    }
   },
   "outputs": [],
   "source": [
    "import numpy as np\n",
    "\n",
    "A = [[1,2,3], [4,5,6]]\n",
    "B = [[1,2], [3,4], [5,6]]"
   ]
  },
  {
   "cell_type": "code",
   "execution_count": 18,
   "metadata": {
    "tags": [],
    "ExecuteTime": {
     "end_time": "2023-10-25T06:24:19.772566600Z",
     "start_time": "2023-10-25T06:24:19.544892800Z"
    }
   },
   "outputs": [
    {
     "name": "stdout",
     "output_type": "stream",
     "text": [
      "22\n"
     ]
    }
   ],
   "source": [
    "c11 = A[0][0] * B[0][0] + A[0][1] * B[1][0] + A[0][2] * B[2][0]\n",
    "print(c11)"
   ]
  },
  {
   "cell_type": "markdown",
   "metadata": {},
   "source": [
    "### 문제 1.\n",
    "예제 2에서 구한 방법을 사용하여 행렬 ${\\bf C}$의 $c_{12}, c_{21}, c_{22}$를 각각 구하는 프로그램을 작성하라."
   ]
  },
  {
   "cell_type": "code",
   "execution_count": 19,
   "metadata": {
    "tags": [],
    "ExecuteTime": {
     "end_time": "2023-10-25T06:24:19.807426400Z",
     "start_time": "2023-10-25T06:24:19.561897600Z"
    }
   },
   "outputs": [
    {
     "name": "stdout",
     "output_type": "stream",
     "text": [
      "28\n"
     ]
    }
   ],
   "source": [
    "A = [[1,2,3], [4,5,6]]\n",
    "B = [[1,2], [3,4], [5,6]]\n",
    "\n",
    "c12 = A[0][0]*B[0][1] + A[0][1]*B[1][1] + A[0][2]*B[2][1]\n",
    "print(c12)"
   ]
  },
  {
   "cell_type": "code",
   "execution_count": 20,
   "metadata": {
    "tags": [],
    "ExecuteTime": {
     "end_time": "2023-10-25T06:24:19.827934700Z",
     "start_time": "2023-10-25T06:24:19.576408300Z"
    }
   },
   "outputs": [
    {
     "name": "stdout",
     "output_type": "stream",
     "text": [
      "49\n"
     ]
    }
   ],
   "source": [
    "A = [[1,2,3], [4,5,6]]\n",
    "B = [[1,2], [3,4], [5,6]]\n",
    "\n",
    "c21 = A[1][0]*B[0][0] + A[1][1]*B[1][0] + A[1][2]*B[2][0]\n",
    "print(c21)"
   ]
  },
  {
   "cell_type": "code",
   "execution_count": 21,
   "metadata": {
    "tags": [],
    "ExecuteTime": {
     "end_time": "2023-10-25T06:24:19.837939700Z",
     "start_time": "2023-10-25T06:24:19.592412700Z"
    }
   },
   "outputs": [
    {
     "name": "stdout",
     "output_type": "stream",
     "text": [
      "64\n"
     ]
    }
   ],
   "source": [
    "A = [[1,2,3], [4,5,6]]\n",
    "B = [[1,2], [3,4], [5,6]]\n",
    "\n",
    "c22 = A[1][0]*B[0][1] + A[1][1]*B[1][1] + A[1][2]*B[2][1]\n",
    "print(c22)"
   ]
  },
  {
   "cell_type": "markdown",
   "metadata": {
    "tags": []
   },
   "source": [
    "### 예제 3.\n",
    "예제 2에서 구한 행렬 ${\\bf C}$의 $c_{11}$ 구하는 프로그램을 for loop을 이용하여 다시 작성하라."
   ]
  },
  {
   "cell_type": "code",
   "execution_count": 22,
   "metadata": {
    "tags": [],
    "ExecuteTime": {
     "end_time": "2023-10-25T06:24:19.865067600Z",
     "start_time": "2023-10-25T06:24:19.608019100Z"
    }
   },
   "outputs": [
    {
     "name": "stdout",
     "output_type": "stream",
     "text": [
      "22\n"
     ]
    }
   ],
   "source": [
    "c11 = 0\n",
    "for k in range(3):\n",
    "    c11 += A[0][k] * B[k][0]\n",
    "print(c11)"
   ]
  },
  {
   "cell_type": "markdown",
   "metadata": {},
   "source": [
    "### 문제 2.\n",
    "예제 3을 참고해서 문제 1에서 구한 행렬 ${\\bf C}$의 $c_{12}, c_{21}, c_{22}$를 각각 구하는 프로그램을 for loop을 이용해서 다시 작성하라."
   ]
  },
  {
   "cell_type": "code",
   "execution_count": 23,
   "metadata": {
    "tags": [],
    "ExecuteTime": {
     "end_time": "2023-10-25T06:24:19.875070800Z",
     "start_time": "2023-10-25T06:24:19.623021400Z"
    }
   },
   "outputs": [
    {
     "name": "stdout",
     "output_type": "stream",
     "text": [
      "28\n"
     ]
    }
   ],
   "source": [
    "c12 = 0\n",
    "for k in range(3):\n",
    "    c12 += A[0][k] * B[k][1]\n",
    "print(c12)"
   ]
  },
  {
   "cell_type": "code",
   "execution_count": 24,
   "metadata": {
    "tags": [],
    "ExecuteTime": {
     "end_time": "2023-10-25T06:24:19.875070800Z",
     "start_time": "2023-10-25T06:24:19.638535600Z"
    }
   },
   "outputs": [
    {
     "name": "stdout",
     "output_type": "stream",
     "text": [
      "49\n"
     ]
    }
   ],
   "source": [
    "c21 = 0\n",
    "for k in range(3):\n",
    "    c21 += A[1][k] * B[k][0]\n",
    "print(c21)"
   ]
  },
  {
   "cell_type": "code",
   "execution_count": 25,
   "metadata": {
    "tags": [],
    "ExecuteTime": {
     "end_time": "2023-10-25T06:24:19.877067300Z",
     "start_time": "2023-10-25T06:24:19.654534300Z"
    }
   },
   "outputs": [
    {
     "name": "stdout",
     "output_type": "stream",
     "text": [
      "64\n"
     ]
    }
   ],
   "source": [
    "c22 = 0\n",
    "for k in range(3):\n",
    "    c22 += A[1][k] * B[k][1]\n",
    "print(c22)"
   ]
  },
  {
   "cell_type": "markdown",
   "metadata": {
    "tags": []
   },
   "source": [
    "### 예제 4.\n",
    "예제 3에서 구한 행렬 ${\\bf C}$의 $c_{11}$ 구하는 프로그램을 다음과 같이 리스트 컴프리헨션 sum() 함수를 이용하여 계산할 수 있다."
   ]
  },
  {
   "cell_type": "code",
   "execution_count": 26,
   "metadata": {
    "tags": [],
    "ExecuteTime": {
     "end_time": "2023-10-25T06:24:19.877067300Z",
     "start_time": "2023-10-25T06:24:19.670052800Z"
    }
   },
   "outputs": [
    {
     "name": "stdout",
     "output_type": "stream",
     "text": [
      "22\n"
     ]
    }
   ],
   "source": [
    "c11 = sum([A[0][k] * B[k][0] for k in range(3)])    \n",
    "print(c11)"
   ]
  },
  {
   "cell_type": "markdown",
   "metadata": {},
   "source": [
    "### 문제 3.\n",
    "예제 4를 참고해서 문제 2에서 구한 행렬 ${\\bf C}$의 $c_{12}, c_{21}, c_{22}$를 각각 구하는 프로그램을 다시 작성하라."
   ]
  },
  {
   "cell_type": "code",
   "execution_count": 27,
   "metadata": {
    "tags": [],
    "ExecuteTime": {
     "end_time": "2023-10-25T06:24:19.878571500Z",
     "start_time": "2023-10-25T06:24:19.686056700Z"
    }
   },
   "outputs": [
    {
     "name": "stdout",
     "output_type": "stream",
     "text": [
      "28\n"
     ]
    }
   ],
   "source": [
    "c12 = sum([A[0][k] * B[k][1] for k in range(3)])\n",
    "print(c12)"
   ]
  },
  {
   "cell_type": "code",
   "execution_count": 28,
   "metadata": {
    "tags": [],
    "ExecuteTime": {
     "end_time": "2023-10-25T06:24:19.878571500Z",
     "start_time": "2023-10-25T06:24:19.701746600Z"
    }
   },
   "outputs": [
    {
     "name": "stdout",
     "output_type": "stream",
     "text": [
      "49\n"
     ]
    }
   ],
   "source": [
    "c21 = sum([A[1][k] * B[k][0] for k in range(3)])\n",
    "print(c21)"
   ]
  },
  {
   "cell_type": "code",
   "execution_count": 29,
   "metadata": {
    "tags": [],
    "ExecuteTime": {
     "end_time": "2023-10-25T06:24:19.878571500Z",
     "start_time": "2023-10-25T06:24:19.716750500Z"
    }
   },
   "outputs": [
    {
     "name": "stdout",
     "output_type": "stream",
     "text": [
      "64\n"
     ]
    }
   ],
   "source": [
    "c22 = sum([A[1][k] * B[k][1] for k in range(3)])\n",
    "print(c22)"
   ]
  },
  {
   "cell_type": "markdown",
   "metadata": {},
   "source": [
    "### 예제 5.\n",
    "\n",
    "앞에서 두 행렬을 각각 다음과 같이 네스티드 리스트로 표현했을 때, 두 행렬의 행과 열의 개수를 각각 구하라.\n",
    "\n",
    "```\n",
    "A = [[1,2,3], [4,5,6]]\n",
    "B = [[1,2], [3,4], [5,6]]\n",
    "```"
   ]
  },
  {
   "cell_type": "code",
   "execution_count": 30,
   "metadata": {
    "tags": [],
    "ExecuteTime": {
     "end_time": "2023-10-25T06:24:19.902085Z",
     "start_time": "2023-10-25T06:24:19.748263700Z"
    }
   },
   "outputs": [
    {
     "name": "stdout",
     "output_type": "stream",
     "text": [
      "2\n"
     ]
    }
   ],
   "source": [
    "# A의 행의 개수\n",
    "print(len(A))"
   ]
  },
  {
   "cell_type": "code",
   "execution_count": 31,
   "metadata": {
    "tags": [],
    "ExecuteTime": {
     "end_time": "2023-10-25T06:24:19.904088100Z",
     "start_time": "2023-10-25T06:24:19.763562500Z"
    }
   },
   "outputs": [
    {
     "name": "stdout",
     "output_type": "stream",
     "text": [
      "3\n"
     ]
    }
   ],
   "source": [
    "# A의 열의 개수\n",
    "print(len(A[0]))"
   ]
  },
  {
   "cell_type": "markdown",
   "metadata": {},
   "source": [
    "### 예제 6.\n",
    "네스티드 리스트 A, B를 파라미터로 받아들여 행렬의 곱셈을 구하는 함수를 작성하라."
   ]
  },
  {
   "cell_type": "code",
   "execution_count": 35,
   "metadata": {
    "tags": [],
    "ExecuteTime": {
     "end_time": "2023-10-25T06:29:54.066082500Z",
     "start_time": "2023-10-25T06:29:54.018046800Z"
    }
   },
   "outputs": [
    {
     "data": {
      "text/plain": "[[22, 28], [49, 64]]"
     },
     "execution_count": 35,
     "metadata": {},
     "output_type": "execute_result"
    }
   ],
   "source": [
    "A = [[1,2,3], [4,5,6]]\n",
    "B = [[1,2], [3,4], [5,6]]\n",
    "\n",
    "def matrix_mul_list(A, B):\n",
    "    if len(A[0]) != len(B):\n",
    "        print('Two matrices cannot be multiplied.')\n",
    "        return []\n",
    "    else:\n",
    "        C = []\n",
    "        for n in range(len(A)):\n",
    "            row = []\n",
    "            for m in range(len(B[0])):\n",
    "                s = 0\n",
    "                for k in range(len(A[0])):\n",
    "                    s += A[n][k] * B[k][m]\n",
    "                row.append(s)\n",
    "            C.append(row)\n",
    "        return C\n",
    "    \n",
    "matrix_mul_list(A, B)"
   ]
  },
  {
   "cell_type": "markdown",
   "metadata": {
    "tags": []
   },
   "source": [
    "### 문제 4.\n",
    "\n",
    "예제 4와 문제 3을 참고해서, 예제 6의 프로그램을 수정한 함수 matrix_mul_list_2(A, B)를 아래 셀에 완성하라."
   ]
  },
  {
   "cell_type": "code",
   "execution_count": 41,
   "metadata": {
    "tags": [],
    "ExecuteTime": {
     "end_time": "2023-10-25T06:40:09.072137300Z",
     "start_time": "2023-10-25T06:40:09.055629100Z"
    }
   },
   "outputs": [],
   "source": [
    "def matrix_mul_list_2(A, B):\n",
    "    if len(A[0]) != len(B):\n",
    "        print('Two matrices cannot be multiplied.')\n",
    "        return []\n",
    "    else:\n",
    "        C = [[sum(A[i][k] * B[k][j] for k in range(len(A[0]))) for j in range(len(B[0]))]for i in range(len(A))]\n",
    "        return C"
   ]
  },
  {
   "cell_type": "code",
   "execution_count": 42,
   "metadata": {
    "tags": [],
    "ExecuteTime": {
     "end_time": "2023-10-25T06:40:10.221340200Z",
     "start_time": "2023-10-25T06:40:10.193916Z"
    }
   },
   "outputs": [
    {
     "data": {
      "text/plain": "[[22, 28], [49, 64]]"
     },
     "execution_count": 42,
     "metadata": {},
     "output_type": "execute_result"
    }
   ],
   "source": [
    "matrix_mul_list_2(A, B)"
   ]
  },
  {
   "cell_type": "code",
   "execution_count": 43,
   "metadata": {
    "tags": [],
    "ExecuteTime": {
     "end_time": "2023-10-25T06:40:11.285588800Z",
     "start_time": "2023-10-25T06:40:11.266546100Z"
    }
   },
   "outputs": [
    {
     "data": {
      "text/plain": "[[9, 12, 15], [19, 26, 33], [29, 40, 51]]"
     },
     "execution_count": 43,
     "metadata": {},
     "output_type": "execute_result"
    }
   ],
   "source": [
    "matrix_mul_list_2(B, A)"
   ]
  },
  {
   "cell_type": "markdown",
   "metadata": {
    "tags": []
   },
   "source": [
    "### 예제 5. (인덱스를 사용하지 않고 네스티드 리스트의 원소 접근하기)\n",
    "\n",
    "인덱스를 사용하지 않고 리스트 A = [[1,2,3], [4,5,6]]의 원소 1, 2, 3, 4, 5, 6 을 차례대로 콘솔에 출력하라"
   ]
  },
  {
   "cell_type": "code",
   "execution_count": 44,
   "metadata": {
    "tags": [],
    "ExecuteTime": {
     "end_time": "2023-10-25T06:40:32.528290900Z",
     "start_time": "2023-10-25T06:40:32.510778800Z"
    }
   },
   "outputs": [
    {
     "name": "stdout",
     "output_type": "stream",
     "text": [
      "1 2 3 \n",
      "4 5 6 \n"
     ]
    }
   ],
   "source": [
    "for row in A:\n",
    "    for e in row:\n",
    "        print(e, end=' ')\n",
    "    print()"
   ]
  },
  {
   "cell_type": "markdown",
   "metadata": {},
   "source": [
    "### 문제 5.\n",
    "\n",
    "아래 셀의 프로그램에서 zip() 함수가 하는 역할을 설명하라."
   ]
  },
  {
   "cell_type": "code",
   "execution_count": 45,
   "metadata": {
    "tags": [],
    "ExecuteTime": {
     "end_time": "2023-10-25T06:40:42.754641900Z",
     "start_time": "2023-10-25T06:40:42.739571500Z"
    }
   },
   "outputs": [
    {
     "name": "stdout",
     "output_type": "stream",
     "text": [
      "(1, 3, 5)\n",
      "(2, 4, 6)\n"
     ]
    }
   ],
   "source": [
    "for row in zip([1,2], [3,4], [5,6]):\n",
    "    print(row)"
   ]
  },
  {
   "cell_type": "markdown",
   "metadata": {},
   "source": [
    "**답**\n",
    "zip() 함수는 주어진 여러 개의 iterable(반복 가능한) 객체(리스트, 튜플, 등)를 병렬로 <br>\n",
    "묶어주는 역할을 합니다. 각 입력 iterable에서 동일한 위치에 있는 요소들을 튜플로 묶어 <br>\n",
    "새로운 iterable을 생성합니다. 이때, 입력 iterable 중 가장 짧은 길이를 가진 iterable이 <br>\n",
    "기준이 되어, 그 길이만큼만 요소가 묶입니다. <br>\n",
    "\n",
    "\n",
    "예를 들어, 주어진 코드에서 zip([1,2], [3,4], [5,6])는 [1,2], [3,4], [5,6] 이렇게 <br>\n",
    "세 개의 iterable에서 동일한 위치에 있는 요소를 묶어서 다음과 같이 튜플을 생성합니다: <br>\n",
    "\n",
    "\n",
    "(1, 3, 5)<br>\n",
    "(2, 4, 6)<br>"
   ]
  },
  {
   "cell_type": "markdown",
   "metadata": {},
   "source": [
    "### 문제 6.\n",
    "\n",
    "아래 셀의 프로그램에서 zip(*B) 가 하는 역할을 설명하라."
   ]
  },
  {
   "cell_type": "code",
   "execution_count": null,
   "metadata": {
    "ExecuteTime": {
     "start_time": "2023-10-25T06:24:19.836939300Z"
    }
   },
   "outputs": [],
   "source": [
    "print(B)\n",
    "print(list(zip(*B)))"
   ]
  },
  {
   "cell_type": "markdown",
   "metadata": {},
   "source": [
    "**답**\n",
    "주어진 코드에서 zip(*B)의 역할은 다음과 같습니다:\n",
    "\n",
    "B 리스트의 원소들을 분해: *B를 사용하면 B 리스트의 각 원소를 개별적인 인수로 분해합니다. 이것은 언패킹(unpacking)이라고도 합니다.\n",
    "\n",
    "zip() 함수 적용: 분해된 원소들을 zip() 함수의 인수로 전달합니다. zip() 함수는 각 입력 iterable(리스트)에서 동일한 위치에 있는 요소들을 묶어서 튜플을 생성합니다.\n",
    "\n",
    "튜플의 리스트 반환: zip() 함수의 결과는 각 원소를 튜플로 묶어서 리스트로 반환됩니다."
   ]
  },
  {
   "cell_type": "markdown",
   "metadata": {
    "tags": []
   },
   "source": [
    "### 예제 7.\n",
    "\n",
    "리스트 B로 표현된 행렬에서 두 컬럼을 콘솔에 출력하라."
   ]
  },
  {
   "cell_type": "code",
   "execution_count": null,
   "metadata": {
    "tags": [],
    "ExecuteTime": {
     "start_time": "2023-10-25T06:24:19.838940500Z"
    }
   },
   "outputs": [],
   "source": [
    "for col in zip(*B):\n",
    "    print(col)"
   ]
  },
  {
   "cell_type": "markdown",
   "metadata": {
    "tags": []
   },
   "source": [
    "### 예제 8.\n",
    "\n",
    "아래 셀은 예제 6의 프로그램을 인덱스를 사용하지 않고 변경한 프로그램이다."
   ]
  },
  {
   "cell_type": "code",
   "execution_count": null,
   "metadata": {
    "tags": [],
    "ExecuteTime": {
     "start_time": "2023-10-25T06:24:19.839941200Z"
    }
   },
   "outputs": [],
   "source": [
    "def matrix_mul_list_3(A, B):\n",
    "    if len(A[0]) != len(B):\n",
    "        print('Two matrices cannot be multiplied.')\n",
    "        return []\n",
    "    else:\n",
    "        C = []\n",
    "        for A_row in A:\n",
    "            C_row = []\n",
    "            for B_col in zip(*B):\n",
    "                s = 0\n",
    "                for a, b in zip(A_row, B_col):\n",
    "                    s += a * b\n",
    "                C_row.append(s)\n",
    "            C.append(C_row)\n",
    "        return C"
   ]
  },
  {
   "cell_type": "code",
   "execution_count": null,
   "metadata": {
    "tags": [],
    "ExecuteTime": {
     "start_time": "2023-10-25T06:24:19.841942200Z"
    }
   },
   "outputs": [],
   "source": [
    "matrix_mul_list_3(A, B)"
   ]
  },
  {
   "cell_type": "markdown",
   "metadata": {},
   "source": [
    "### 문제 7.\n",
    "\n",
    "아래 셀에 주어진 함수는 예제 8에 주어진 함수를 리스트 컴프리헨션을 사용하여 다시 작성한 것이다. 빈 부분을 완성하라."
   ]
  },
  {
   "cell_type": "code",
   "execution_count": 46,
   "metadata": {
    "tags": [],
    "ExecuteTime": {
     "end_time": "2023-10-25T06:45:24.512789900Z",
     "start_time": "2023-10-25T06:45:24.500631200Z"
    }
   },
   "outputs": [],
   "source": [
    "def matrix_mul_list_4(A, B):\n",
    "    if len(A[0]) != len(B):\n",
    "        print('Two matrices cannot be multiplied.')\n",
    "        return []\n",
    "    else:\n",
    "        C = [[sum(A[i][k] * B[k][j] for k in range(len(A[0]))) for j in range(len(B[0]))]for i in range(len(A))]\n",
    "        return C"
   ]
  },
  {
   "cell_type": "code",
   "execution_count": 47,
   "metadata": {
    "tags": [],
    "ExecuteTime": {
     "end_time": "2023-10-25T06:45:25.159885900Z",
     "start_time": "2023-10-25T06:45:25.149880500Z"
    }
   },
   "outputs": [
    {
     "data": {
      "text/plain": "[[22, 28], [49, 64]]"
     },
     "execution_count": 47,
     "metadata": {},
     "output_type": "execute_result"
    }
   ],
   "source": [
    "matrix_mul_list_4(A, B)"
   ]
  },
  {
   "cell_type": "markdown",
   "metadata": {},
   "source": [
    "### 문제 8. \n",
    "zip 함수를 이용하면 두 개의 iterables의 같은 위치에 있는 원소의 tuple을 원소로 갖는 iterable을 만들 수 있다.\n",
    "\n",
    "```\n",
    "provinces = ['경기도', '강원도']\n",
    "cities = ['수원', '춘천']\n",
    "result = list(zip(provinces, cities))\n",
    "print(result)\n",
    "```\n",
    "\n",
    "위 네 줄을 실행하면 다음 결과를 얻는다.\n",
    "\n",
    "[('경기도', '수원'), ('강원도', '춘천')]\n",
    "\n",
    "\n",
    "map 함수를 이용하여 result를 구하여라."
   ]
  },
  {
   "cell_type": "code",
   "execution_count": 18,
   "metadata": {
    "ExecuteTime": {
     "end_time": "2023-10-26T05:24:46.613401900Z",
     "start_time": "2023-10-26T05:24:46.598376900Z"
    }
   },
   "outputs": [
    {
     "name": "stdout",
     "output_type": "stream",
     "text": [
      "[('경기도', '수원'), ('강원도', '춘천')]\n"
     ]
    }
   ],
   "source": [
    "provinces = ['경기도', '강원도']\n",
    "cities = ['수원', '춘천']\n",
    "result = list(map(lambda x, y: (x, y), provinces, cities))\n",
    "print(result)"
   ]
  },
  {
   "cell_type": "code",
   "execution_count": null,
   "metadata": {
    "ExecuteTime": {
     "start_time": "2023-10-25T06:24:19.848067700Z"
    }
   },
   "outputs": [],
   "source": []
  },
  {
   "cell_type": "code",
   "execution_count": 12,
   "outputs": [
    {
     "name": "stdout",
     "output_type": "stream",
     "text": [
      "[[3, 6, 9], [12, 15, 18]]\n",
      "[[8, 10, 12], [14, 16, 18]]\n",
      "[[25, 28], [73, 82]]\n",
      "[[1, 4], [2, 5], [3, 6]]\n"
     ]
    }
   ],
   "source": [
    "'''Function'''\n",
    "class Matrix:\n",
    "    @staticmethod\n",
    "    def scalarMultiplication(k:int, a:list) -> list:\n",
    "        n:list=[]\n",
    "        for r in range(0, len(a), 1):\n",
    "            cells:list=[]\n",
    "            for c in range(0, len(a[0]), 1):\n",
    "                cells.append(a[r][c]*k)\n",
    "            n.append(cells)\n",
    "        return n\n",
    "    @staticmethod\n",
    "    def multiplication(a:list, b:list) -> list:\n",
    "        if(len(a[0])!=len(b)):\n",
    "            return []\n",
    "        else:\n",
    "            n:list=[]\n",
    "            for r in range(0, len(a), 1):\n",
    "                cells:list=[]\n",
    "                for c in range(0, len(b[0]), 1):\n",
    "                    cell:int=0\n",
    "                    for i in range(0, len(a), 1):\n",
    "                        cell += a[r][i]*b[i][c]\n",
    "                    cells.append(cell)\n",
    "                n.append(cells)\n",
    "            return n\n",
    "    @staticmethod\n",
    "    def addition(a:list, b:list) -> list:\n",
    "        if(len(a)!=len(b) or len(a[0])!=len(b[0])):\n",
    "            return []\n",
    "        else:\n",
    "            n:list=[]\n",
    "            for r in range(0, len(a), 1):\n",
    "                cells:list=[]\n",
    "                for c in range(0, len(a[0]), 1):\n",
    "                    cells.append(a[r][c]+b[r][c])\n",
    "                n.append(cells)\n",
    "            return n\n",
    "    @staticmethod\n",
    "    def transposed(a:list) -> list:\n",
    "        n:list=[]\n",
    "        for r in range(0, len(a[0]), 1):\n",
    "            cells:list=[]\n",
    "            for c in range(0, len(a), 1):\n",
    "                cells.append(a[c][r])\n",
    "            n.append(cells)\n",
    "        return n\n",
    "'''Main'''\n",
    "def main():\n",
    "    A = [[1 , 2 , 3 ],\n",
    "         [4 , 5 , 6 ]]\n",
    "    \n",
    "    B = [[7 , 8 ],\n",
    "         [9 , 10],\n",
    "         [11, 12]]\n",
    "\n",
    "    C = [[7 , 8 , 9 ],\n",
    "         [10, 11, 12]]\n",
    "\n",
    "    matrix:Matrix=Matrix()\n",
    "    print(matrix.scalarMultiplication(3, A), end=\"\\n\")\n",
    "    print(matrix.addition(A, C), end=\"\\n\")\n",
    "    print(matrix.multiplication(A, B), end=\"\\n\")\n",
    "    print(matrix.transposed(A), end=\"\\n\")\n",
    "\n",
    "if __name__ == \"__main__\":\n",
    "    main()"
   ],
   "metadata": {
    "collapsed": false,
    "ExecuteTime": {
     "end_time": "2023-10-26T04:55:20.347829200Z",
     "start_time": "2023-10-26T04:55:20.329697500Z"
    }
   }
  },
  {
   "cell_type": "markdown",
   "source": [],
   "metadata": {
    "collapsed": false
   }
  },
  {
   "cell_type": "code",
   "execution_count": 16,
   "outputs": [
    {
     "name": "stdout",
     "output_type": "stream",
     "text": [
      "[[1 2 3]\n",
      " [4 5 6]]\n",
      "[[ 7  8]\n",
      " [ 9 10]\n",
      " [11 12]]\n",
      "[[ 58  64]\n",
      " [139 154]]\n",
      "<class 'numpy.ndarray'>\n"
     ]
    }
   ],
   "source": [
    "'''import'''\n",
    "import numpy\n",
    "'''main'''\n",
    "def main():\n",
    "    A = [[1 , 2 , 3 ],\n",
    "         [4 , 5 , 6 ]]\n",
    "\n",
    "    B = [[7 , 8 ],\n",
    "         [9 , 10],\n",
    "         [11, 12]]\n",
    "    \n",
    "    A = numpy.array(A)\n",
    "    B = numpy.array(B)\n",
    "    print(A, end=\"\\n\")\n",
    "    print(B, end=\"\\n\")\n",
    "    print(numpy.dot(A, B), end=\"\\n\") #내적\n",
    "    print(type(A), end=\"\\n\")\n",
    "    \n",
    "if __name__==\"__main__\":\n",
    "    main()"
   ],
   "metadata": {
    "collapsed": false,
    "ExecuteTime": {
     "end_time": "2023-10-26T05:08:32.233087300Z",
     "start_time": "2023-10-26T05:08:32.215559400Z"
    }
   }
  },
  {
   "cell_type": "code",
   "execution_count": 17,
   "outputs": [
    {
     "name": "stdout",
     "output_type": "stream",
     "text": [
      "[[1 2 3]\n",
      " [4 5 6]]\n",
      "[[ 7  8]\n",
      " [ 9 10]\n",
      " [11 12]]\n",
      "[[ 58  64]\n",
      " [139 154]]\n",
      "<class 'numpy.matrix'>\n"
     ]
    }
   ],
   "source": [
    "'''import'''\n",
    "import numpy\n",
    "'''main'''\n",
    "def main():\n",
    "    A = [[1 , 2 , 3 ],\n",
    "         [4 , 5 , 6 ]]\n",
    "\n",
    "    B = [[7 , 8 ],\n",
    "         [9 , 10],\n",
    "         [11, 12]]\n",
    "\n",
    "    A = numpy.matrix(A)\n",
    "    B = numpy.matrix(B)\n",
    "    print(A, end=\"\\n\")\n",
    "    print(B, end=\"\\n\")\n",
    "    print(numpy.dot(A, B), end=\"\\n\") #내적\n",
    "    print(type(A), end=\"\\n\")\n",
    "\n",
    "if __name__==\"__main__\":\n",
    "    main()"
   ],
   "metadata": {
    "collapsed": false,
    "ExecuteTime": {
     "end_time": "2023-10-26T05:08:34.341058Z",
     "start_time": "2023-10-26T05:08:34.328036900Z"
    }
   }
  },
  {
   "cell_type": "markdown",
   "source": [
    "map, reduce 더 공부하기"
   ],
   "metadata": {
    "collapsed": false
   }
  }
 ],
 "metadata": {
  "kernelspec": {
   "display_name": "Python 3 (ipykernel)",
   "language": "python",
   "name": "python3"
  },
  "language_info": {
   "codemirror_mode": {
    "name": "ipython",
    "version": 3
   },
   "file_extension": ".py",
   "mimetype": "text/x-python",
   "name": "python",
   "nbconvert_exporter": "python",
   "pygments_lexer": "ipython3",
   "version": "3.11.5"
  },
  "latex_envs": {
   "LaTeX_envs_menu_present": true,
   "autoclose": false,
   "autocomplete": true,
   "bibliofile": "biblio.bib",
   "cite_by": "apalike",
   "current_citInitial": 1,
   "eqLabelWithNumbers": true,
   "eqNumInitial": 1,
   "hotkeys": {
    "equation": "Ctrl-E",
    "itemize": "Ctrl-I"
   },
   "labels_anchors": false,
   "latex_user_defs": false,
   "report_style_numbering": false,
   "user_envs_cfg": false
  },
  "toc": {
   "base_numbering": 1,
   "nav_menu": {},
   "number_sections": false,
   "sideBar": true,
   "skip_h1_title": false,
   "title_cell": "Table of Contents",
   "title_sidebar": "Contents",
   "toc_cell": false,
   "toc_position": {
    "height": "calc(100% - 180px)",
    "left": "10px",
    "top": "150px",
    "width": "270.5px"
   },
   "toc_section_display": true,
   "toc_window_display": false
  }
 },
 "nbformat": 4,
 "nbformat_minor": 4
}
