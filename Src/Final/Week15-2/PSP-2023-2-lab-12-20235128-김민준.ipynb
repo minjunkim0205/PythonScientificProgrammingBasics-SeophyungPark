{
 "cells": [
  {
   "cell_type": "markdown",
   "metadata": {
    "slideshow": {
     "slide_type": "slide"
    }
   },
   "source": [
    "<h1 align='center'> 파이썬과학프로그래밍기초 실습 12</h1>\n",
    "\n",
    "<p style=\"text-align: right\"> 2023.11.4.</p>"
   ]
  },
  {
   "cell_type": "markdown",
   "metadata": {
    "slideshow": {
     "slide_type": "slide"
    }
   },
   "source": [
    "# <div class=\"alert alert-block alert-info\">\n",
    "    \n",
    "- 파일 이름에서 00000000을 자신의 학번으로, name을 자신의 이름으로 수정하세요.\n",
    "\n",
    "- 다음 줄에 자신의 이름, 학번, 학과(전공)을 적으세요.\n",
    "\n",
    "* 이름:   &nbsp;&nbsp;          학번:    &nbsp;&nbsp;         학과(전공):\n",
    "    \n",
    "</div>\n",
    "\n",
    "- Jupyter notebook에 대한 설명은 [The Jupyter Notebook](https://jupyter-notebook.readthedocs.io/en/stable/)을  참고하라\n",
    "\n",
    "- Markdown은 [Markdown Guide](https://www.markdownguide.org/)를 참고하라.\n",
    "- [Markdown Cheat Sheet](https://www.markdownguide.org/cheat-sheet/)\n",
    "\n",
    "* 과제 제출: 11월 3일 (일) 오후 22:00까지 최종본 제출. \n"
   ]
  },
  {
   "cell_type": "code",
   "execution_count": 1,
   "metadata": {
    "slideshow": {
     "slide_type": "slide"
    },
    "tags": []
   },
   "outputs": [],
   "source": [
    "import numpy as np\n",
    "import pandas as pd\n",
    "import matplotlib.pyplot as plt"
   ]
  },
  {
   "cell_type": "markdown",
   "metadata": {
    "slideshow": {
     "slide_type": "slide"
    }
   },
   "source": [
    "## 문제 1.\n",
    "\n",
    "fake_student_records_2.csv 파일을 읽어서 DataFrame 객체 scores를 만들어라. 단, '이름' column을 index로 지정해야 한다."
   ]
  },
  {
   "cell_type": "code",
   "execution_count": null,
   "metadata": {
    "tags": []
   },
   "outputs": [],
   "source": []
  },
  {
   "cell_type": "code",
   "execution_count": null,
   "metadata": {
    "tags": []
   },
   "outputs": [],
   "source": []
  },
  {
   "cell_type": "markdown",
   "metadata": {
    "slideshow": {
     "slide_type": "slide"
    }
   },
   "source": [
    "## 문제 2.\n",
    "\n",
    "'과제1' 점수가 95 점 이상인 학생들의 이름을 원소로 갖는 리스트를 만들어서 출력하라.\n",
    "\n",
    "결과는 다음과 같아야 한다.\n",
    "\n",
    "```\n",
    "['류준산',\n",
    " '현상연',\n",
    " '이수연',\n",
    " '윤원헌',\n",
    " '김동원',\n",
    " '채소규',\n",
    " '권태민',\n",
    " '류상수',\n",
    " '조대욱',\n",
    " '신영성',\n",
    " '고병훈',\n",
    " '배상윤']```"
   ]
  },
  {
   "cell_type": "code",
   "execution_count": null,
   "metadata": {
    "tags": []
   },
   "outputs": [],
   "source": []
  },
  {
   "cell_type": "markdown",
   "metadata": {
    "slideshow": {
     "slide_type": "slide"
    }
   },
   "source": [
    "### 문제 3.\n",
    "\n",
    "8 번의 과제 점수가 모두 60 점 이상인 학생들의 이름을 원소로 갖는 리스트를 만들어서 출력하라.\n",
    "\n",
    "결과는 다음과 같아야 한다.\n",
    "```\n",
    "['김성혁', '안성우', '윤원헌', '조대욱']\n",
    "```"
   ]
  },
  {
   "cell_type": "code",
   "execution_count": null,
   "metadata": {
    "tags": []
   },
   "outputs": [],
   "source": []
  },
  {
   "cell_type": "markdown",
   "metadata": {
    "slideshow": {
     "slide_type": "slide"
    }
   },
   "source": [
    "### 문제 4.\n",
    "\n",
    "8 번의 과제의 평균 점수를 series로 구하라.\n",
    "\n",
    "결과는 다음과 같아야 한다.\n",
    "```\n",
    "과제1    73.710526\n",
    "과제2    63.131579\n",
    "과제3    55.131579\n",
    "과제4    62.684211\n",
    "과제5    66.947368\n",
    "과제6    61.960526\n",
    "과제7    72.763158\n",
    "과제8    76.223684\n",
    "```"
   ]
  },
  {
   "cell_type": "code",
   "execution_count": null,
   "metadata": {
    "tags": []
   },
   "outputs": [],
   "source": []
  },
  {
   "cell_type": "markdown",
   "metadata": {
    "slideshow": {
     "slide_type": "slide"
    }
   },
   "source": [
    "### 문제 5.\n",
    "\n",
    "8 번의 과제 점수가 모두 각 과제의 평균 점수 이상인 학생들의 이름을 원소로 갖는 리스트를 만들어서 출력하라.\n",
    "\n",
    "결과는 다음과 같아야 한다.\n",
    "```\n",
    "['김성혁', '윤원헌', '채소규']\n",
    "```"
   ]
  },
  {
   "cell_type": "code",
   "execution_count": null,
   "metadata": {
    "tags": []
   },
   "outputs": [],
   "source": []
  },
  {
   "cell_type": "markdown",
   "metadata": {
    "slideshow": {
     "slide_type": "slide"
    }
   },
   "source": [
    "### 문제 6.\n",
    "\n",
    "'시험3' 점수가 70 점과 80점 사이인 (70점, 80점 포함) 학생들의 정보를 출력하라.\n",
    "\n",
    "결과는 다음과 같아야 한다.\n",
    "```\n",
    "           학번         소속  학년  과제1  과제2  과제3  과제4  과제5  과제6  과제7  과제8\n",
    "이름                                                                  \n",
    "김성혁  20287422  소프트웨어융합대학   1   93   64   80   81   71   92   81   95\n",
    "윤원헌  20287476     빅데이터전공   3   98   80   73   75   65   80   89   88\n",
    "한재혁  20275473    콘텐츠IT전공   3   89   85   77   74   80   69   54   56\n",
    "김동원  20315272     빅데이터전공   3   98   79   70   70   69   71   50   98\n",
    "김재성  20308862    ICT융합전공   3   85   83   75   55   74   88   78   58\n",
    "함재원  20317303    콘텐츠IT전공   2   82   59   70   68   65   63   60   57\n",
    "권윤하  20307408   스마트IoT전공   2   94   84   77   60   88   80   51   90\n",
    "신한산  20308787    콘텐츠IT전공   2   91   78   70   61   66   61   41   82\n",
    "```"
   ]
  },
  {
   "cell_type": "code",
   "execution_count": null,
   "metadata": {
    "tags": []
   },
   "outputs": [],
   "source": []
  },
  {
   "cell_type": "markdown",
   "metadata": {},
   "source": []
  },
  {
   "cell_type": "markdown",
   "metadata": {},
   "source": [
    "## 문제 7.\n",
    "\n",
    "### 7.1\n",
    "\n",
    "다음 URL에서 서울교통공사 연도별 일별 시간대별 역별 승하차 인원을 csv 파일로 내려받아라.\n",
    "\n",
    "https://data.seoul.go.kr/dataList/OA-12921/F/1/datasetView.do\n",
    "\n",
    "단, 가장 최신 정보를 내려 받은 후에, 파일 이름의 공백을 '_'로 바꿔라."
   ]
  },
  {
   "cell_type": "markdown",
   "metadata": {},
   "source": [
    "### 7.2\n",
    "\n",
    "문제 7.1에서 내려받은 파일을 읽어서 dataFrame으로 변환하라. 단, '연반' 컬럼을 인덱스로 지정하라."
   ]
  },
  {
   "cell_type": "code",
   "execution_count": null,
   "metadata": {
    "tags": []
   },
   "outputs": [],
   "source": []
  },
  {
   "cell_type": "code",
   "execution_count": null,
   "metadata": {
    "tags": []
   },
   "outputs": [],
   "source": []
  },
  {
   "cell_type": "markdown",
   "metadata": {},
   "source": [
    "### 7.3\n",
    "\n",
    "서울 지하철 역 개수를 구하라"
   ]
  },
  {
   "cell_type": "code",
   "execution_count": null,
   "metadata": {
    "tags": []
   },
   "outputs": [],
   "source": []
  },
  {
   "cell_type": "code",
   "execution_count": 77,
   "metadata": {
    "tags": []
   },
   "outputs": [
    {
     "data": {
      "text/plain": [
       "239"
      ]
     },
     "execution_count": 77,
     "metadata": {},
     "output_type": "execute_result"
    }
   ],
   "source": [
    "df_subway['역명'].nunique()"
   ]
  },
  {
   "cell_type": "markdown",
   "metadata": {},
   "source": [
    "### 7.4\n",
    "\n",
    "승하차 인원의 합이 가장 많은 시간대와 역 이름을 구하라."
   ]
  },
  {
   "cell_type": "code",
   "execution_count": null,
   "metadata": {},
   "outputs": [],
   "source": []
  }
 ],
 "metadata": {
  "celltoolbar": "Slideshow",
  "kernelspec": {
   "display_name": "Python 3 (ipykernel)",
   "language": "python",
   "name": "python3"
  },
  "language_info": {
   "codemirror_mode": {
    "name": "ipython",
    "version": 3
   },
   "file_extension": ".py",
   "mimetype": "text/x-python",
   "name": "python",
   "nbconvert_exporter": "python",
   "pygments_lexer": "ipython3",
   "version": "3.11.4"
  },
  "latex_envs": {
   "LaTeX_envs_menu_present": true,
   "autoclose": false,
   "autocomplete": true,
   "bibliofile": "biblio.bib",
   "cite_by": "apalike",
   "current_citInitial": 1,
   "eqLabelWithNumbers": true,
   "eqNumInitial": 1,
   "hotkeys": {
    "equation": "Ctrl-E",
    "itemize": "Ctrl-I"
   },
   "labels_anchors": false,
   "latex_user_defs": false,
   "report_style_numbering": false,
   "user_envs_cfg": false
  },
  "toc": {
   "base_numbering": 1,
   "nav_menu": {},
   "number_sections": false,
   "sideBar": true,
   "skip_h1_title": false,
   "title_cell": "Table of Contents",
   "title_sidebar": "Contents",
   "toc_cell": false,
   "toc_position": {},
   "toc_section_display": true,
   "toc_window_display": false
  }
 },
 "nbformat": 4,
 "nbformat_minor": 4
}
