{
 "cells": [
  {
   "cell_type": "markdown",
   "metadata": {
    "slideshow": {
     "slide_type": "slide"
    }
   },
   "source": [
    "<h1 align='center'> 파이썬과학프로그래밍기초 실습 12</h1>\n",
    "\n",
    "<p style=\"text-align: right\"> 2023.11.4.</p>"
   ]
  },
  {
   "cell_type": "markdown",
   "metadata": {
    "slideshow": {
     "slide_type": "slide"
    }
   },
   "source": [
    "# <div class=\"alert alert-block alert-info\">\n",
    "    \n",
    "- 파일 이름에서 00000000을 자신의 학번으로, name을 자신의 이름으로 수정하세요.\n",
    "\n",
    "- 다음 줄에 자신의 이름, 학번, 학과(전공)을 적으세요.\n",
    "\n",
    "* 이름:김민준   &nbsp;&nbsp;          학번:20235128    &nbsp;&nbsp;         학과(전공):소프트웨어융합\n",
    "    \n",
    "</div>\n",
    "\n",
    "- Jupyter notebook에 대한 설명은 [The Jupyter Notebook](https://jupyter-notebook.readthedocs.io/en/stable/)을  참고하라\n",
    "\n",
    "- Markdown은 [Markdown Guide](https://www.markdownguide.org/)를 참고하라.\n",
    "- [Markdown Cheat Sheet](https://www.markdownguide.org/cheat-sheet/)\n",
    "\n",
    "* 과제 제출: 11월 3일 (일) 오후 22:00까지 최종본 제출. \n"
   ]
  },
  {
   "cell_type": "code",
   "execution_count": 32,
   "metadata": {
    "slideshow": {
     "slide_type": "slide"
    },
    "tags": [],
    "ExecuteTime": {
     "end_time": "2023-12-13T18:38:58.590181500Z",
     "start_time": "2023-12-13T18:38:58.386233900Z"
    }
   },
   "outputs": [],
   "source": [
    "import numpy as np\n",
    "import pandas as pd\n",
    "import matplotlib.pyplot as plt"
   ]
  },
  {
   "cell_type": "markdown",
   "metadata": {
    "slideshow": {
     "slide_type": "slide"
    }
   },
   "source": [
    "## 문제 1.\n",
    "\n",
    "fake_student_records_2.csv 파일을 읽어서 DataFrame 객체 scores를 만들어라. 단, '이름' column을 index로 지정해야 한다."
   ]
  },
  {
   "cell_type": "code",
   "execution_count": 33,
   "metadata": {
    "tags": [],
    "ExecuteTime": {
     "end_time": "2023-12-13T18:38:58.598690900Z",
     "start_time": "2023-12-13T18:38:58.408169800Z"
    }
   },
   "outputs": [
    {
     "name": "stdout",
     "output_type": "stream",
     "text": [
      "     Unnamed: 0        학번       소속  학년  과제1  과제2  과제3  과제4  과제5  과제6  과제7  과제8\n",
      "이름                                                                            \n",
      "길은영           0  20267377     일본학과   3   61   59   54   42   53   48   56   65\n",
      "임희윤           1  20337377     심리학과   2   76   66   67   75   64   77   51   94\n",
      "류준산           2  20266173     경제학과   2   98   81   63   84   65   65   89   52\n",
      "한성빈           3  20314864     경제학과   3   75   69   57   59   67   57   93   71\n",
      "김화원           4  20277416     경영학과   3   45   47   51   57   64   71   76   84\n",
      "..          ...       ...      ...  ..  ...  ...  ...  ...  ...  ...  ...  ...\n",
      "신한산          71  20308787  콘텐츠IT전공   2   91   78   70   61   66   61   41   82\n",
      "윤주인          72  20337397   빅데이터전공   4   68   55   60   52   69   62   63   80\n",
      "김여환          73  20277462   빅데이터전공   2   64   49   54   71   47   72   78   97\n",
      "남용원          74  20317536  콘텐츠IT전공   2   60   55   56   70   74   67   68   67\n",
      "이은경          75  20318996   빅데이터전공   2   67   56   64   57   72   59   95   76\n",
      "\n",
      "[76 rows x 12 columns]\n"
     ]
    }
   ],
   "source": [
    "import pandas as pd\n",
    "\n",
    "scores = pd.read_csv('fake_student_records_2.csv', index_col='이름')\n",
    "print(scores)"
   ]
  },
  {
   "cell_type": "markdown",
   "metadata": {
    "slideshow": {
     "slide_type": "slide"
    }
   },
   "source": [
    "## 문제 2.\n",
    "\n",
    "'과제1' 점수가 95 점 이상인 학생들의 이름을 원소로 갖는 리스트를 만들어서 출력하라.\n",
    "\n",
    "결과는 다음과 같아야 한다.\n",
    "\n",
    "```\n",
    "['류준산',\n",
    " '현상연',\n",
    " '이수연',\n",
    " '윤원헌',\n",
    " '김동원',\n",
    " '채소규',\n",
    " '권태민',\n",
    " '류상수',\n",
    " '조대욱',\n",
    " '신영성',\n",
    " '고병훈',\n",
    " '배상윤']```"
   ]
  },
  {
   "cell_type": "code",
   "execution_count": 34,
   "metadata": {
    "tags": [],
    "ExecuteTime": {
     "end_time": "2023-12-13T18:38:58.600685Z",
     "start_time": "2023-12-13T18:38:58.424808200Z"
    }
   },
   "outputs": [
    {
     "name": "stdout",
     "output_type": "stream",
     "text": [
      "['류준산', '현상연', '이수연', '윤원헌', '김동원', '채소규', '권태민', '류상수', '조대욱', '신영성', '고병훈', '배상윤']\n"
     ]
    }
   ],
   "source": [
    "import pandas as pd\n",
    "\n",
    "scores = pd.read_csv('fake_student_records_2.csv', index_col='이름')\n",
    "\n",
    "high_scores_students = scores[scores['과제1'] >= 95].index.tolist()\n",
    "print(high_scores_students)"
   ]
  },
  {
   "cell_type": "markdown",
   "metadata": {
    "slideshow": {
     "slide_type": "slide"
    }
   },
   "source": [
    "### 문제 3.\n",
    "\n",
    "8 번의 과제 점수가 모두 60 점 이상인 학생들의 이름을 원소로 갖는 리스트를 만들어서 출력하라.\n",
    "\n",
    "결과는 다음과 같아야 한다.\n",
    "```\n",
    "['김성혁', '안성우', '윤원헌', '조대욱']\n",
    "```"
   ]
  },
  {
   "cell_type": "code",
   "execution_count": 35,
   "metadata": {
    "tags": [],
    "ExecuteTime": {
     "end_time": "2023-12-13T18:38:58.610177100Z",
     "start_time": "2023-12-13T18:38:58.440889100Z"
    }
   },
   "outputs": [
    {
     "name": "stdout",
     "output_type": "stream",
     "text": [
      "['김성혁', '안성우', '윤원헌', '조대욱']\n"
     ]
    }
   ],
   "source": [
    "import pandas as pd\n",
    "\n",
    "scores = pd.read_csv('fake_student_records_2.csv', index_col='이름')\n",
    "\n",
    "all_high_scores_students = scores[scores.iloc[:, 4:].min(axis=1) >= 60].index.tolist()\n",
    "print(all_high_scores_students)"
   ]
  },
  {
   "cell_type": "markdown",
   "metadata": {
    "slideshow": {
     "slide_type": "slide"
    }
   },
   "source": [
    "### 문제 4.\n",
    "\n",
    "8 번의 과제의 평균 점수를 series로 구하라.\n",
    "\n",
    "결과는 다음과 같아야 한다.\n",
    "```\n",
    "과제1    73.710526\n",
    "과제2    63.131579\n",
    "과제3    55.131579\n",
    "과제4    62.684211\n",
    "과제5    66.947368\n",
    "과제6    61.960526\n",
    "과제7    72.763158\n",
    "과제8    76.223684\n",
    "```"
   ]
  },
  {
   "cell_type": "code",
   "execution_count": 36,
   "metadata": {
    "tags": [],
    "ExecuteTime": {
     "end_time": "2023-12-13T18:38:58.618182300Z",
     "start_time": "2023-12-13T18:38:58.454905900Z"
    }
   },
   "outputs": [
    {
     "name": "stdout",
     "output_type": "stream",
     "text": [
      "과제1    73.710526\n",
      "과제2    63.131579\n",
      "과제3    55.131579\n",
      "과제4    62.684211\n",
      "과제5    66.947368\n",
      "과제6    61.960526\n",
      "과제7    72.763158\n",
      "과제8    76.223684\n",
      "dtype: float64\n"
     ]
    }
   ],
   "source": [
    "import pandas as pd\n",
    "\n",
    "scores = pd.read_csv('fake_student_records_2.csv', index_col='이름')\n",
    "\n",
    "average_scores = scores.iloc[:, 4:].mean()\n",
    "print(average_scores)"
   ]
  },
  {
   "cell_type": "markdown",
   "metadata": {
    "slideshow": {
     "slide_type": "slide"
    }
   },
   "source": [
    "### 문제 5.\n",
    "\n",
    "8 번의 과제 점수가 모두 각 과제의 평균 점수 이상인 학생들의 이름을 원소로 갖는 리스트를 만들어서 출력하라.\n",
    "\n",
    "결과는 다음과 같아야 한다.\n",
    "```\n",
    "['김성혁', '윤원헌', '채소규']\n",
    "```"
   ]
  },
  {
   "cell_type": "code",
   "execution_count": 42,
   "metadata": {
    "tags": [],
    "ExecuteTime": {
     "end_time": "2023-12-13T18:59:42.558947700Z",
     "start_time": "2023-12-13T18:59:42.527161100Z"
    }
   },
   "outputs": [
    {
     "name": "stdout",
     "output_type": "stream",
     "text": [
      "['김성혁', '안성우', '류상수']\n"
     ]
    }
   ],
   "source": [
    "import pandas as pd\n",
    "\n",
    "scores = pd.read_csv('fake_student_records_2.csv', index_col='이름')\n",
    "\n",
    "above_average_students = scores[(scores['과제1'] >= average_scores['과제1']) &\n",
    "                                 (scores['과제2'] >= average_scores['과제2']) &\n",
    "                                 (scores['과제3'] >= average_scores['과제3']) &\n",
    "                                 (scores['과제4'] >= average_scores['과제4']) &\n",
    "                                 (scores['과제5'] >= average_scores['과제5']) &\n",
    "                                 (scores['과제6'] >= average_scores['과제6']) &\n",
    "                                 (scores['과제7'] >= average_scores['과제7']) &\n",
    "                                 (scores['과제8'] >= average_scores['과제8'])].index.tolist()\n",
    "print(above_average_students)"
   ]
  },
  {
   "cell_type": "markdown",
   "metadata": {
    "slideshow": {
     "slide_type": "slide"
    }
   },
   "source": [
    "### 문제 6.\n",
    "\n",
    "'시험3' 점수가 70 점과 80점 사이인 (70점, 80점 포함) 학생들의 정보를 출력하라.\n",
    "\n",
    "결과는 다음과 같아야 한다.\n",
    "```\n",
    "           학번         소속  학년  과제1  과제2  과제3  과제4  과제5  과제6  과제7  과제8\n",
    "이름                                                                  \n",
    "김성혁  20287422  소프트웨어융합대학   1   93   64   80   81   71   92   81   95\n",
    "윤원헌  20287476     빅데이터전공   3   98   80   73   75   65   80   89   88\n",
    "한재혁  20275473    콘텐츠IT전공   3   89   85   77   74   80   69   54   56\n",
    "김동원  20315272     빅데이터전공   3   98   79   70   70   69   71   50   98\n",
    "김재성  20308862    ICT융합전공   3   85   83   75   55   74   88   78   58\n",
    "함재원  20317303    콘텐츠IT전공   2   82   59   70   68   65   63   60   57\n",
    "권윤하  20307408   스마트IoT전공   2   94   84   77   60   88   80   51   90\n",
    "신한산  20308787    콘텐츠IT전공   2   91   78   70   61   66   61   41   82\n",
    "```"
   ]
  },
  {
   "cell_type": "code",
   "execution_count": 36,
   "metadata": {
    "tags": [],
    "ExecuteTime": {
     "end_time": "2023-12-13T18:38:58.635644200Z",
     "start_time": "2023-12-13T18:38:58.484873100Z"
    }
   },
   "outputs": [],
   "source": []
  },
  {
   "cell_type": "markdown",
   "metadata": {},
   "source": []
  },
  {
   "cell_type": "markdown",
   "metadata": {},
   "source": [
    "## 문제 7.\n",
    "\n",
    "### 7.1\n",
    "\n",
    "다음 URL에서 서울교통공사 연도별 일별 시간대별 역별 승하차 인원을 csv 파일로 내려받아라.\n",
    "\n",
    "https://data.seoul.go.kr/dataList/OA-12921/F/1/datasetView.do\n",
    "\n",
    "단, 가장 최신 정보를 내려 받은 후에, 파일 이름의 공백을 '_'로 바꿔라."
   ]
  },
  {
   "cell_type": "markdown",
   "metadata": {},
   "source": [
    "### 7.2\n",
    "\n",
    "문제 7.1에서 내려받은 파일을 읽어서 dataFrame으로 변환하라. 단, '연반' 컬럼을 인덱스로 지정하라."
   ]
  },
  {
   "cell_type": "code",
   "execution_count": 36,
   "metadata": {
    "tags": [],
    "ExecuteTime": {
     "end_time": "2023-12-13T18:38:58.636644600Z",
     "start_time": "2023-12-13T18:38:58.500561Z"
    }
   },
   "outputs": [],
   "source": []
  },
  {
   "cell_type": "code",
   "execution_count": 36,
   "metadata": {
    "tags": [],
    "ExecuteTime": {
     "end_time": "2023-12-13T18:38:58.636644600Z",
     "start_time": "2023-12-13T18:38:58.516593900Z"
    }
   },
   "outputs": [],
   "source": []
  },
  {
   "cell_type": "markdown",
   "metadata": {},
   "source": [
    "### 7.3\n",
    "\n",
    "서울 지하철 역 개수를 구하라"
   ]
  },
  {
   "cell_type": "code",
   "execution_count": 36,
   "metadata": {
    "tags": [],
    "ExecuteTime": {
     "end_time": "2023-12-13T18:38:58.636644600Z",
     "start_time": "2023-12-13T18:38:58.532398300Z"
    }
   },
   "outputs": [],
   "source": []
  },
  {
   "cell_type": "code",
   "execution_count": 37,
   "metadata": {
    "tags": [],
    "ExecuteTime": {
     "end_time": "2023-12-13T18:38:58.646414800Z",
     "start_time": "2023-12-13T18:38:58.548410100Z"
    }
   },
   "outputs": [
    {
     "ename": "NameError",
     "evalue": "name 'df_subway' is not defined",
     "output_type": "error",
     "traceback": [
      "\u001B[1;31m---------------------------------------------------------------------------\u001B[0m",
      "\u001B[1;31mNameError\u001B[0m                                 Traceback (most recent call last)",
      "Cell \u001B[1;32mIn[37], line 1\u001B[0m\n\u001B[1;32m----> 1\u001B[0m \u001B[43mdf_subway\u001B[49m[\u001B[38;5;124m'\u001B[39m\u001B[38;5;124m역명\u001B[39m\u001B[38;5;124m'\u001B[39m]\u001B[38;5;241m.\u001B[39mnunique()\n",
      "\u001B[1;31mNameError\u001B[0m: name 'df_subway' is not defined"
     ]
    }
   ],
   "source": [
    "df_subway['역명'].nunique()"
   ]
  },
  {
   "cell_type": "markdown",
   "metadata": {},
   "source": [
    "### 7.4\n",
    "\n",
    "승하차 인원의 합이 가장 많은 시간대와 역 이름을 구하라."
   ]
  },
  {
   "cell_type": "code",
   "execution_count": null,
   "metadata": {
    "ExecuteTime": {
     "start_time": "2023-12-13T18:38:58.581044800Z"
    }
   },
   "outputs": [],
   "source": []
  }
 ],
 "metadata": {
  "celltoolbar": "Slideshow",
  "kernelspec": {
   "display_name": "Python 3 (ipykernel)",
   "language": "python",
   "name": "python3"
  },
  "language_info": {
   "codemirror_mode": {
    "name": "ipython",
    "version": 3
   },
   "file_extension": ".py",
   "mimetype": "text/x-python",
   "name": "python",
   "nbconvert_exporter": "python",
   "pygments_lexer": "ipython3",
   "version": "3.11.4"
  },
  "latex_envs": {
   "LaTeX_envs_menu_present": true,
   "autoclose": false,
   "autocomplete": true,
   "bibliofile": "biblio.bib",
   "cite_by": "apalike",
   "current_citInitial": 1,
   "eqLabelWithNumbers": true,
   "eqNumInitial": 1,
   "hotkeys": {
    "equation": "Ctrl-E",
    "itemize": "Ctrl-I"
   },
   "labels_anchors": false,
   "latex_user_defs": false,
   "report_style_numbering": false,
   "user_envs_cfg": false
  },
  "toc": {
   "base_numbering": 1,
   "nav_menu": {},
   "number_sections": false,
   "sideBar": true,
   "skip_h1_title": false,
   "title_cell": "Table of Contents",
   "title_sidebar": "Contents",
   "toc_cell": false,
   "toc_position": {},
   "toc_section_display": true,
   "toc_window_display": false
  }
 },
 "nbformat": 4,
 "nbformat_minor": 4
}
