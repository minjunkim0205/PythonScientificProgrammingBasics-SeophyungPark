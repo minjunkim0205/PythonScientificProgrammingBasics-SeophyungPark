{
 "cells": [
  {
   "cell_type": "markdown",
   "metadata": {
    "slideshow": {
     "slide_type": "slide"
    }
   },
   "source": [
    "<h1 align='center'> 파이썬과학프로그래밍기초 실습 12</h1>\n",
    "\n",
    "<p style=\"text-align: right\"> 2023.11.4.</p>"
   ]
  },
  {
   "cell_type": "markdown",
   "metadata": {
    "slideshow": {
     "slide_type": "slide"
    }
   },
   "source": [
    "# <div class=\"alert alert-block alert-info\">\n",
    "    \n",
    "- 파일 이름에서 00000000을 자신의 학번으로, name을 자신의 이름으로 수정하세요.\n",
    "\n",
    "- 다음 줄에 자신의 이름, 학번, 학과(전공)을 적으세요.\n",
    "\n",
    "* 이름:김민준   &nbsp;&nbsp;          학번:20235128    &nbsp;&nbsp;         학과(전공):소프트웨어융합\n",
    "    \n",
    "</div>\n",
    "\n",
    "- Jupyter notebook에 대한 설명은 [The Jupyter Notebook](https://jupyter-notebook.readthedocs.io/en/stable/)을  참고하라\n",
    "\n",
    "- Markdown은 [Markdown Guide](https://www.markdownguide.org/)를 참고하라.\n",
    "- [Markdown Cheat Sheet](https://www.markdownguide.org/cheat-sheet/)\n",
    "\n",
    "* 과제 제출: 11월 3일 (일) 오후 22:00까지 최종본 제출. \n"
   ]
  },
  {
   "cell_type": "code",
   "execution_count": 32,
   "metadata": {
    "slideshow": {
     "slide_type": "slide"
    },
    "tags": [],
    "ExecuteTime": {
     "end_time": "2023-12-14T03:59:08.422932300Z",
     "start_time": "2023-12-14T03:59:08.250189Z"
    }
   },
   "outputs": [],
   "source": [
    "import numpy as np\n",
    "import pandas as pd\n",
    "import matplotlib.pyplot as plt"
   ]
  },
  {
   "cell_type": "markdown",
   "metadata": {
    "slideshow": {
     "slide_type": "slide"
    }
   },
   "source": [
    "## 문제 1.\n",
    "\n",
    "fake_student_records_2.csv 파일을 읽어서 DataFrame 객체 scores를 만들어라. 단, '이름' column을 index로 지정해야 한다."
   ]
  },
  {
   "cell_type": "code",
   "execution_count": 33,
   "metadata": {
    "tags": [],
    "ExecuteTime": {
     "end_time": "2023-12-14T03:59:08.443874500Z",
     "start_time": "2023-12-14T03:59:08.272846100Z"
    }
   },
   "outputs": [
    {
     "name": "stdout",
     "output_type": "stream",
     "text": [
      "     Unnamed: 0        학번       소속  학년  과제1  과제2  과제3  과제4  과제5  과제6  과제7  과제8\n",
      "이름                                                                            \n",
      "길은영           0  20267377     일본학과   3   61   59   54   42   53   48   56   65\n",
      "임희윤           1  20337377     심리학과   2   76   66   67   75   64   77   51   94\n",
      "류준산           2  20266173     경제학과   2   98   81   63   84   65   65   89   52\n",
      "한성빈           3  20314864     경제학과   3   75   69   57   59   67   57   93   71\n",
      "김화원           4  20277416     경영학과   3   45   47   51   57   64   71   76   84\n",
      "..          ...       ...      ...  ..  ...  ...  ...  ...  ...  ...  ...  ...\n",
      "신한산          71  20308787  콘텐츠IT전공   2   91   78   70   61   66   61   41   82\n",
      "윤주인          72  20337397   빅데이터전공   4   68   55   60   52   69   62   63   80\n",
      "김여환          73  20277462   빅데이터전공   2   64   49   54   71   47   72   78   97\n",
      "남용원          74  20317536  콘텐츠IT전공   2   60   55   56   70   74   67   68   67\n",
      "이은경          75  20318996   빅데이터전공   2   67   56   64   57   72   59   95   76\n",
      "\n",
      "[76 rows x 12 columns]\n"
     ]
    }
   ],
   "source": [
    "import pandas as pd\n",
    "\n",
    "scores = pd.read_csv('fake_student_records_2.csv', index_col='이름')\n",
    "print(scores)"
   ]
  },
  {
   "cell_type": "markdown",
   "metadata": {
    "slideshow": {
     "slide_type": "slide"
    }
   },
   "source": [
    "## 문제 2.\n",
    "\n",
    "'과제1' 점수가 95 점 이상인 학생들의 이름을 원소로 갖는 리스트를 만들어서 출력하라.\n",
    "\n",
    "결과는 다음과 같아야 한다.\n",
    "\n",
    "```\n",
    "['류준산',\n",
    " '현상연',\n",
    " '이수연',\n",
    " '윤원헌',\n",
    " '김동원',\n",
    " '채소규',\n",
    " '권태민',\n",
    " '류상수',\n",
    " '조대욱',\n",
    " '신영성',\n",
    " '고병훈',\n",
    " '배상윤']```"
   ]
  },
  {
   "cell_type": "code",
   "execution_count": 34,
   "metadata": {
    "tags": [],
    "ExecuteTime": {
     "end_time": "2023-12-14T03:59:08.455844400Z",
     "start_time": "2023-12-14T03:59:08.304126100Z"
    }
   },
   "outputs": [
    {
     "name": "stdout",
     "output_type": "stream",
     "text": [
      "['류준산', '현상연', '이수연', '윤원헌', '김동원', '채소규', '권태민', '류상수', '조대욱', '신영성', '고병훈', '배상윤']\n"
     ]
    }
   ],
   "source": [
    "import pandas as pd\n",
    "\n",
    "scores = pd.read_csv('fake_student_records_2.csv', index_col='이름')\n",
    "\n",
    "high_scores_students = scores[scores['과제1'] >= 95].index.tolist()\n",
    "print(high_scores_students)"
   ]
  },
  {
   "cell_type": "markdown",
   "metadata": {
    "slideshow": {
     "slide_type": "slide"
    }
   },
   "source": [
    "### 문제 3.\n",
    "\n",
    "8 번의 과제 점수가 모두 60 점 이상인 학생들의 이름을 원소로 갖는 리스트를 만들어서 출력하라.\n",
    "\n",
    "결과는 다음과 같아야 한다.\n",
    "```\n",
    "['김성혁', '안성우', '윤원헌', '조대욱']\n",
    "```"
   ]
  },
  {
   "cell_type": "code",
   "execution_count": 35,
   "metadata": {
    "tags": [],
    "ExecuteTime": {
     "end_time": "2023-12-14T03:59:08.459832Z",
     "start_time": "2023-12-14T03:59:08.320722100Z"
    }
   },
   "outputs": [
    {
     "name": "stdout",
     "output_type": "stream",
     "text": [
      "['김성혁', '안성우', '윤원헌', '조대욱']\n"
     ]
    }
   ],
   "source": [
    "import pandas as pd\n",
    "\n",
    "scores = pd.read_csv('fake_student_records_2.csv', index_col='이름')\n",
    "\n",
    "all_high_scores_students = scores[scores.iloc[:, 4:].min(axis=1) >= 60].index.tolist()\n",
    "print(all_high_scores_students)"
   ]
  },
  {
   "cell_type": "markdown",
   "metadata": {
    "slideshow": {
     "slide_type": "slide"
    }
   },
   "source": [
    "### 문제 4.\n",
    "\n",
    "8 번의 과제의 평균 점수를 series로 구하라.\n",
    "\n",
    "결과는 다음과 같아야 한다.\n",
    "```\n",
    "과제1    73.710526\n",
    "과제2    63.131579\n",
    "과제3    55.131579\n",
    "과제4    62.684211\n",
    "과제5    66.947368\n",
    "과제6    61.960526\n",
    "과제7    72.763158\n",
    "과제8    76.223684\n",
    "```"
   ]
  },
  {
   "cell_type": "code",
   "execution_count": 36,
   "metadata": {
    "tags": [],
    "ExecuteTime": {
     "end_time": "2023-12-14T03:59:08.465816700Z",
     "start_time": "2023-12-14T03:59:08.334676300Z"
    }
   },
   "outputs": [
    {
     "name": "stdout",
     "output_type": "stream",
     "text": [
      "과제1    73.710526\n",
      "과제2    63.131579\n",
      "과제3    55.131579\n",
      "과제4    62.684211\n",
      "과제5    66.947368\n",
      "과제6    61.960526\n",
      "과제7    72.763158\n",
      "과제8    76.223684\n",
      "dtype: float64\n"
     ]
    }
   ],
   "source": [
    "import pandas as pd\n",
    "\n",
    "scores = pd.read_csv('fake_student_records_2.csv', index_col='이름')\n",
    "\n",
    "average_scores = scores.iloc[:, 4:].mean()\n",
    "print(average_scores)"
   ]
  },
  {
   "cell_type": "markdown",
   "metadata": {
    "slideshow": {
     "slide_type": "slide"
    }
   },
   "source": [
    "### 문제 5.\n",
    "\n",
    "8 번의 과제 점수가 모두 각 과제의 평균 점수 이상인 학생들의 이름을 원소로 갖는 리스트를 만들어서 출력하라.\n",
    "\n",
    "결과는 다음과 같아야 한다.\n",
    "```\n",
    "['김성혁', '윤원헌', '채소규']\n",
    "```"
   ]
  },
  {
   "cell_type": "code",
   "execution_count": 37,
   "metadata": {
    "tags": [],
    "ExecuteTime": {
     "end_time": "2023-12-14T03:59:08.476786600Z",
     "start_time": "2023-12-14T03:59:08.351870800Z"
    }
   },
   "outputs": [
    {
     "name": "stdout",
     "output_type": "stream",
     "text": [
      "['김성혁', '안성우', '류상수']\n"
     ]
    }
   ],
   "source": [
    "import pandas as pd\n",
    "\n",
    "scores = pd.read_csv('fake_student_records_2.csv', index_col='이름')\n",
    "\n",
    "above_average_students = scores[(scores['과제1'] >= average_scores['과제1']) &\n",
    "                                 (scores['과제2'] >= average_scores['과제2']) &\n",
    "                                 (scores['과제3'] >= average_scores['과제3']) &\n",
    "                                 (scores['과제4'] >= average_scores['과제4']) &\n",
    "                                 (scores['과제5'] >= average_scores['과제5']) &\n",
    "                                 (scores['과제6'] >= average_scores['과제6']) &\n",
    "                                 (scores['과제7'] >= average_scores['과제7']) &\n",
    "                                 (scores['과제8'] >= average_scores['과제8'])].index.tolist()\n",
    "print(above_average_students)"
   ]
  },
  {
   "cell_type": "markdown",
   "metadata": {
    "slideshow": {
     "slide_type": "slide"
    }
   },
   "source": [
    "### 문제 6.\n",
    "\n",
    "'시험3' 점수가 70 점과 80점 사이인 (70점, 80점 포함) 학생들의 정보를 출력하라.\n",
    "\n",
    "결과는 다음과 같아야 한다.\n",
    "```\n",
    "           학번         소속  학년  과제1  과제2  과제3  과제4  과제5  과제6  과제7  과제8\n",
    "이름                                                                  \n",
    "김성혁  20287422  소프트웨어융합대학   1   93   64   80   81   71   92   81   95\n",
    "윤원헌  20287476     빅데이터전공   3   98   80   73   75   65   80   89   88\n",
    "한재혁  20275473    콘텐츠IT전공   3   89   85   77   74   80   69   54   56\n",
    "김동원  20315272     빅데이터전공   3   98   79   70   70   69   71   50   98\n",
    "김재성  20308862    ICT융합전공   3   85   83   75   55   74   88   78   58\n",
    "함재원  20317303    콘텐츠IT전공   2   82   59   70   68   65   63   60   57\n",
    "권윤하  20307408   스마트IoT전공   2   94   84   77   60   88   80   51   90\n",
    "신한산  20308787    콘텐츠IT전공   2   91   78   70   61   66   61   41   82\n",
    "```"
   ]
  },
  {
   "cell_type": "code",
   "execution_count": 38,
   "metadata": {
    "tags": [],
    "ExecuteTime": {
     "end_time": "2023-12-14T03:59:08.477783200Z",
     "start_time": "2023-12-14T03:59:08.365945200Z"
    }
   },
   "outputs": [
    {
     "name": "stdout",
     "output_type": "stream",
     "text": [
      "           학번         소속  학년  과제1  과제2  과제3  과제4  과제5  과제6  과제7  과제8\n",
      "이름                                                                  \n",
      "김성혁  20287422  소프트웨어융합대학   1   93   64   80   81   71   92   81   95\n",
      "윤원헌  20287476     빅데이터전공   3   98   80   73   75   65   80   89   88\n",
      "한재혁  20275473    콘텐츠IT전공   3   89   85   77   74   80   69   54   56\n",
      "김동원  20315272     빅데이터전공   3   98   79   70   70   69   71   50   98\n",
      "김재성  20308862    ICT융합전공   3   85   83   75   55   74   88   78   58\n",
      "함재원  20317303    콘텐츠IT전공   2   82   59   70   68   65   63   60   57\n",
      "권윤하  20307408   스마트IoT전공   2   94   84   77   60   88   80   51   90\n",
      "신한산  20308787    콘텐츠IT전공   2   91   78   70   61   66   61   41   82\n"
     ]
    }
   ],
   "source": [
    "import pandas as pd\n",
    "\n",
    "scores = pd.read_csv('fake_student_records_2.csv', index_col='이름')\n",
    "\n",
    "exam3_between_70_80 = scores[(scores['과제3'] >= 70) & (scores['과제3'] <= 80)]\n",
    "print(exam3_between_70_80[['학번', '소속', '학년', '과제1', '과제2', '과제3', '과제4', '과제5', '과제6', '과제7', '과제8']])\n"
   ]
  },
  {
   "cell_type": "markdown",
   "metadata": {},
   "source": [
    "## 문제 7.\n",
    "\n",
    "### 7.1\n",
    "\n",
    "다음 URL에서 서울교통공사 연도별 일별 시간대별 역별 승하차 인원을 csv 파일로 내려받아라.\n",
    "\n",
    "https://data.seoul.go.kr/dataList/OA-12921/F/1/datasetView.do\n",
    "\n",
    "단, 가장 최신 정보를 내려 받은 후에, 파일 이름의 공백을 '_'로 바꿔라."
   ]
  },
  {
   "cell_type": "markdown",
   "metadata": {},
   "source": [
    "### 7.2\n",
    "\n",
    "문제 7.1에서 내려받은 파일을 읽어서 dataFrame으로 변환하라. 단, '연번' 컬럼을 인덱스로 지정하라."
   ]
  },
  {
   "cell_type": "code",
   "execution_count": 39,
   "metadata": {
    "tags": [],
    "ExecuteTime": {
     "end_time": "2023-12-14T03:59:09.317783400Z",
     "start_time": "2023-12-14T03:59:08.395007500Z"
    }
   },
   "outputs": [
    {
     "name": "stdout",
     "output_type": "stream",
     "text": [
      "              수송일자   호선   역번호   역명 승하차구분  06시이전  06-07시간대  07-08시간대  08-09시간대  \\\n",
      "연번                                                                              \n",
      "1       2023-01-01  1호선   150  서울역    승차    215       145       231       594   \n",
      "2       2023-01-01  1호선   150  서울역    하차    154       636       595       939   \n",
      "3       2023-01-01  1호선   151   시청    승차     48        73       106       194   \n",
      "4       2023-01-01  1호선   151   시청    하차     64       247       293       463   \n",
      "5       2023-01-01  1호선   152   종각    승차    407       235       158       201   \n",
      "...            ...  ...   ...  ...   ...    ...       ...       ...       ...   \n",
      "165372  2023-10-31  8호선  2826   수진    하차     23       108       220       543   \n",
      "165373  2023-10-31  8호선  2827   모란    승차    113       122       394       498   \n",
      "165374  2023-10-31  8호선  2827   모란    하차     22       136       214       465   \n",
      "165375  2023-10-31  8호선  2828  남위례    승차     64       292      1056      1205   \n",
      "165376  2023-10-31  8호선  2828  남위례    하차     43       118       334      1210   \n",
      "\n",
      "        09-10시간대  ...  15-16시간대  16-17시간대  17-18시간대  18-19시간대  19-20시간대  \\\n",
      "연번                ...                                                     \n",
      "1            923  ...      2655      2509      2696      2549      2462   \n",
      "2           1306  ...      2282      2295      2526      1930      1897   \n",
      "3            239  ...       843       895       959       985       670   \n",
      "4            522  ...       602       575       533       456       285   \n",
      "5            188  ...      1145      1402      1223      1272       911   \n",
      "...          ...  ...       ...       ...       ...       ...       ...   \n",
      "165372       235  ...       288       404       419       647       450   \n",
      "165373       273  ...       330       520       400       467       243   \n",
      "165374       227  ...       248       243       332       392       233   \n",
      "165375       600  ...       379       459       642       790       291   \n",
      "165376       450  ...       326       457       642      1082       826   \n",
      "\n",
      "        20-21시간대  21-22시간대  22-23시간대  23-24시간대  24시이후  \n",
      "연번                                                     \n",
      "1           2177      2190      1808       734      7  \n",
      "2           1487       991       609       280     46  \n",
      "3            630       515       330       146      0  \n",
      "4            267       246       154        79     18  \n",
      "5            913       906       602       232      3  \n",
      "...          ...       ...       ...       ...    ...  \n",
      "165372       318       249       219       148     51  \n",
      "165373       180       145       122        79     28  \n",
      "165374       136       120       104        68     64  \n",
      "165375       248       256       197        79     34  \n",
      "165376       408       389       356       198     80  \n",
      "\n",
      "[165376 rows x 25 columns]\n"
     ]
    }
   ],
   "source": [
    "import pandas as pd\n",
    "\n",
    "df_subway = pd.read_csv('seoul_transportation_daily_info_2023.csv', index_col='연번', encoding='CP949')\n",
    "print(df_subway)"
   ]
  },
  {
   "cell_type": "markdown",
   "metadata": {},
   "source": [
    "### 7.3\n",
    "\n",
    "서울 지하철 역 개수를 구하라"
   ]
  },
  {
   "cell_type": "code",
   "execution_count": 43,
   "metadata": {
    "tags": [],
    "ExecuteTime": {
     "end_time": "2023-12-14T04:00:41.762049Z",
     "start_time": "2023-12-14T04:00:40.944454900Z"
    }
   },
   "outputs": [
    {
     "name": "stdout",
     "output_type": "stream",
     "text": [
      "239\n"
     ]
    }
   ],
   "source": [
    "import pandas as pd\n",
    "\n",
    "df_subway = pd.read_csv('seoul_transportation_daily_info_2023.csv', index_col='연번', encoding='CP949')\n",
    "\n",
    "num_subway_stations = df_subway['역명'].nunique()\n",
    "print(num_subway_stations)"
   ]
  },
  {
   "cell_type": "markdown",
   "metadata": {},
   "source": [
    "### 7.4\n",
    "\n",
    "승하차 인원의 합이 가장 많은 시간대와 역 이름을 구하라."
   ]
  },
  {
   "cell_type": "code",
   "execution_count": 46,
   "metadata": {
    "ExecuteTime": {
     "end_time": "2023-12-14T04:02:06.679610700Z",
     "start_time": "2023-12-14T04:02:05.784585500Z"
    }
   },
   "outputs": [
    {
     "ename": "KeyError",
     "evalue": "'시간'",
     "output_type": "error",
     "traceback": [
      "\u001B[1;31m---------------------------------------------------------------------------\u001B[0m",
      "\u001B[1;31mKeyError\u001B[0m                                  Traceback (most recent call last)",
      "Cell \u001B[1;32mIn[46], line 5\u001B[0m\n\u001B[0;32m      1\u001B[0m \u001B[38;5;28;01mimport\u001B[39;00m \u001B[38;5;21;01mpandas\u001B[39;00m \u001B[38;5;28;01mas\u001B[39;00m \u001B[38;5;21;01mpd\u001B[39;00m\n\u001B[0;32m      3\u001B[0m df_subway \u001B[38;5;241m=\u001B[39m pd\u001B[38;5;241m.\u001B[39mread_csv(\u001B[38;5;124m'\u001B[39m\u001B[38;5;124mseoul_transportation_daily_info_2023.csv\u001B[39m\u001B[38;5;124m'\u001B[39m, index_col\u001B[38;5;241m=\u001B[39m\u001B[38;5;124m'\u001B[39m\u001B[38;5;124m연번\u001B[39m\u001B[38;5;124m'\u001B[39m, encoding\u001B[38;5;241m=\u001B[39m\u001B[38;5;124m'\u001B[39m\u001B[38;5;124mCP949\u001B[39m\u001B[38;5;124m'\u001B[39m)\n\u001B[1;32m----> 5\u001B[0m max_passenger_sum \u001B[38;5;241m=\u001B[39m \u001B[43mdf_subway\u001B[49m\u001B[38;5;241;43m.\u001B[39;49m\u001B[43mgroupby\u001B[49m\u001B[43m(\u001B[49m\u001B[43m[\u001B[49m\u001B[38;5;124;43m'\u001B[39;49m\u001B[38;5;124;43m시간\u001B[39;49m\u001B[38;5;124;43m'\u001B[39;49m\u001B[43m,\u001B[49m\u001B[43m \u001B[49m\u001B[38;5;124;43m'\u001B[39;49m\u001B[38;5;124;43m역사명\u001B[39;49m\u001B[38;5;124;43m'\u001B[39;49m\u001B[43m]\u001B[49m\u001B[43m)\u001B[49m\u001B[38;5;241m.\u001B[39msum()[\u001B[38;5;124m'\u001B[39m\u001B[38;5;124m합계\u001B[39m\u001B[38;5;124m'\u001B[39m]\u001B[38;5;241m.\u001B[39midxmax()\n\u001B[0;32m      6\u001B[0m \u001B[38;5;28mprint\u001B[39m(\u001B[38;5;124m\"\u001B[39m\u001B[38;5;124m시간:\u001B[39m\u001B[38;5;124m\"\u001B[39m, max_passenger_sum[\u001B[38;5;241m0\u001B[39m])\n\u001B[0;32m      7\u001B[0m \u001B[38;5;28mprint\u001B[39m(\u001B[38;5;124m\"\u001B[39m\u001B[38;5;124m역 이름:\u001B[39m\u001B[38;5;124m\"\u001B[39m, max_passenger_sum[\u001B[38;5;241m1\u001B[39m])\n",
      "File \u001B[1;32mC:\\Users Files\\mjk\\Coding\\PyCharm\\PythonScientificProgrammingBasics-SeophyungPark\\venv\\lib\\site-packages\\pandas\\core\\frame.py:8869\u001B[0m, in \u001B[0;36mDataFrame.groupby\u001B[1;34m(self, by, axis, level, as_index, sort, group_keys, observed, dropna)\u001B[0m\n\u001B[0;32m   8866\u001B[0m \u001B[38;5;28;01mif\u001B[39;00m level \u001B[38;5;129;01mis\u001B[39;00m \u001B[38;5;28;01mNone\u001B[39;00m \u001B[38;5;129;01mand\u001B[39;00m by \u001B[38;5;129;01mis\u001B[39;00m \u001B[38;5;28;01mNone\u001B[39;00m:\n\u001B[0;32m   8867\u001B[0m     \u001B[38;5;28;01mraise\u001B[39;00m \u001B[38;5;167;01mTypeError\u001B[39;00m(\u001B[38;5;124m\"\u001B[39m\u001B[38;5;124mYou have to supply one of \u001B[39m\u001B[38;5;124m'\u001B[39m\u001B[38;5;124mby\u001B[39m\u001B[38;5;124m'\u001B[39m\u001B[38;5;124m and \u001B[39m\u001B[38;5;124m'\u001B[39m\u001B[38;5;124mlevel\u001B[39m\u001B[38;5;124m'\u001B[39m\u001B[38;5;124m\"\u001B[39m)\n\u001B[1;32m-> 8869\u001B[0m \u001B[38;5;28;01mreturn\u001B[39;00m \u001B[43mDataFrameGroupBy\u001B[49m\u001B[43m(\u001B[49m\n\u001B[0;32m   8870\u001B[0m \u001B[43m    \u001B[49m\u001B[43mobj\u001B[49m\u001B[38;5;241;43m=\u001B[39;49m\u001B[38;5;28;43mself\u001B[39;49m\u001B[43m,\u001B[49m\n\u001B[0;32m   8871\u001B[0m \u001B[43m    \u001B[49m\u001B[43mkeys\u001B[49m\u001B[38;5;241;43m=\u001B[39;49m\u001B[43mby\u001B[49m\u001B[43m,\u001B[49m\n\u001B[0;32m   8872\u001B[0m \u001B[43m    \u001B[49m\u001B[43maxis\u001B[49m\u001B[38;5;241;43m=\u001B[39;49m\u001B[43maxis\u001B[49m\u001B[43m,\u001B[49m\n\u001B[0;32m   8873\u001B[0m \u001B[43m    \u001B[49m\u001B[43mlevel\u001B[49m\u001B[38;5;241;43m=\u001B[39;49m\u001B[43mlevel\u001B[49m\u001B[43m,\u001B[49m\n\u001B[0;32m   8874\u001B[0m \u001B[43m    \u001B[49m\u001B[43mas_index\u001B[49m\u001B[38;5;241;43m=\u001B[39;49m\u001B[43mas_index\u001B[49m\u001B[43m,\u001B[49m\n\u001B[0;32m   8875\u001B[0m \u001B[43m    \u001B[49m\u001B[43msort\u001B[49m\u001B[38;5;241;43m=\u001B[39;49m\u001B[43msort\u001B[49m\u001B[43m,\u001B[49m\n\u001B[0;32m   8876\u001B[0m \u001B[43m    \u001B[49m\u001B[43mgroup_keys\u001B[49m\u001B[38;5;241;43m=\u001B[39;49m\u001B[43mgroup_keys\u001B[49m\u001B[43m,\u001B[49m\n\u001B[0;32m   8877\u001B[0m \u001B[43m    \u001B[49m\u001B[43mobserved\u001B[49m\u001B[38;5;241;43m=\u001B[39;49m\u001B[43mobserved\u001B[49m\u001B[43m,\u001B[49m\n\u001B[0;32m   8878\u001B[0m \u001B[43m    \u001B[49m\u001B[43mdropna\u001B[49m\u001B[38;5;241;43m=\u001B[39;49m\u001B[43mdropna\u001B[49m\u001B[43m,\u001B[49m\n\u001B[0;32m   8879\u001B[0m \u001B[43m\u001B[49m\u001B[43m)\u001B[49m\n",
      "File \u001B[1;32mC:\\Users Files\\mjk\\Coding\\PyCharm\\PythonScientificProgrammingBasics-SeophyungPark\\venv\\lib\\site-packages\\pandas\\core\\groupby\\groupby.py:1278\u001B[0m, in \u001B[0;36mGroupBy.__init__\u001B[1;34m(self, obj, keys, axis, level, grouper, exclusions, selection, as_index, sort, group_keys, observed, dropna)\u001B[0m\n\u001B[0;32m   1275\u001B[0m \u001B[38;5;28mself\u001B[39m\u001B[38;5;241m.\u001B[39mdropna \u001B[38;5;241m=\u001B[39m dropna\n\u001B[0;32m   1277\u001B[0m \u001B[38;5;28;01mif\u001B[39;00m grouper \u001B[38;5;129;01mis\u001B[39;00m \u001B[38;5;28;01mNone\u001B[39;00m:\n\u001B[1;32m-> 1278\u001B[0m     grouper, exclusions, obj \u001B[38;5;241m=\u001B[39m \u001B[43mget_grouper\u001B[49m\u001B[43m(\u001B[49m\n\u001B[0;32m   1279\u001B[0m \u001B[43m        \u001B[49m\u001B[43mobj\u001B[49m\u001B[43m,\u001B[49m\n\u001B[0;32m   1280\u001B[0m \u001B[43m        \u001B[49m\u001B[43mkeys\u001B[49m\u001B[43m,\u001B[49m\n\u001B[0;32m   1281\u001B[0m \u001B[43m        \u001B[49m\u001B[43maxis\u001B[49m\u001B[38;5;241;43m=\u001B[39;49m\u001B[43maxis\u001B[49m\u001B[43m,\u001B[49m\n\u001B[0;32m   1282\u001B[0m \u001B[43m        \u001B[49m\u001B[43mlevel\u001B[49m\u001B[38;5;241;43m=\u001B[39;49m\u001B[43mlevel\u001B[49m\u001B[43m,\u001B[49m\n\u001B[0;32m   1283\u001B[0m \u001B[43m        \u001B[49m\u001B[43msort\u001B[49m\u001B[38;5;241;43m=\u001B[39;49m\u001B[43msort\u001B[49m\u001B[43m,\u001B[49m\n\u001B[0;32m   1284\u001B[0m \u001B[43m        \u001B[49m\u001B[43mobserved\u001B[49m\u001B[38;5;241;43m=\u001B[39;49m\u001B[38;5;28;43;01mFalse\u001B[39;49;00m\u001B[43m \u001B[49m\u001B[38;5;28;43;01mif\u001B[39;49;00m\u001B[43m \u001B[49m\u001B[43mobserved\u001B[49m\u001B[43m \u001B[49m\u001B[38;5;129;43;01mis\u001B[39;49;00m\u001B[43m \u001B[49m\u001B[43mlib\u001B[49m\u001B[38;5;241;43m.\u001B[39;49m\u001B[43mno_default\u001B[49m\u001B[43m \u001B[49m\u001B[38;5;28;43;01melse\u001B[39;49;00m\u001B[43m \u001B[49m\u001B[43mobserved\u001B[49m\u001B[43m,\u001B[49m\n\u001B[0;32m   1285\u001B[0m \u001B[43m        \u001B[49m\u001B[43mdropna\u001B[49m\u001B[38;5;241;43m=\u001B[39;49m\u001B[38;5;28;43mself\u001B[39;49m\u001B[38;5;241;43m.\u001B[39;49m\u001B[43mdropna\u001B[49m\u001B[43m,\u001B[49m\n\u001B[0;32m   1286\u001B[0m \u001B[43m    \u001B[49m\u001B[43m)\u001B[49m\n\u001B[0;32m   1288\u001B[0m \u001B[38;5;28;01mif\u001B[39;00m observed \u001B[38;5;129;01mis\u001B[39;00m lib\u001B[38;5;241m.\u001B[39mno_default:\n\u001B[0;32m   1289\u001B[0m     \u001B[38;5;28;01mif\u001B[39;00m \u001B[38;5;28many\u001B[39m(ping\u001B[38;5;241m.\u001B[39m_passed_categorical \u001B[38;5;28;01mfor\u001B[39;00m ping \u001B[38;5;129;01min\u001B[39;00m grouper\u001B[38;5;241m.\u001B[39mgroupings):\n",
      "File \u001B[1;32mC:\\Users Files\\mjk\\Coding\\PyCharm\\PythonScientificProgrammingBasics-SeophyungPark\\venv\\lib\\site-packages\\pandas\\core\\groupby\\grouper.py:1009\u001B[0m, in \u001B[0;36mget_grouper\u001B[1;34m(obj, key, axis, level, sort, observed, validate, dropna)\u001B[0m\n\u001B[0;32m   1007\u001B[0m         in_axis, level, gpr \u001B[38;5;241m=\u001B[39m \u001B[38;5;28;01mFalse\u001B[39;00m, gpr, \u001B[38;5;28;01mNone\u001B[39;00m\n\u001B[0;32m   1008\u001B[0m     \u001B[38;5;28;01melse\u001B[39;00m:\n\u001B[1;32m-> 1009\u001B[0m         \u001B[38;5;28;01mraise\u001B[39;00m \u001B[38;5;167;01mKeyError\u001B[39;00m(gpr)\n\u001B[0;32m   1010\u001B[0m \u001B[38;5;28;01melif\u001B[39;00m \u001B[38;5;28misinstance\u001B[39m(gpr, Grouper) \u001B[38;5;129;01mand\u001B[39;00m gpr\u001B[38;5;241m.\u001B[39mkey \u001B[38;5;129;01mis\u001B[39;00m \u001B[38;5;129;01mnot\u001B[39;00m \u001B[38;5;28;01mNone\u001B[39;00m:\n\u001B[0;32m   1011\u001B[0m     \u001B[38;5;66;03m# Add key to exclusions\u001B[39;00m\n\u001B[0;32m   1012\u001B[0m     exclusions\u001B[38;5;241m.\u001B[39madd(gpr\u001B[38;5;241m.\u001B[39mkey)\n",
      "\u001B[1;31mKeyError\u001B[0m: '시간'"
     ]
    }
   ],
   "source": []
  }
 ],
 "metadata": {
  "celltoolbar": "Slideshow",
  "kernelspec": {
   "display_name": "Python 3 (ipykernel)",
   "language": "python",
   "name": "python3"
  },
  "language_info": {
   "codemirror_mode": {
    "name": "ipython",
    "version": 3
   },
   "file_extension": ".py",
   "mimetype": "text/x-python",
   "name": "python",
   "nbconvert_exporter": "python",
   "pygments_lexer": "ipython3",
   "version": "3.11.4"
  },
  "latex_envs": {
   "LaTeX_envs_menu_present": true,
   "autoclose": false,
   "autocomplete": true,
   "bibliofile": "biblio.bib",
   "cite_by": "apalike",
   "current_citInitial": 1,
   "eqLabelWithNumbers": true,
   "eqNumInitial": 1,
   "hotkeys": {
    "equation": "Ctrl-E",
    "itemize": "Ctrl-I"
   },
   "labels_anchors": false,
   "latex_user_defs": false,
   "report_style_numbering": false,
   "user_envs_cfg": false
  },
  "toc": {
   "base_numbering": 1,
   "nav_menu": {},
   "number_sections": false,
   "sideBar": true,
   "skip_h1_title": false,
   "title_cell": "Table of Contents",
   "title_sidebar": "Contents",
   "toc_cell": false,
   "toc_position": {},
   "toc_section_display": true,
   "toc_window_display": false
  }
 },
 "nbformat": 4,
 "nbformat_minor": 4
}
