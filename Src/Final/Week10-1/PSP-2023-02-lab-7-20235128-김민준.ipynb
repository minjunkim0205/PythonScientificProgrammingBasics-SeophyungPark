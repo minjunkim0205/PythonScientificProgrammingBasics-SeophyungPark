{
 "cells": [
  {
   "cell_type": "markdown",
   "metadata": {},
   "source": [
    "<h1 align='center'> 파이썬과학프로그래밍기초 실습 7</h1>\n",
    "\n",
    "<p style=\"text-align: right\"> 2023.11.7.</p>"
   ]
  },
  {
   "cell_type": "markdown",
   "metadata": {},
   "source": [
    "### <div class=\"alert alert-block alert-info\">\n",
    "    \n",
    "- 파일 이름에서 00000000을 자신의 학번으로, name을 자신의 이름으로 수정하세요.\n",
    "\n",
    "- 다음 줄에 자신의 이름, 학번, 학과(전공)을 적으세요.\n",
    "\n",
    "* 이름:김민준   &nbsp;&nbsp;          학번:20235128    &nbsp;&nbsp;         학과(전공):소프트웨어융합\n",
    "    \n",
    "</div>\n",
    "\n",
    "- Jupyter notebook에 대한 설명은 [The Jupyter Notebook](https://jupyter-notebook.readthedocs.io/en/stable/)을  참고하라\n",
    "\n",
    "- Markdown은 [Markdown Guide](https://www.markdownguide.org/)를 참고하라.\n",
    "- [Markdown Cheat Sheet](https://www.markdownguide.org/cheat-sheet/)\n",
    "\n",
    "* 과제 제출: 12월 1일 (수) 오후 10:00까지 최종본 제출. \n"
   ]
  },
  {
   "cell_type": "markdown",
   "metadata": {},
   "source": [
    "#### 아래 셀에 다음 명령을 실행하라.\n",
    "\n",
    "```\n",
    "import numpy as np\n",
    "np.__version__\n",
    "```\n"
   ]
  },
  {
   "cell_type": "code",
   "execution_count": 148,
   "metadata": {
    "tags": [],
    "ExecuteTime": {
     "end_time": "2023-10-31T08:51:05.759206800Z",
     "start_time": "2023-10-31T08:51:05.657725900Z"
    }
   },
   "outputs": [
    {
     "data": {
      "text/plain": "'1.26.0'"
     },
     "execution_count": 148,
     "metadata": {},
     "output_type": "execute_result"
    }
   ],
   "source": [
    "import numpy as np\n",
    "np.__version__"
   ]
  },
  {
   "cell_type": "markdown",
   "metadata": {},
   "source": [
    "### 예제 1.\n",
    "NumPy의 arange를 사용하여 다음 ndarray를 만들어라.\n",
    "\n",
    "```\n",
    "array([0, 1, 2, 3, 4, 5, 6, 7], dtype=int16)\n",
    "```"
   ]
  },
  {
   "cell_type": "code",
   "execution_count": 149,
   "metadata": {
    "ExecuteTime": {
     "end_time": "2023-10-31T08:51:05.853746600Z",
     "start_time": "2023-10-31T08:51:05.669730100Z"
    }
   },
   "outputs": [
    {
     "data": {
      "text/plain": "array([0, 1, 2, 3, 4, 5, 6, 7], dtype=int16)"
     },
     "execution_count": 149,
     "metadata": {},
     "output_type": "execute_result"
    }
   ],
   "source": [
    "import numpy as np\n",
    "\n",
    "np.arange(8, dtype=np.int16)"
   ]
  },
  {
   "cell_type": "markdown",
   "metadata": {},
   "source": [
    "### 예제 2.\n",
    "NumPy의 arange를 사용하여 다음 ndarray를 만들어라.\n",
    "\n",
    "```\n",
    "array([ 0,  2,  4,  6,  8, 10, 12, 14], dtype=int64)\n",
    "```"
   ]
  },
  {
   "cell_type": "code",
   "execution_count": 150,
   "metadata": {
    "ExecuteTime": {
     "end_time": "2023-10-31T08:51:05.880263300Z",
     "start_time": "2023-10-31T08:51:05.686250900Z"
    }
   },
   "outputs": [
    {
     "data": {
      "text/plain": "array([ 0,  2,  4,  6,  8, 10, 12, 14], dtype=int64)"
     },
     "execution_count": 150,
     "metadata": {},
     "output_type": "execute_result"
    }
   ],
   "source": [
    "np.arange(0, 16, 2, dtype=np.int64)\n"
   ]
  },
  {
   "cell_type": "markdown",
   "metadata": {},
   "source": [
    "### 예제 3.\n",
    "NumPy의 arange를 사용하여 다음 ndarray를 만들어라.\n",
    "\n",
    "```\n",
    "array([1. , 1.2, 1.4, 1.6, 1.8])\n",
    "```"
   ]
  },
  {
   "cell_type": "code",
   "execution_count": 151,
   "metadata": {
    "ExecuteTime": {
     "end_time": "2023-10-31T08:51:05.886266100Z",
     "start_time": "2023-10-31T08:51:05.702248900Z"
    }
   },
   "outputs": [
    {
     "data": {
      "text/plain": "array([1. , 1.2, 1.4, 1.6, 1.8])"
     },
     "execution_count": 151,
     "metadata": {},
     "output_type": "execute_result"
    }
   ],
   "source": [
    "np.arange(1, 2, 0.2)\n"
   ]
  },
  {
   "cell_type": "markdown",
   "metadata": {},
   "source": [
    "### 예제 4.\n",
    "NumPy의 linspace를 사용하여 다음 ndarray를 만들어라.\n",
    "\n",
    "```\n",
    "array([ 0. ,  2.5,  5. ,  7.5, 10. ])\n",
    "```"
   ]
  },
  {
   "cell_type": "code",
   "execution_count": 152,
   "metadata": {
    "ExecuteTime": {
     "end_time": "2023-10-31T08:51:05.906936100Z",
     "start_time": "2023-10-31T08:51:05.715696800Z"
    }
   },
   "outputs": [
    {
     "data": {
      "text/plain": "array([ 0. ,  2.5,  5. ,  7.5, 10. ])"
     },
     "execution_count": 152,
     "metadata": {},
     "output_type": "execute_result"
    }
   ],
   "source": [
    "np.linspace(0, 10, 5)\n"
   ]
  },
  {
   "cell_type": "markdown",
   "metadata": {},
   "source": [
    "### 예제 5.\n",
    "NumPy의 linspace를 사용하여 다음 ndarray를 만들어라.\n",
    "\n",
    "```\n",
    "array([ 1.  ,  3.25,  5.5 ,  7.75, 10.  ])\n",
    "```"
   ]
  },
  {
   "cell_type": "code",
   "execution_count": 153,
   "metadata": {
    "ExecuteTime": {
     "end_time": "2023-10-31T08:51:05.912935Z",
     "start_time": "2023-10-31T08:51:05.730699300Z"
    }
   },
   "outputs": [
    {
     "data": {
      "text/plain": "array([ 1.  ,  3.25,  5.5 ,  7.75, 10.  ])"
     },
     "execution_count": 153,
     "metadata": {},
     "output_type": "execute_result"
    }
   ],
   "source": [
    "np.linspace(1, 10, 5)\n"
   ]
  },
  {
   "cell_type": "markdown",
   "metadata": {},
   "source": [
    "### 예제 6.\n",
    "NumPy의 arange를 사용하여 다음 ndarray를 만들어라.\n",
    "\n",
    "```\n",
    "array([ 1.  ,  3.25,  5.5 ,  7.75, 10.  ])\n",
    "```"
   ]
  },
  {
   "cell_type": "code",
   "execution_count": 154,
   "metadata": {
    "ExecuteTime": {
     "end_time": "2023-10-31T08:51:05.913934500Z",
     "start_time": "2023-10-31T08:51:05.747207200Z"
    }
   },
   "outputs": [
    {
     "data": {
      "text/plain": "array([ 1.  ,  3.25,  5.5 ,  7.75, 10.  ])"
     },
     "execution_count": 154,
     "metadata": {},
     "output_type": "execute_result"
    }
   ],
   "source": [
    "np.arange(1, 10.1, 2.25)\n"
   ]
  },
  {
   "cell_type": "markdown",
   "metadata": {},
   "source": [
    "#### 예제 7.\n",
    "NumPy의 arange와 reshape을 사용하여 다음 ndarray를 만들어라.\n",
    "\n",
    "```\n",
    "array([[ 2,  4,  6,  8],\n",
    "       [10, 12, 14, 16],\n",
    "       [18, 20, 22, 24], dtype=int64)\n",
    "```"
   ]
  },
  {
   "cell_type": "code",
   "execution_count": 155,
   "metadata": {
    "ExecuteTime": {
     "end_time": "2023-10-31T08:51:05.920940100Z",
     "start_time": "2023-10-31T08:51:05.764211900Z"
    }
   },
   "outputs": [
    {
     "data": {
      "text/plain": "array([[ 2,  4,  6,  8],\n       [10, 12, 14, 16],\n       [18, 20, 22, 24]], dtype=int64)"
     },
     "execution_count": 155,
     "metadata": {},
     "output_type": "execute_result"
    }
   ],
   "source": [
    "np.arange(2, 25, 2, dtype=np.int64).reshape(3,4)"
   ]
  },
  {
   "cell_type": "markdown",
   "metadata": {},
   "source": [
    "### 문제 1.\n",
    "예제 7에서 만든 ndarray에서 4, 12, 20의 합 36을 출력하는 문장 2 개를 작성하라. (서로 다른 두 가지 방법으로 같은 결과를 출력하라)"
   ]
  },
  {
   "cell_type": "code",
   "execution_count": 156,
   "metadata": {
    "tags": [],
    "ExecuteTime": {
     "end_time": "2023-10-31T08:51:05.921940400Z",
     "start_time": "2023-10-31T08:51:05.780720300Z"
    }
   },
   "outputs": [
    {
     "name": "stdout",
     "output_type": "stream",
     "text": [
      "[[ 2  4  6  8]\n",
      " [10 12 14 16]\n",
      " [18 20 22 24]]"
     ]
    }
   ],
   "source": [
    "x = np.arange(2, 25, 2, dtype=np.int64).reshape(3,4)\n",
    "print(x, end=\"\")"
   ]
  },
  {
   "cell_type": "code",
   "execution_count": 157,
   "metadata": {
    "ExecuteTime": {
     "end_time": "2023-10-31T08:51:05.921940400Z",
     "start_time": "2023-10-31T08:51:05.792777400Z"
    }
   },
   "outputs": [
    {
     "name": "stdout",
     "output_type": "stream",
     "text": [
      "36\n"
     ]
    }
   ],
   "source": [
    "x = np.arange(2, 25, 2, dtype=np.int64).reshape(3, 4)\n",
    "value_sum:np.int64 = 0\n",
    "for row in x:\n",
    "    value_sum += row[1]\n",
    "print(value_sum, end=\"\\n\")"
   ]
  },
  {
   "cell_type": "code",
   "execution_count": 158,
   "metadata": {
    "ExecuteTime": {
     "end_time": "2023-10-31T08:51:05.922941300Z",
     "start_time": "2023-10-31T08:51:05.811233600Z"
    }
   },
   "outputs": [
    {
     "name": "stdout",
     "output_type": "stream",
     "text": [
      "36\n"
     ]
    }
   ],
   "source": [
    "x = np.arange(2, 25, 2, dtype=np.int64).reshape(3, 4)\n",
    "value_sum = x[:, 1:2].sum()\n",
    "print(value_sum, end=\"\\n\")"
   ]
  },
  {
   "cell_type": "markdown",
   "metadata": {},
   "source": [
    "### 문제 2.\n",
    "예제 7에서 만든 ndarray에서 18, 20, 22, 24의 합 84를 출력하는 문장 3 개를 작성하라. (서로 다른 두 가지 방법으로 같은 결과를 출력하라)"
   ]
  },
  {
   "cell_type": "code",
   "execution_count": 159,
   "metadata": {
    "ExecuteTime": {
     "end_time": "2023-10-31T08:51:05.922941300Z",
     "start_time": "2023-10-31T08:51:05.826242800Z"
    }
   },
   "outputs": [
    {
     "name": "stdout",
     "output_type": "stream",
     "text": [
      "[[ 2  4  6  8]\n",
      " [10 12 14 16]\n",
      " [18 20 22 24]]"
     ]
    }
   ],
   "source": [
    "x = np.arange(2, 25, 2, dtype=np.int64).reshape(3,4)\n",
    "print(x, end=\"\")"
   ]
  },
  {
   "cell_type": "code",
   "execution_count": 160,
   "metadata": {
    "ExecuteTime": {
     "end_time": "2023-10-31T08:51:05.923940800Z",
     "start_time": "2023-10-31T08:51:05.841746600Z"
    }
   },
   "outputs": [
    {
     "name": "stdout",
     "output_type": "stream",
     "text": [
      "84"
     ]
    }
   ],
   "source": [
    "x = np.arange(2, 25, 2, dtype=np.int64).reshape(3,4)\n",
    "value_sum:np.int64 = x[2][0]+x[2][1]+x[2][2]+x[2][3]\n",
    "print(value_sum, end=\"\")"
   ]
  },
  {
   "cell_type": "code",
   "execution_count": 161,
   "outputs": [
    {
     "name": "stdout",
     "output_type": "stream",
     "text": [
      "84"
     ]
    }
   ],
   "source": [
    "x = np.arange(2, 25, 2, dtype=np.int64).reshape(3,4)\n",
    "value_sum:np.int64 = 0\n",
    "for cal in x[2]:\n",
    "    value_sum += cal\n",
    "print(value_sum, end=\"\")"
   ],
   "metadata": {
    "collapsed": false,
    "ExecuteTime": {
     "end_time": "2023-10-31T08:51:05.923940800Z",
     "start_time": "2023-10-31T08:51:05.856751200Z"
    }
   }
  },
  {
   "cell_type": "code",
   "execution_count": 162,
   "metadata": {
    "ExecuteTime": {
     "end_time": "2023-10-31T08:51:06.016428100Z",
     "start_time": "2023-10-31T08:51:05.874265Z"
    }
   },
   "outputs": [
    {
     "name": "stdout",
     "output_type": "stream",
     "text": [
      "84"
     ]
    }
   ],
   "source": [
    "x = np.arange(2, 25, 2, dtype=np.int64).reshape(3,4)\n",
    "value_sum:np.int64 = x[2, :].sum()\n",
    "print(value_sum, end=\"\")"
   ]
  },
  {
   "cell_type": "markdown",
   "metadata": {},
   "source": [
    "### 문제 3.\n",
    "예제 7에서 만든 ndarray에서 2, 12, 22의 합 36을 출력하는 문장을 작성하라."
   ]
  },
  {
   "cell_type": "code",
   "execution_count": 163,
   "metadata": {
    "ExecuteTime": {
     "end_time": "2023-10-31T08:51:06.016428100Z",
     "start_time": "2023-10-31T08:51:05.889268Z"
    }
   },
   "outputs": [
    {
     "name": "stdout",
     "output_type": "stream",
     "text": [
      "36"
     ]
    }
   ],
   "source": [
    "x = np.arange(2, 25, 2, dtype=np.int64).reshape(3,4)\n",
    "value_sum:np.int64 = 0\n",
    "index:int = 0\n",
    "for row in x:\n",
    "    #print(row[index], end=\"\\n\")\n",
    "    value_sum+=row[index]\n",
    "    index+=1\n",
    "print(value_sum, end=\"\")"
   ]
  },
  {
   "cell_type": "markdown",
   "metadata": {},
   "source": [
    "### 문제 4.\n",
    "예제 7에서 만든 ndarray에서 4, 14, 24의 합 42을 출력하는 문장을 작성하라."
   ]
  },
  {
   "cell_type": "code",
   "execution_count": 164,
   "metadata": {
    "ExecuteTime": {
     "end_time": "2023-10-31T08:51:06.028935Z",
     "start_time": "2023-10-31T08:51:05.905934900Z"
    }
   },
   "outputs": [
    {
     "name": "stdout",
     "output_type": "stream",
     "text": [
      "42"
     ]
    }
   ],
   "source": [
    "x = np.arange(2, 25, 2, dtype=np.int64).reshape(3,4)\n",
    "value_sum:np.int64 = 0\n",
    "index:int = 1\n",
    "for row in x:\n",
    "    #print(row[index], end=\"\\n\")\n",
    "    value_sum+=row[index]\n",
    "    index+=1\n",
    "print(value_sum, end=\"\")"
   ]
  },
  {
   "cell_type": "markdown",
   "metadata": {},
   "source": [
    "### 문제 5.\n",
    "예제 7에서 만든 ndarray에서 10, 20의 합 30을 출력하는 문장을 작성하라."
   ]
  },
  {
   "cell_type": "code",
   "execution_count": 165,
   "metadata": {
    "scrolled": true,
    "ExecuteTime": {
     "end_time": "2023-10-31T08:51:06.046944500Z",
     "start_time": "2023-10-31T08:51:05.922941300Z"
    }
   },
   "outputs": [
    {
     "name": "stdout",
     "output_type": "stream",
     "text": [
      "30"
     ]
    }
   ],
   "source": [
    "x = np.arange(2, 25, 2, dtype=np.int64).reshape(3,4)\n",
    "value_sum:np.int64 = 0\n",
    "index:int = 0\n",
    "for row in x[1:, :]:\n",
    "    #print(row[index], end=\"\\n\")\n",
    "    value_sum+=row[index]\n",
    "    index+=1\n",
    "print(value_sum, end=\"\")"
   ]
  },
  {
   "cell_type": "markdown",
   "metadata": {},
   "source": [
    "### 예제 7. 축 방향으로 함수 적용하기 \n",
    "```\n",
    "apply_along_axis(func1d, axis, arr, *args, **kwargs)\n",
    "```\n"
   ]
  },
  {
   "cell_type": "code",
   "execution_count": 166,
   "metadata": {
    "scrolled": true,
    "ExecuteTime": {
     "end_time": "2023-10-31T08:51:06.046944500Z",
     "start_time": "2023-10-31T08:51:05.938992300Z"
    }
   },
   "outputs": [
    {
     "name": "stdout",
     "output_type": "stream",
     "text": [
      "[[38 44 13  9 10]\n",
      " [12  6 16  1 17]\n",
      " [ 2 13  8 46  7]]\n"
     ]
    }
   ],
   "source": [
    "np.random.seed(1)\n",
    "a = np.random.randint(1, 50, (3,5))\n",
    "print(a)"
   ]
  },
  {
   "cell_type": "markdown",
   "metadata": {},
   "source": [
    "#### 7.1 축 방향으로 정렬하기"
   ]
  },
  {
   "cell_type": "code",
   "execution_count": 167,
   "metadata": {
    "scrolled": true,
    "ExecuteTime": {
     "end_time": "2023-10-31T08:51:06.047950600Z",
     "start_time": "2023-10-31T08:51:05.952996400Z"
    }
   },
   "outputs": [
    {
     "data": {
      "text/plain": "array([[ 2,  6,  8,  1,  7],\n       [12, 13, 13,  9, 10],\n       [38, 44, 16, 46, 17]])"
     },
     "execution_count": 167,
     "metadata": {},
     "output_type": "execute_result"
    }
   ],
   "source": [
    "np.apply_along_axis(sorted, 0, a)"
   ]
  },
  {
   "cell_type": "markdown",
   "metadata": {},
   "source": [
    "#### 7.2 축 방향으로 사용자 정의 함수 적용하기"
   ]
  },
  {
   "cell_type": "code",
   "execution_count": 168,
   "metadata": {
    "ExecuteTime": {
     "end_time": "2023-10-31T08:51:06.047950600Z",
     "start_time": "2023-10-31T08:51:05.970045700Z"
    }
   },
   "outputs": [],
   "source": [
    "f = lambda x, y: x**y + 1"
   ]
  },
  {
   "cell_type": "code",
   "execution_count": 169,
   "metadata": {
    "ExecuteTime": {
     "end_time": "2023-10-31T08:51:06.048951500Z",
     "start_time": "2023-10-31T08:51:05.984891600Z"
    }
   },
   "outputs": [
    {
     "data": {
      "text/plain": "array([[1445, 1937,  170,   82,  101],\n       [ 145,   37,  257,    2,  290],\n       [   5,  170,   65, 2117,   50]])"
     },
     "execution_count": 169,
     "metadata": {},
     "output_type": "execute_result"
    }
   ],
   "source": [
    "np.apply_along_axis(f, 1, a, 2)"
   ]
  },
  {
   "cell_type": "code",
   "execution_count": 170,
   "metadata": {
    "ExecuteTime": {
     "end_time": "2023-10-31T08:51:06.048951500Z",
     "start_time": "2023-10-31T08:51:06.001398Z"
    }
   },
   "outputs": [
    {
     "data": {
      "text/plain": "array([[1445, 1937,  170,   82,  101],\n       [ 145,   37,  257,    2,  290],\n       [   5,  170,   65, 2117,   50]])"
     },
     "execution_count": 170,
     "metadata": {},
     "output_type": "execute_result"
    }
   ],
   "source": [
    "a**2 + 1"
   ]
  },
  {
   "cell_type": "code",
   "execution_count": 171,
   "metadata": {
    "ExecuteTime": {
     "end_time": "2023-10-31T08:51:06.060022100Z",
     "start_time": "2023-10-31T08:51:06.018429400Z"
    }
   },
   "outputs": [
    {
     "name": "stdout",
     "output_type": "stream",
     "text": [
      "[[38 44 13  9 10]\n",
      " [12  6 16  1 17]\n",
      " [ 2 13  8 46  7]]\n",
      "[[38 44 13  9 10]\n",
      " [12  6 16  1 17]\n",
      " [ 2 13  8 46  7]]\n",
      "[9 1 2]\n"
     ]
    }
   ],
   "source": [
    "print(a)\n",
    "min_a = np.apply_along_axis(min, 1, a)\n",
    "print(a)\n",
    "print(min_a)"
   ]
  },
  {
   "cell_type": "markdown",
   "metadata": {},
   "source": [
    "### 문제 6. \n",
    "'fake_student_records.csv' 파일은 가상의 학생들의 시험 성적을 기록한 파일이다.\n",
    "아래 프로그램은 이 파일의 한 줄을 딕셔너리로 변환하여 콘솔에 출력하는 프로그램이다.\n",
    "```\n",
    "import csv\n",
    "with open('fake_student_records.csv', mode='r', encoding='utf-8') as csv_file:\n",
    "    csv_reader = csv.DictReader(csv_file)\n",
    "    for row in csv_reader:\n",
    "        print(row)\n",
    "```\n",
    "이 프로그램을 응용하여 학생들이 8 번 제출한 과제 성적을를 2차원 numpy array로 변환한 후에 각 시험의 평균을 소숫점 첫째자리까지 콘솔에 출력하라.\n",
    "\n",
    "정답은 다음과 같다.\n",
    "```\n",
    "[75.5 73.2 77.9 74.1 75.4 75.9 73.2 73.7]\n",
    "```"
   ]
  },
  {
   "cell_type": "code",
   "execution_count": 172,
   "metadata": {
    "tags": [],
    "ExecuteTime": {
     "end_time": "2023-10-31T08:51:06.137622Z",
     "start_time": "2023-10-31T08:51:06.033936200Z"
    }
   },
   "outputs": [
    {
     "name": "stdout",
     "output_type": "stream",
     "text": [
      "[73.7 72.6 73.8 74.7 73.7 71.5 72.8 76.2]"
     ]
    }
   ],
   "source": [
    "import csv\n",
    "import numpy as np\n",
    "\n",
    "score = []\n",
    "\n",
    "with open('fake_student_records.csv', mode='r', encoding='utf-8') as csv_file:\n",
    "    csv_reader = csv.DictReader(csv_file)\n",
    "    for row in csv_reader:\n",
    "        scores = [int(row[f'과제{i}']) for i in range(1, 9)]\n",
    "        score.append(scores)\n",
    "\n",
    "result = np.round(np.sum(score, axis=0)/np.array(score).shape[0], 1)\n",
    "print(result, end=\"\")"
   ]
  },
  {
   "cell_type": "markdown",
   "metadata": {},
   "source": [
    "### 문제 7.\n",
    "다음 ndarray를 만들고 변수 a에 이 객체를 할당하라. 단, 모든 원소를 직접 나열하면 안된다.\n",
    "\n",
    "```\n",
    "array([[[  3   6   9  12  15]\n",
    "       [ 18  21  24  27  30]\n",
    "       [ 33  36  39  42  45]]\n",
    "\n",
    "      [[ 48  51  54  57  60]\n",
    "       [ 63  66  69  72  75]\n",
    "       [ 78  81  84  87  90]]\n",
    "\n",
    "      [[ 93  96  99 102 105]\n",
    "       [108 111 114 117 120]\n",
    "       [123 126 129 132 135]]\n",
    "\n",
    "      [[138 141 144 147 150]\n",
    "       [153 156 159 162 165]\n",
    "       [168 171 174 177 180]]])\n",
    "```"
   ]
  },
  {
   "cell_type": "code",
   "execution_count": 173,
   "metadata": {
    "scrolled": true,
    "ExecuteTime": {
     "end_time": "2023-10-31T08:51:06.151701200Z",
     "start_time": "2023-10-31T08:51:06.046944500Z"
    }
   },
   "outputs": [
    {
     "name": "stdout",
     "output_type": "stream",
     "text": [
      "[[[  3   6   9  12  15]\n",
      "  [ 18  21  24  27  30]\n",
      "  [ 33  36  39  42  45]]\n",
      "\n",
      " [[ 48  51  54  57  60]\n",
      "  [ 63  66  69  72  75]\n",
      "  [ 78  81  84  87  90]]\n",
      "\n",
      " [[ 93  96  99 102 105]\n",
      "  [108 111 114 117 120]\n",
      "  [123 126 129 132 135]]\n",
      "\n",
      " [[138 141 144 147 150]\n",
      "  [153 156 159 162 165]\n",
      "  [168 171 174 177 180]]]\n"
     ]
    }
   ],
   "source": [
    "import numpy as np\n",
    "\n",
    "a = np.arange(3, 181, 3).reshape(4, 3, 5)\n",
    "print(a)"
   ]
  },
  {
   "cell_type": "markdown",
   "metadata": {},
   "source": [
    "### 문제 8.\n",
    "아래와 같이 a에 2 차원 배열이 할당되었다고 가정하자.\n",
    "```\n",
    "a = [[38 44 13  9 10]\n",
    "     [12  6 16  1 17]\n",
    "     [ 2 13  8 46  7]]\n",
    "```\n",
    "axis 0 방향으로 최대값에는 5를 더하고 최소값에는 5를 빼면 a는 다음과 같이 변한다.\n",
    "```\n",
    "a = [[43 49 13  9 10]\n",
    "     [12  1 21 -4 22]\n",
    "     [-3 13  3 51  2]]\n",
    "```\n",
    "이런 연산을 하는 프로그램을 만들어라. 단, apply_along_axis() 함수를 이용하라."
   ]
  },
  {
   "cell_type": "code",
   "execution_count": 174,
   "metadata": {
    "scrolled": true,
    "ExecuteTime": {
     "end_time": "2023-10-31T08:51:06.152701300Z",
     "start_time": "2023-10-31T08:51:06.064023300Z"
    }
   },
   "outputs": [
    {
     "name": "stdout",
     "output_type": "stream",
     "text": [
      "[[43 49 13  9 10]\n",
      " [12  1 21 -4 22]\n",
      " [-3 13  3 51  2]]\n"
     ]
    }
   ],
   "source": [
    "import numpy as np\n",
    "\n",
    "def solve(row):\n",
    "    max_val = row.max()\n",
    "    min_val = row.min()\n",
    "    row[row == max_val] += 5\n",
    "    row[row == min_val] -= 5\n",
    "    return row\n",
    "\n",
    "a = np.array([[38, 44, 13, 9, 10],\n",
    "              [12, 6, 16, 1, 17],\n",
    "              [2, 13, 8, 46, 7]])\n",
    "result = np.apply_along_axis(solve, axis=0, arr=a)\n",
    "print(result)"
   ]
  },
  {
   "cell_type": "markdown",
   "metadata": {
    "tags": []
   },
   "source": [
    "### 문제 9.\n",
    "예제 14에서 사용한 'fake_student_records.csv' 파일을 읽어서, 각 학생들의 8 번 과제 중에서 최저 점수를 제외한 7 번 시험의 평균을 구하여 소숫점 첫째 자리까지 콘솔에 출력하라. 정답은 다음과 같아야 한다.\n",
    "```\n",
    "[75.3 69.6 74.3 78.  77.4 80.1 76.6 91.1 77.6 72.3 82.7 82.  82.6 72.7\n",
    " 78.7 86.3 81.  81.7 82.9 82.7 79.1 83.1 78.3 70.4 72.3 76.6 80.6 74.6\n",
    " 81.9 75.6 80.7 71.1 77.6 77.7 71.3 74.9 77.3 76.4 80.  82.1 72.  72.7\n",
    " 76.4 76.9 75.3 76.7 86.7 79.1 74.3 72.1 86.9 67.7 78.1 81.9 76.9 82.3\n",
    " 73.1 84.6 73.4 81.1 80.6 81.3 70.1 75.  84.9 79.4 79.4 71.1 74.1 87.\n",
    " 79.3 72.  80.6 79.4 72.7 84.6]\n",
    "```"
   ]
  },
  {
   "cell_type": "code",
   "execution_count": 175,
   "metadata": {
    "tags": [],
    "ExecuteTime": {
     "end_time": "2023-10-31T08:51:06.152701300Z",
     "start_time": "2023-10-31T08:51:06.079028400Z"
    }
   },
   "outputs": [
    {
     "name": "stdout",
     "output_type": "stream",
     "text": [
      "[66.3 76.4 86.3 79.4 82.3 79.  78.4 65.1 83.6 68.4 84.3 80.9 84.6 74.7\n",
      " 78.7 80.3 85.3 82.6 73.  79.3 66.4 71.9 77.9 71.9 73.1 81.4 71.9 81.4\n",
      " 86.4 72.1 77.9 81.7 71.  79.  80.7 65.7 78.  74.9 77.9 81.1 85.3 78.7\n",
      " 71.4 73.3 79.1 77.3 74.6 68.9 71.9 76.9 69.4 79.  82.6 72.9 88.  76.3\n",
      " 82.9 82.1 83.  70.9 83.9 84.3 73.7 76.4 63.1 72.4 81.1 86.  60.4 73.3\n",
      " 66.9 75.4 73.6 80.1 73.7 72.9]"
     ]
    }
   ],
   "source": [
    "import csv\n",
    "import numpy as np\n",
    "\n",
    "score = []\n",
    "\n",
    "with open('fake_student_records.csv', mode='r', encoding='utf-8') as csv_file:\n",
    "    csv_reader = csv.DictReader(csv_file)\n",
    "    for row in csv_reader:\n",
    "        scores = [int(row[f'과제{i}']) for i in range(1, 9)]\n",
    "        scores.sort()\n",
    "        scores.pop(0)\n",
    "        score.append(sum(scores)/7)\n",
    "\n",
    "result = np.round(score, 1)\n",
    "print(result, end=\"\")"
   ]
  }
 ],
 "metadata": {
  "kernelspec": {
   "display_name": "Python 3 (ipykernel)",
   "language": "python",
   "name": "python3"
  },
  "language_info": {
   "codemirror_mode": {
    "name": "ipython",
    "version": 3
   },
   "file_extension": ".py",
   "mimetype": "text/x-python",
   "name": "python",
   "nbconvert_exporter": "python",
   "pygments_lexer": "ipython3",
   "version": "3.11.4"
  },
  "latex_envs": {
   "LaTeX_envs_menu_present": true,
   "autoclose": false,
   "autocomplete": true,
   "bibliofile": "biblio.bib",
   "cite_by": "apalike",
   "current_citInitial": 1,
   "eqLabelWithNumbers": true,
   "eqNumInitial": 1,
   "hotkeys": {
    "equation": "Ctrl-E",
    "itemize": "Ctrl-I"
   },
   "labels_anchors": false,
   "latex_user_defs": false,
   "report_style_numbering": false,
   "user_envs_cfg": false
  },
  "toc": {
   "base_numbering": 1,
   "nav_menu": {},
   "number_sections": false,
   "sideBar": true,
   "skip_h1_title": false,
   "title_cell": "Table of Contents",
   "title_sidebar": "Contents",
   "toc_cell": false,
   "toc_position": {
    "height": "calc(100% - 180px)",
    "left": "10px",
    "top": "150px",
    "width": "270.5px"
   },
   "toc_section_display": true,
   "toc_window_display": false
  }
 },
 "nbformat": 4,
 "nbformat_minor": 4
}
