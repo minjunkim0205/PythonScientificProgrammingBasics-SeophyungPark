{
 "cells": [
  {
   "cell_type": "markdown",
   "metadata": {},
   "source": [
    "<h1 align='center'> 파이썬과학프로그래밍기초 실습 9</h1>\n",
    "\n",
    "<p style=\"text-align: right\"> 2023.11.16.</p>"
   ]
  },
  {
   "cell_type": "markdown",
   "metadata": {},
   "source": [
    "### \n",
    "<div class=\"alert alert-block alert-info\">\n",
    "- 파일 이름에서 00000000을 자신의 학번으로, name을 자신의 이름으로 수정하세요.\n",
    "\n",
    "- 다음 줄에 자신의 이름, 학번, 학과(전공)을 적으세요.\n",
    "\n",
    "* 이름:김민준   &nbsp;&nbsp;          학번:20235128    &nbsp;&nbsp;         학과(전공):소프트웨어융합\n",
    "    \n",
    "</div>\n",
    "\n",
    "- Jupyter notebook에 대한 설명은 [The Jupyter Notebook](https://jupyter-notebook.readthedocs.io/en/stable/)을  참고하라\n",
    "\n",
    "- Markdown은 [Markdown Guide](https://www.markdownguide.org/)를 참고하라.\n",
    "- [Markdown Cheat Sheet](https://www.markdownguide.org/cheat-sheet/)\n",
    "\n",
    "* 과제 제출: 11월 15일 (수) 오후 10:00까지 최종본 제출. \n"
   ]
  },
  {
   "cell_type": "markdown",
   "metadata": {},
   "source": [
    "### 예제 0: 아래 셀에 다음 명령을 실행하라.\n",
    "\n",
    "```\n",
    "import numpy as np\n",
    "import matplotlib.pyplot as plt\n",
    "from scipy import misc\n",
    "```\n"
   ]
  },
  {
   "cell_type": "code",
   "execution_count": 83,
   "metadata": {
    "tags": [],
    "ExecuteTime": {
     "end_time": "2023-11-16T06:36:22.839525200Z",
     "start_time": "2023-11-16T06:36:22.450290300Z"
    }
   },
   "outputs": [],
   "source": [
    "import numpy as np\n",
    "import matplotlib.pyplot as plt\n",
    "import scipy.datasets as ds"
   ]
  },
  {
   "cell_type": "code",
   "execution_count": 84,
   "metadata": {
    "tags": [],
    "ExecuteTime": {
     "end_time": "2023-11-16T06:36:22.990561900Z",
     "start_time": "2023-11-16T06:36:22.462325900Z"
    }
   },
   "outputs": [
    {
     "data": {
      "text/plain": "'3.9.13 (tags/v3.9.13:6de2ca5, May 17 2022, 16:36:42) [MSC v.1929 64 bit (AMD64)]'"
     },
     "execution_count": 84,
     "metadata": {},
     "output_type": "execute_result"
    }
   ],
   "source": [
    "import sys\n",
    "sys.version"
   ]
  },
  {
   "cell_type": "code",
   "execution_count": 84,
   "outputs": [],
   "source": [],
   "metadata": {
    "collapsed": false,
    "ExecuteTime": {
     "end_time": "2023-11-16T06:36:23.034536500Z",
     "start_time": "2023-11-16T06:36:22.476364900Z"
    }
   }
  },
  {
   "cell_type": "code",
   "execution_count": 85,
   "metadata": {
    "tags": [],
    "ExecuteTime": {
     "end_time": "2023-11-16T06:36:23.042532800Z",
     "start_time": "2023-11-16T06:36:22.495805500Z"
    }
   },
   "outputs": [],
   "source": [
    "import cv2\n",
    "#cv2.__version__"
   ]
  },
  {
   "cell_type": "markdown",
   "metadata": {},
   "source": [
    "### 예제 1.\n",
    "지난 주 문제 1의 3원색 겹친 원 그리기"
   ]
  },
  {
   "cell_type": "code",
   "execution_count": 86,
   "metadata": {
    "tags": [],
    "ExecuteTime": {
     "end_time": "2023-11-16T06:36:23.135246200Z",
     "start_time": "2023-11-16T06:36:22.519681500Z"
    }
   },
   "outputs": [
    {
     "data": {
      "text/plain": "<Figure size 640x480 with 1 Axes>",
      "image/png": "[encoded data removed]"
     },
     "metadata": {},
     "output_type": "display_data"
    }
   ],
   "source": [
    "cols = rows = a = 301\n",
    "margin = 20 \n",
    "radius = margin * 4\n",
    "cr = np.array([margin+radius, a//2])\n",
    "cg = np.array([a-radius-margin, margin+radius])\n",
    "cb = np.array([a-radius-margin, a-radius-margin])\n",
    "img = np.zeros((rows, cols, 3), dtype=np.uint8)\n",
    "\n",
    "r = np.arange(rows).reshape(-1,1)\n",
    "c = np.arange(cols).reshape(1,-1)\n",
    "\n",
    "img[(r-cr[0])**2 + (c-cr[1])**2 < radius**2] = np.array([255, 0, 0])\n",
    "img1 = np.zeros((rows, cols, 3), dtype=np.uint8)\n",
    "img1[ (r-cg[0])**2 + (c-cg[1])**2 < radius**2] = np.array([0, 255, 0])\n",
    "img2 = np.zeros((rows, cols, 3), dtype=np.uint8)\n",
    "img2[ (r-cb[0])**2 + (c-cb[1])**2 < radius**2] = np.array([0, 0, 255])\n",
    "img = img + img1 +img2\n",
    "\n",
    "plt.imshow(img)\n",
    "plt.show()"
   ]
  },
  {
   "cell_type": "markdown",
   "metadata": {},
   "source": [
    "### 예제 2.\n",
    "Ndarray 데이터를 이미지 파일로 저장하기.\n",
    "\n",
    "아래 셀을 실행하여 예제 1에서 만든 ndarray를 이미지 파일로 저장하라."
   ]
  },
  {
   "cell_type": "code",
   "execution_count": 87,
   "metadata": {
    "tags": [],
    "ExecuteTime": {
     "end_time": "2023-11-16T06:36:23.135246200Z",
     "start_time": "2023-11-16T06:36:22.878891600Z"
    }
   },
   "outputs": [],
   "source": [
    "import matplotlib.image as mplimg\n",
    "mplimg.imsave('test.png', img)"
   ]
  },
  {
   "cell_type": "markdown",
   "metadata": {},
   "source": [
    "### 예제 3.\n",
    "\n",
    "아래 셀을 실행하여 예제 2에서 만든 파일을 확인하라.\n",
    "\n",
    "단, Mac OS에서는 dir 대신에 ls -l을 사용한다.\n",
    "\n",
    "!ls -al test.png"
   ]
  },
  {
   "cell_type": "code",
   "execution_count": 88,
   "metadata": {
    "tags": [],
    "ExecuteTime": {
     "end_time": "2023-11-16T06:36:23.135246200Z",
     "start_time": "2023-11-16T06:36:22.910953700Z"
    }
   },
   "outputs": [
    {
     "name": "stdout",
     "output_type": "stream",
     "text": [
      " Volume in drive C has no label.\n",
      " Volume Serial Number is 36A9-0FEC\n",
      "\n",
      " Directory of C:\\Users Files\\mjk\\Coding\\PyCharm\\PythonScientificProgrammingBasics-SeophyungPark\\Src\\Final\\Week12-1\n",
      "\n",
      "11/16/2023  03:36 PM             2,805 test.png\n",
      "               1 File(s)          2,805 bytes\n",
      "               0 Dir(s)  226,572,558,336 bytes free\n"
     ]
    }
   ],
   "source": [
    "!dir test.png"
   ]
  },
  {
   "cell_type": "markdown",
   "metadata": {},
   "source": [
    "### 예제 4.\n",
    "예제 3에서 저장한 파일을 읽어서 화면에 표시하라."
   ]
  },
  {
   "cell_type": "code",
   "execution_count": 89,
   "metadata": {
    "tags": [],
    "ExecuteTime": {
     "end_time": "2023-11-16T06:36:23.342352400Z",
     "start_time": "2023-11-16T06:36:22.974562800Z"
    }
   },
   "outputs": [
    {
     "data": {
      "text/plain": "<Figure size 640x480 with 1 Axes>",
      "image/png": "[encoded data removed]"
     },
     "metadata": {},
     "output_type": "display_data"
    }
   ],
   "source": [
    "img2 = plt.imread('test.png')\n",
    "plt.imshow(img2)\n",
    "plt.axis('off')\n",
    "plt.show()"
   ]
  },
  {
   "cell_type": "markdown",
   "metadata": {},
   "source": [
    "### 문제 1. 다음과 같은 영상을 ndarray로 만들어서 화면에 표시하는 프로그램을 작성하라.\n",
    "\n",
    "\n",
    "<img src='four_circles.png' width=\"50%\"/>"
   ]
  },
  {
   "cell_type": "code",
   "execution_count": 90,
   "metadata": {
    "tags": [],
    "ExecuteTime": {
     "end_time": "2023-11-16T06:36:23.399901900Z",
     "start_time": "2023-11-16T06:36:23.131246500Z"
    }
   },
   "outputs": [
    {
     "data": {
      "text/plain": "<Figure size 640x480 with 1 Axes>",
      "image/png": "[encoded data removed]"
     },
     "metadata": {},
     "output_type": "display_data"
    }
   ],
   "source": [
    "# function\n",
    "def drawCircle(img, pos_y, pos_x, radius, RGB):\n",
    "    row = np.arange(img.shape[0]).reshape(-1,1)\n",
    "    col = np.arange(img.shape[1]).reshape(1,-1)\n",
    "    \n",
    "    temp_img = np.zeros((img.shape[0], img.shape[1], img.shape[2]), dtype=np.uint8)\n",
    "    temp_img[(row-pos_y)**2 + (col-pos_x)**2 <= radius**2] += RGB\n",
    "    \n",
    "    img += temp_img\n",
    "    return\n",
    "# color\n",
    "RED = np.array([255, 0, 0], dtype=np.uint8)\n",
    "GREEN = np.array([0, 255, 0], dtype=np.uint8)\n",
    "BLUE = np.array([0, 0, 255], dtype=np.uint8)\n",
    "# img size\n",
    "IMG_HEIGHT = 301\n",
    "IMG_WIDTH = 840\n",
    "img = np.zeros((IMG_HEIGHT, IMG_WIDTH, 3), dtype=np.uint8) # y_size, x_size, RGB(왼쪽 상단 {0, 0})\n",
    "'''\n",
    "img = np.zeros([IMG_HEIGHT, IMG_WIDTH, 3], dtype=np.uint8) # y_size, x_size, RGB(왼쪽 상단 {0, 0})\n",
    "()와 []의 차이점 질문\n",
    "'''\n",
    "# gap = 180px\n",
    "drawCircle(img, IMG_HEIGHT/2, 150, 120, RED) # pos(420, 150)\n",
    "drawCircle(img, IMG_HEIGHT/2, 330, 120, GREEN) # pos(420, 330)\n",
    "drawCircle(img, IMG_HEIGHT/2, 510, 120, BLUE) # pos(420, 510)\n",
    "drawCircle(img, IMG_HEIGHT/2, 690, 120, RED) # pos(420, 690)\n",
    "# plt.show\n",
    "plt.imshow(img)\n",
    "plt.axis('off')\n",
    "plt.show()"
   ]
  },
  {
   "cell_type": "markdown",
   "metadata": {},
   "source": [
    "|### 문제 2. \n",
    "다음 영상은 흰색 종이에 네 색(cyan, magenta, yellow, cyan)의 원을 그렸을 때 나타나는 그림을 영상으로 표현한 것이다. 화면에 이 그림을 표시하는 프로그램을 작성하라.\n",
    "\n",
    "참고: 흰 색 배경에서 R, G, B, R 네 영상을 빼면 된다.\n",
    "\n",
    "\n",
    "<img src='four_circles_paint.png' width=\"50%\"/>"
   ]
  },
  {
   "cell_type": "code",
   "execution_count": 91,
   "metadata": {
    "ExecuteTime": {
     "end_time": "2023-11-16T06:36:23.485527800Z",
     "start_time": "2023-11-16T06:36:23.304288700Z"
    }
   },
   "outputs": [
    {
     "data": {
      "text/plain": "<Figure size 640x480 with 1 Axes>",
      "image/png": "[encoded data removed]"
     },
     "metadata": {},
     "output_type": "display_data"
    }
   ],
   "source": [
    "# function\n",
    "def drawCircle(img, pos_y, pos_x, radius, RGB):\n",
    "    row = np.arange(img.shape[0]).reshape(-1,1)\n",
    "    col = np.arange(img.shape[1]).reshape(1,-1)\n",
    "    \n",
    "    temp_img = np.zeros((img.shape[0], img.shape[1], img.shape[2]), dtype=np.uint8)\n",
    "    temp_img[(row-pos_y)**2 + (col-pos_x)**2 <= radius**2] -= RGB\n",
    "    \n",
    "    img += temp_img\n",
    "    return\n",
    "# color\n",
    "RED = np.array([255, 0, 0], dtype=np.uint8)\n",
    "GREEN = np.array([0, 255, 0], dtype=np.uint8)\n",
    "BLUE = np.array([0, 0, 255], dtype=np.uint8)\n",
    "# img size\n",
    "IMG_HEIGHT = 301\n",
    "IMG_WIDTH = 840\n",
    "img = np.full((IMG_HEIGHT, IMG_WIDTH, 3), [255, 255, 255], dtype=np.uint8) # y_size, x_size, RGB(왼쪽 상단 {0, 0})\n",
    "# gap = 180px\n",
    "drawCircle(img, IMG_HEIGHT/2, 150, 120, RED) # pos(420, 150)\n",
    "drawCircle(img, IMG_HEIGHT/2, 330, 120, GREEN) # pos(420, 330)\n",
    "drawCircle(img, IMG_HEIGHT/2, 510, 120, BLUE) # pos(420, 510)\n",
    "drawCircle(img, IMG_HEIGHT/2, 690, 120, RED) # pos(420, 690)\n",
    "# plt.show\n",
    "plt.imshow(img)\n",
    "plt.axis('off')\n",
    "plt.show()"
   ]
  },
  {
   "cell_type": "markdown",
   "metadata": {},
   "source": [
    "### 예제 2. \n",
    "NumPy ndarray를 이용하여 다음 영상을 만들어서 화면에 표시하라.\n",
    "\n",
    "단, 작은 사각형의 크기는 20 x 20으로 하라.\n",
    "\n",
    "<img src='bw_check_pattern.png' width=\"25%\"/>"
   ]
  },
  {
   "cell_type": "code",
   "execution_count": 92,
   "metadata": {
    "tags": [],
    "ExecuteTime": {
     "end_time": "2023-11-16T06:36:23.576385300Z",
     "start_time": "2023-11-16T06:36:23.485527800Z"
    }
   },
   "outputs": [
    {
     "data": {
      "text/plain": "<Figure size 640x480 with 1 Axes>",
      "image/png": "[encoded data removed]"
     },
     "metadata": {},
     "output_type": "display_data"
    }
   ],
   "source": [
    "N = 20\n",
    "r = 12\n",
    "b5 = np.zeros((N,N,3), np.uint8)\n",
    "w5 = np.full((N,N,3), [255,255,255], np.uint8)\n",
    "b5w5 = np.hstack((w5, b5)*5)\n",
    "w5b5 = np.hstack((b5, w5)*5)\n",
    "img = np.vstack((b5w5, w5b5)*5)\n",
    "\n",
    "plt.imshow(img)\n",
    "plt.axis('off')\n",
    "plt.show()"
   ]
  },
  {
   "cell_type": "markdown",
   "metadata": {},
   "source": [
    "### 문제 3. \n",
    "\n",
    "NumPy ndarray를 이용하여 다음 영상을 만들어서 화면에 표시하라.\n",
    "\n",
    "단, 작은 사각형의 크기는 20 x 20으로 하라.\n",
    "\n",
    "<img src='color_check_pattern.png' width=\"40%\"/>"
   ]
  },
  {
   "cell_type": "code",
   "execution_count": 100,
   "metadata": {
    "tags": [],
    "ExecuteTime": {
     "end_time": "2023-11-16T06:42:42.107684300Z",
     "start_time": "2023-11-16T06:42:41.996147500Z"
    }
   },
   "outputs": [
    {
     "data": {
      "text/plain": "<Figure size 640x480 with 1 Axes>",
      "image/png": "[encoded data removed]"
     },
     "metadata": {},
     "output_type": "display_data"
    }
   ],
   "source": [
    "# function\n",
    "def drawBox(img, pos_y, pos_x, size, RGB):\n",
    "    box = np.full((size, size, 3), RGB, dtype=np.uint8)\n",
    "    img[pos_y:pos_y+size,pos_x:pos_x+size,:] = box\n",
    "    return\n",
    "# color\n",
    "RED = np.array([255, 0, 0], dtype=np.uint8)\n",
    "GREEN = np.array([0, 255, 0], dtype=np.uint8)\n",
    "BLUE = np.array([0, 0, 255], dtype=np.uint8)\n",
    "CYAN = np.array([0, 255, 255], dtype=np.uint8)\n",
    "MAGENTA = np.array([255, 0, 255], dtype=np.uint8)\n",
    "YELLOW = np.array([255, 255, 0], dtype=np.uint8)\n",
    "WHITE = np.array([255, 255, 255], dtype=np.uint8)\n",
    "# img size\n",
    "IMG_HEIGHT = 120\n",
    "IMG_WIDTH = 300\n",
    "img = np.full((IMG_HEIGHT, IMG_WIDTH, 3), WHITE, dtype=np.uint8) # y_size, x_size, RGB(왼쪽 상단 {0, 0})\n",
    "# Make pattern\n",
    "BOX_SIZE = 20\n",
    "temp = np.full((BOX_SIZE*3, BOX_SIZE*3, 3), WHITE, dtype=np.uint8)\n",
    "drawBox(temp, 0, 0, BOX_SIZE, RED)\n",
    "drawBox(temp, 20, 20, BOX_SIZE, GREEN)\n",
    "drawBox(temp, 40, 40, BOX_SIZE, BLUE)\n",
    "temp_upper = np.hstack((temp, temp, temp, temp, temp), dtype=np.uint8)\n",
    "temp = np.full((BOX_SIZE*3, BOX_SIZE*3, 3), WHITE, dtype=np.uint8)\n",
    "drawBox(temp, 0, 0, BOX_SIZE, CYAN)\n",
    "drawBox(temp, 20, 20, BOX_SIZE, MAGENTA)\n",
    "drawBox(temp, 40, 40, BOX_SIZE, YELLOW)\n",
    "temp_lower = np.hstack((temp, temp, temp, temp, temp), dtype=np.uint8)\n",
    "img = np.vstack((temp_upper, temp_lower), dtype=np.uint8)\n",
    "# plt.show\n",
    "plt.imshow(img)\n",
    "plt.axis('off')\n",
    "plt.show()"
   ]
  },
  {
   "cell_type": "code",
   "execution_count": 94,
   "outputs": [
    {
     "data": {
      "text/plain": "<Figure size 640x480 with 1 Axes>",
      "image/png": "[encoded data removed]"
     },
     "metadata": {},
     "output_type": "display_data"
    }
   ],
   "source": [],
   "metadata": {
    "collapsed": false,
    "ExecuteTime": {
     "end_time": "2023-11-16T06:36:23.787288600Z",
     "start_time": "2023-11-16T06:36:23.678227700Z"
    }
   }
  }
 ],
 "metadata": {
  "kernelspec": {
   "display_name": "Python 3 (ipykernel)",
   "language": "python",
   "name": "python3"
  },
  "language_info": {
   "codemirror_mode": {
    "name": "ipython",
    "version": 3
   },
   "file_extension": ".py",
   "mimetype": "text/x-python",
   "name": "python",
   "nbconvert_exporter": "python",
   "pygments_lexer": "ipython3",
   "version": "3.11.5"
  },
  "latex_envs": {
   "LaTeX_envs_menu_present": true,
   "autoclose": false,
   "autocomplete": true,
   "bibliofile": "biblio.bib",
   "cite_by": "apalike",
   "current_citInitial": 1,
   "eqLabelWithNumbers": true,
   "eqNumInitial": 1,
   "hotkeys": {
    "equation": "Ctrl-E",
    "itemize": "Ctrl-I"
   },
   "labels_anchors": false,
   "latex_user_defs": false,
   "report_style_numbering": false,
   "user_envs_cfg": false
  },
  "toc": {
   "base_numbering": 1,
   "nav_menu": {},
   "number_sections": false,
   "sideBar": true,
   "skip_h1_title": false,
   "title_cell": "Table of Contents",
   "title_sidebar": "Contents",
   "toc_cell": false,
   "toc_position": {
    "height": "calc(100% - 180px)",
    "left": "10px",
    "top": "150px",
    "width": "270.5px"
   },
   "toc_section_display": true,
   "toc_window_display": false
  }
 },
 "nbformat": 4,
 "nbformat_minor": 4
}
