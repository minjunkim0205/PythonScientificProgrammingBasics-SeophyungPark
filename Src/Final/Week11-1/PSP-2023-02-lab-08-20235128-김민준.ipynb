{
 "cells": [
  {
   "cell_type": "markdown",
   "metadata": {},
   "source": [
    "<h1 align='center'> 파이썬과학프로그래밍기초 실습 8</h1>\n",
    "\n",
    "<p style=\"text-align: right\"> 2023.11.9.</p>"
   ]
  },
  {
   "cell_type": "markdown",
   "metadata": {},
   "source": [
    "### <div class=\"alert alert-block alert-info\">\n",
    "    \n",
    "- 파일 이름에서 00000000을 자신의 학번으로, name을 자신의 이름으로 수정하세요.\n",
    "\n",
    "- 다음 줄에 자신의 이름, 학번, 학과(전공)을 적으세요.\n",
    "\n",
    "* 이름:김민준   &nbsp;&nbsp;          학번:20235128    &nbsp;&nbsp;         학과(전공):소프트웨어융합\n",
    "\n",
    "    \n",
    "</div>\n",
    "\n",
    "- Jupyter notebook에 대한 설명은 [The Jupyter Notebook](https://jupyter-notebook.readthedocs.io/en/stable/)을  참고하라\n",
    "\n",
    "- Markdown은 [Markdown Guide](https://www.markdownguide.org/)를 참고하라.\n",
    "- [Markdown Cheat Sheet](https://www.markdownguide.org/cheat-sheet/)\n",
    "\n",
    "* 과제 제출: 11월 8일 (수) 오후 10:00까지 최종본 제출. \n"
   ]
  },
  {
   "cell_type": "markdown",
   "metadata": {},
   "source": [
    "#### 준비: 아래 셀에 다음 명령을 실행하라.\n",
    "\n",
    "```\n",
    "import numpy as np\n",
    "import matplotlib.pyplot as plt\n",
    "from matplotlib import image\n",
    "from scipy import misc\n",
    "from PIL import Image\n",
    "```\n"
   ]
  },
  {
   "cell_type": "code",
   "execution_count": 280,
   "metadata": {
    "tags": [],
    "ExecuteTime": {
     "end_time": "2023-11-08T07:40:00.114348200Z",
     "start_time": "2023-11-08T07:40:00.028723900Z"
    }
   },
   "outputs": [],
   "source": [
    "import numpy as np\n",
    "import matplotlib.pyplot as plt\n",
    "from matplotlib import image\n",
    "from scipy import misc\n",
    "from PIL import Image"
   ]
  },
  {
   "cell_type": "markdown",
   "metadata": {},
   "source": [
    "## 문제 1.\n",
    "NumPy의 arange와 reshape을 사용하여 다음 ndarray를 만들어라.\n",
    "\n",
    "```\n",
    "array([[[ 1,  4,  7, 10],\n",
    "        [13, 16, 19, 22],\n",
    "        [25, 28, 31, 34]],\n",
    "\n",
    "       [[37, 40, 43, 46],\n",
    "        [49, 52, 55, 58],\n",
    "        [61, 64, 67, 70]]])\n",
    "```"
   ]
  },
  {
   "cell_type": "code",
   "execution_count": 281,
   "metadata": {
    "scrolled": true,
    "tags": [],
    "ExecuteTime": {
     "end_time": "2023-11-08T07:40:00.208318200Z",
     "start_time": "2023-11-08T07:40:00.037725800Z"
    }
   },
   "outputs": [
    {
     "name": "stdout",
     "output_type": "stream",
     "text": [
      "[[[ 1  4  7 10]\n",
      "  [13 16 19 22]\n",
      "  [25 28 31 34]]\n",
      "\n",
      " [[37 40 43 46]\n",
      "  [49 52 55 58]\n",
      "  [61 64 67 70]]]"
     ]
    }
   ],
   "source": [
    "import numpy as np\n",
    "\n",
    "ans = np.arange(1, 71, 3)\n",
    "ans = ans.reshape(2, 3, 4)\n",
    "\n",
    "print(ans , end=\"\")"
   ]
  },
  {
   "cell_type": "markdown",
   "metadata": {},
   "source": [
    "## 문제 2.\n",
    "NumPy의 arange와 reshape을 사용하여 다음 ndarray를 만들어라.\n",
    "\n",
    "```\n",
    "array([[[[  1,   2,   3,   4,   5],\n",
    "         [  6,   7,   8,   9,  10],\n",
    "         [ 11,  12,  13,  14,  15]],\n",
    "\n",
    "        [[ 16,  17,  18,  19,  20],\n",
    "         [ 21,  22,  23,  24,  25],\n",
    "         [ 26,  27,  28,  29,  30]],\n",
    "\n",
    "        [[ 31,  32,  33,  34,  35],\n",
    "         [ 36,  37,  38,  39,  40],\n",
    "         [ 41,  42,  43,  44,  45]],\n",
    "\n",
    "        [[ 46,  47,  48,  49,  50],\n",
    "         [ 51,  52,  53,  54,  55],\n",
    "         [ 56,  57,  58,  59,  60]]],\n",
    "\n",
    "\n",
    "       [[[ 61,  62,  63,  64,  65],\n",
    "         [ 66,  67,  68,  69,  70],\n",
    "         [ 71,  72,  73,  74,  75]],\n",
    "\n",
    "        [[ 76,  77,  78,  79,  80],\n",
    "         [ 81,  82,  83,  84,  85],\n",
    "         [ 86,  87,  88,  89,  90]],\n",
    "\n",
    "        [[ 91,  92,  93,  94,  95],\n",
    "         [ 96,  97,  98,  99, 100],\n",
    "         [101, 102, 103, 104, 105]],\n",
    "\n",
    "        [[106, 107, 108, 109, 110],\n",
    "         [111, 112, 113, 114, 115],\n",
    "         [116, 117, 118, 119, 120]]]])\n",
    "```"
   ]
  },
  {
   "cell_type": "code",
   "execution_count": 282,
   "metadata": {
    "tags": [],
    "ExecuteTime": {
     "end_time": "2023-11-08T07:40:00.228472400Z",
     "start_time": "2023-11-08T07:40:00.053729100Z"
    }
   },
   "outputs": [
    {
     "name": "stdout",
     "output_type": "stream",
     "text": [
      "[[[[  1   2   3   4   5]\n",
      "   [  6   7   8   9  10]\n",
      "   [ 11  12  13  14  15]]\n",
      "\n",
      "  [[ 16  17  18  19  20]\n",
      "   [ 21  22  23  24  25]\n",
      "   [ 26  27  28  29  30]]\n",
      "\n",
      "  [[ 31  32  33  34  35]\n",
      "   [ 36  37  38  39  40]\n",
      "   [ 41  42  43  44  45]]\n",
      "\n",
      "  [[ 46  47  48  49  50]\n",
      "   [ 51  52  53  54  55]\n",
      "   [ 56  57  58  59  60]]]\n",
      "\n",
      "\n",
      " [[[ 61  62  63  64  65]\n",
      "   [ 66  67  68  69  70]\n",
      "   [ 71  72  73  74  75]]\n",
      "\n",
      "  [[ 76  77  78  79  80]\n",
      "   [ 81  82  83  84  85]\n",
      "   [ 86  87  88  89  90]]\n",
      "\n",
      "  [[ 91  92  93  94  95]\n",
      "   [ 96  97  98  99 100]\n",
      "   [101 102 103 104 105]]\n",
      "\n",
      "  [[106 107 108 109 110]\n",
      "   [111 112 113 114 115]\n",
      "   [116 117 118 119 120]]]]"
     ]
    }
   ],
   "source": [
    "import numpy as np\n",
    "\n",
    "ans = np.arange(1, 121, 1)\n",
    "ans = ans.reshape(2, 4, 3, 5)\n",
    "print(ans, end=\"\")"
   ]
  },
  {
   "cell_type": "markdown",
   "metadata": {},
   "source": [
    "## 문제 3.\n",
    "NumPy의 full과 hstack을 사용하여 다음 ndarray를 만들어라.\n",
    "\n",
    "```\n",
    "array([[ 10,  10,  70,  70, 130, 130, 190, 190, 250, 250],\n",
    "       [ 10,  10,  70,  70, 130, 130, 190, 190, 250, 250],\n",
    "       [ 10,  10,  70,  70, 130, 130, 190, 190, 250, 250],\n",
    "       [ 10,  10,  70,  70, 130, 130, 190, 190, 250, 250],\n",
    "       [ 10,  10,  70,  70, 130, 130, 190, 190, 250, 250]], dtype=uint8)\n",
    "```"
   ]
  },
  {
   "cell_type": "code",
   "execution_count": 283,
   "metadata": {
    "ExecuteTime": {
     "end_time": "2023-11-08T07:40:00.233471Z",
     "start_time": "2023-11-08T07:40:00.070241200Z"
    }
   },
   "outputs": [
    {
     "name": "stdout",
     "output_type": "stream",
     "text": [
      "[[ 10  10  70  70 130 130 190 190 250 250]\n",
      " [ 10  10  70  70 130 130 190 190 250 250]\n",
      " [ 10  10  70  70 130 130 190 190 250 250]\n",
      " [ 10  10  70  70 130 130 190 190 250 250]\n",
      " [ 10  10  70  70 130 130 190 190 250 250]]"
     ]
    }
   ],
   "source": [
    "import numpy as np\n",
    "\n",
    "ans = np.hstack([np.full((5, 2), n, dtype=np.uint8) for n in np.arange(10, 260, 60)])\n",
    "print(ans, end=\"\")"
   ]
  },
  {
   "cell_type": "markdown",
   "metadata": {},
   "source": [
    "## 예제 1. 다음 cell을 실행하라."
   ]
  },
  {
   "cell_type": "code",
   "execution_count": 284,
   "metadata": {
    "scrolled": true,
    "ExecuteTime": {
     "end_time": "2023-11-08T07:40:00.255925300Z",
     "start_time": "2023-11-08T07:40:00.086347Z"
    }
   },
   "outputs": [
    {
     "data": {
      "text/plain": "<Figure size 640x480 with 1 Axes>",
      "image/png": "[encoded data removed]"
     },
     "metadata": {},
     "output_type": "display_data"
    }
   ],
   "source": [
    "import numpy as np\n",
    "import matplotlib.pyplot as plt\n",
    "\n",
    "x = np.hstack([np.full((5, 2), n, dtype=np.uint8) for n in np.arange(10, 260, 60)])\n",
    "plt.imshow(x)\n",
    "plt.xticks(range(10))\n",
    "plt.show()"
   ]
  },
  {
   "cell_type": "code",
   "execution_count": 285,
   "metadata": {
    "ExecuteTime": {
     "end_time": "2023-11-08T07:40:00.326699400Z",
     "start_time": "2023-11-08T07:40:00.165930400Z"
    }
   },
   "outputs": [
    {
     "data": {
      "text/plain": "<Figure size 640x480 with 1 Axes>",
      "image/png": "[encoded data removed]"
     },
     "metadata": {},
     "output_type": "display_data"
    }
   ],
   "source": [
    "import numpy as np\n",
    "import matplotlib.pyplot as plt\n",
    "\n",
    "x = np.hstack([np.full((5, 2), n, dtype=np.uint8) for n in np.arange(10, 260, 60)])\n",
    "plt.imshow(x, cmap='gray', vmin=0, vmax=255)\n",
    "plt.xticks(range(10))\n",
    "plt.show()"
   ]
  },
  {
   "cell_type": "markdown",
   "metadata": {},
   "source": [
    "## 문제 4. \n",
    "### 4-1. \n",
    "shape이 (100, 80, 3), dtype이 np.uint8이고 모든 원소가 [255, 0, 0]인 3차원 배열 a를 만들어서 imshow() 함수를 이용해서 화면에 표시하라."
   ]
  },
  {
   "cell_type": "code",
   "execution_count": 286,
   "metadata": {
    "tags": [],
    "ExecuteTime": {
     "end_time": "2023-11-08T07:40:00.463651500Z",
     "start_time": "2023-11-08T07:40:00.259931800Z"
    }
   },
   "outputs": [
    {
     "data": {
      "text/plain": "<Figure size 640x480 with 1 Axes>",
      "image/png": "[encoded data removed]"
     },
     "metadata": {},
     "output_type": "display_data"
    }
   ],
   "source": [
    "import numpy as np\n",
    "import matplotlib.pyplot as plt\n",
    "\n",
    "a = np.full((100, 80, 3), [255, 0, 0], dtype=np.uint8)\n",
    "plt.imshow(a, cmap='gray', vmin=0, vmax=255)\n",
    "plt.xticks(range(80))\n",
    "plt.show()"
   ]
  },
  {
   "cell_type": "markdown",
   "metadata": {},
   "source": [
    "### 4-2. \n",
    "shape이 (100, 120, 3), dtype이 np.uint8이고 모든 원소가 [0, 255, 0]인 3차원 배열 b를 만들어서 imshow() 함수를 이용해서 화면에 표시하라"
   ]
  },
  {
   "cell_type": "code",
   "execution_count": 287,
   "metadata": {
    "scrolled": true,
    "tags": [],
    "ExecuteTime": {
     "end_time": "2023-11-08T07:40:00.744524600Z",
     "start_time": "2023-11-08T07:40:00.460291200Z"
    }
   },
   "outputs": [
    {
     "data": {
      "text/plain": "<Figure size 640x480 with 1 Axes>",
      "image/png": "[encoded data removed]"
     },
     "metadata": {},
     "output_type": "display_data"
    }
   ],
   "source": [
    "import numpy as np\n",
    "import matplotlib.pyplot as plt\n",
    "\n",
    "b = np.full((100, 120, 3), [0, 255, 0], dtype=np.uint8)\n",
    "plt.imshow(b, cmap='gray', vmin=0, vmax=255)\n",
    "plt.xticks(range(120))\n",
    "plt.show()"
   ]
  },
  {
   "cell_type": "markdown",
   "metadata": {},
   "source": [
    "### 4-3. \n",
    "shape이 (100, 80, 3), dtype이 np.uint8이고 모든 원소가 [0, 0, 255]인 3차원 배열 c를 만들어서 imshow() 함수를 이용해서 화면에 표시하라."
   ]
  },
  {
   "cell_type": "code",
   "execution_count": 288,
   "metadata": {
    "tags": [],
    "ExecuteTime": {
     "end_time": "2023-11-08T07:40:01.006300300Z",
     "start_time": "2023-11-08T07:40:00.745524400Z"
    }
   },
   "outputs": [
    {
     "data": {
      "text/plain": "<Figure size 640x480 with 1 Axes>",
      "image/png": "[encoded data removed]"
     },
     "metadata": {},
     "output_type": "display_data"
    }
   ],
   "source": [
    "import numpy as np\n",
    "import matplotlib.pyplot as plt\n",
    "\n",
    "c = np.full((100, 80, 3), [0, 0, 255], dtype=np.uint8)\n",
    "plt.imshow(c, cmap='gray', vmin=0, vmax=255)\n",
    "plt.xticks(range(80))\n",
    "plt.show()"
   ]
  },
  {
   "cell_type": "markdown",
   "metadata": {},
   "source": [
    "### 4-4. \n",
    "배열 a, b, c를 수평 방향으로 이어붙인 shape이 (100, 280, 3)인 배열 d를 만들어서 imshow() 함수를 이용해서 화면에 표시하라."
   ]
  },
  {
   "cell_type": "code",
   "execution_count": 289,
   "metadata": {
    "tags": [],
    "ExecuteTime": {
     "end_time": "2023-11-08T07:40:01.826147100Z",
     "start_time": "2023-11-08T07:40:01.007303700Z"
    }
   },
   "outputs": [
    {
     "data": {
      "text/plain": "<Figure size 640x480 with 1 Axes>",
      "image/png": "[encoded data removed]"
     },
     "metadata": {},
     "output_type": "display_data"
    }
   ],
   "source": [
    "import numpy as np\n",
    "import matplotlib.pyplot as plt\n",
    "\n",
    "a = np.full((100, 80, 3), [255, 0, 0], dtype=np.uint8)\n",
    "b = np.full((100, 120, 3), [0, 255, 0], dtype=np.uint8)\n",
    "c = np.full((100, 80, 3), [0, 0, 255], dtype=np.uint8)\n",
    "\n",
    "d = np.hstack((a, b, c))\n",
    "plt.imshow(d, cmap='gray', vmin=0, vmax=255)\n",
    "plt.xticks(range(80+120+80))\n",
    "plt.show()"
   ]
  },
  {
   "cell_type": "markdown",
   "metadata": {},
   "source": [
    "### 4-5.\n",
    "다음 cell에서 각 문장이 하는 기능을 설명하라."
   ]
  },
  {
   "cell_type": "code",
   "execution_count": 290,
   "metadata": {
    "tags": [],
    "ExecuteTime": {
     "end_time": "2023-11-08T07:40:01.903901900Z",
     "start_time": "2023-11-08T07:40:01.826147100Z"
    }
   },
   "outputs": [
    {
     "data": {
      "text/plain": "<Figure size 640x480 with 1 Axes>",
      "image/png": "[encoded data removed]"
     },
     "metadata": {},
     "output_type": "display_data"
    }
   ],
   "source": [
    "x = np.full((100, 240, 3), 0, np.uint8)\n",
    "x[:,:80,:] += a\n",
    "plt.imshow(x)\n",
    "plt.show()"
   ]
  },
  {
   "cell_type": "markdown",
   "metadata": {},
   "source": [
    "**설명**:\n",
    "1. ```x = np.full((100, 240, 3), 0, np.uint8)```\n",
    "    - 위 코드는 크기가 (100, 240, 3)이고 데이터 타입이 np.uint8인 3차원 NumPy 배열 x를 생성합니다.\n",
    "    - 배열의 모든 원소는 0으로 초기화됩니다.\n",
    "    - 이는 높이가 100, 폭이 240, 채널이 3(RGB)인 검은색 이미지를 나타냅니다.\n",
    "2. ```x[:,:80,:] += a```\n",
    "    - 이 코드는 배열 x의 일부 영역에 이미지 a를 추가합니다.\n",
    "    - x 배열의 첫 번째 축 (높이)와 두 번째 축 (폭)을 자른 후, 해당 영역에 이미지 a를 더합니다.\n",
    "    - a 이미지가 x의 왼쪽 80픽셀에 추가되고, x의 나머지 부분은 여전히 검은색 상태를 유지합니다.\n",
    "3. ```plt.imshow(x)```\n",
    "    - 위 코드는 Matplotlib의 imshow() 함수를 사용하여 배열 x를 화면에 표시합니다.\n",
    "    - 이 함수를 사용하면 x 배열에 저장된 이미지가 현재 실행 중인 Jupyter 노트북이나 파이썬 스크립트에서 표시됩니다.\n",
    "4. ```plt.show()```\n",
    "    - 마지막 줄은 show() 함수를 호출하여 이미지를 실제로 화면에 표시합니다.\n",
    "    - 이것은 Matplotlib에서 그림을 표시하는 마지막 단계입니다.\n",
    "    - 이렇게 함으로써, 검은 배경에 빨간색 이미지 a가 추가된 최종 이미지가 표시됩니다."
   ]
  },
  {
   "cell_type": "code",
   "execution_count": 291,
   "metadata": {
    "tags": [],
    "ExecuteTime": {
     "end_time": "2023-11-08T07:40:01.982528700Z",
     "start_time": "2023-11-08T07:40:01.904902Z"
    }
   },
   "outputs": [
    {
     "data": {
      "text/plain": "<Figure size 640x480 with 1 Axes>",
      "image/png": "[encoded data removed]"
     },
     "metadata": {},
     "output_type": "display_data"
    }
   ],
   "source": [
    "x[:,40:160,:] += b\n",
    "plt.imshow(x)\n",
    "plt.show()"
   ]
  },
  {
   "cell_type": "markdown",
   "metadata": {},
   "source": [
    "**설명**:\n",
    "1. ```x[:,40:160,:] += b```\n",
    "    - 이 코드는 배열 x의 첫 번째 축 (높이)에서 40부터 160까지의 영역에 이미지 b를 추가합니다.\n",
    "    - b는 이미지 배열이며, += 연산자를 사용하여 해당 영역에 b를 더합니다. 따라서 이미지 b가 x의 특정 영역에 추가됩니다.\n",
    "2. ```plt.imshow(x)```\n",
    "    - imshow() 함수를 사용하여 배열 x를 화면에 표시합니다. 이 때, x 배열은 이전 단계에서 이미지 b가 추가된 이미지를 나타냅니다.\n",
    "3. ```plt.show()```\n",
    "    - show() 함수를 호출하여 Matplotlib에서 그림을 실제로 화면에 표시합니다. 이로써, x 배열에 이미지 b가 추가된 최종 이미지가 표시됩니다."
   ]
  },
  {
   "cell_type": "code",
   "execution_count": 292,
   "metadata": {
    "tags": [],
    "ExecuteTime": {
     "end_time": "2023-11-08T07:40:02.063082600Z",
     "start_time": "2023-11-08T07:40:01.982528700Z"
    }
   },
   "outputs": [
    {
     "data": {
      "text/plain": "<Figure size 640x480 with 1 Axes>",
      "image/png": "[encoded data removed]"
     },
     "metadata": {},
     "output_type": "display_data"
    }
   ],
   "source": [
    "x[:,120:200,:] += c\n",
    "plt.imshow(x)\n",
    "plt.show()"
   ]
  },
  {
   "cell_type": "markdown",
   "metadata": {},
   "source": [
    "**설명**:\n",
    "1. ```x[:,120:200,:] += c```\n",
    "    - 이 코드는 배열 x의 첫 번째 축 (높이)에서 120부터 200까지의 영역에 이미지 c를 추가합니다.\n",
    "    - c는 이미지 배열이며, += 연산자를 사용하여 해당 영역에 c를 더합니다. 따라서 이미지 c가 x의 특정 영역에 추가됩니다.\n",
    "2. ```plt.imshow(x)```\n",
    "    - imshow() 함수를 사용하여 배열 x를 화면에 표시합니다. 이 때, x 배열은 이전 단계에서 이미지 c가 추가된 이미지를 나타냅니다.\n",
    "3. ```plt.show()```\n",
    "    - show() 함수를 호출하여 Matplotlib에서 그림을 실제로 화면에 표시합니다. 이로써, x 배열에 이미지 c가 추가된 최종 이미지가 표시됩니다."
   ]
  },
  {
   "cell_type": "code",
   "execution_count": 293,
   "metadata": {
    "tags": [],
    "ExecuteTime": {
     "end_time": "2023-11-08T07:40:02.140134600Z",
     "start_time": "2023-11-08T07:40:02.064082600Z"
    }
   },
   "outputs": [
    {
     "data": {
      "text/plain": "<Figure size 640x480 with 1 Axes>",
      "image/png": "[encoded data removed]"
     },
     "metadata": {},
     "output_type": "display_data"
    }
   ],
   "source": [
    "x[:,200:,:] = a[:,:40,:] + c[:,0:40,:]\n",
    "plt.imshow(x)\n",
    "plt.show()"
   ]
  },
  {
   "cell_type": "markdown",
   "metadata": {},
   "source": [
    "**설명**:\n",
    "1. ```x[:,200:,:] = a[:,:40,:] + c[:,0:40,:]```\n",
    "    - 이 코드는 배열 x의 첫 번째 축 (높이)에서 200부터 끝까지의 영역에 a 이미지의 왼쪽 부분 (40 픽셀)과 c 이미지의 왼쪽 부분 (40 픽셀)을 결합합니다.\n",
    "    - 이러한 결합은 + 연산자를 사용하여 수행됩니다. 따라서 이미지 a의 왼쪽 부분과 이미지 c의 왼쪽 부분이 합쳐져서 해당 영역에 할당됩니다.\n",
    "2. ```plt.imshow(x)```\n",
    "    - imshow() 함수를 사용하여 배열 x를 화면에 표시합니다. 이 때, x 배열은 이전 단계에서 이미지 a와 c가 결합된 이미지를 나타냅니다.\n",
    "3. ```plt.show()```\n",
    "    - show() 함수를 호출하여 Matplotlib에서 그림을 실제로 화면에 표시합니다. 이로써, x 배열에 이미지 a와 c가 결합된 최종 이미지가 표시됩니다."
   ]
  },
  {
   "cell_type": "markdown",
   "metadata": {
    "tags": []
   },
   "source": [
    "### 문제 5. 다음 조건을 만족하는 영상을 화면에 표시하라.\n",
    "\n",
    "1. 한 변의 길이가 21인 정사각형의 모든 색은 마젠터(magenta, 또는 자홍색)이다.\n",
    "2. 정사각형 내부에 중심의 위치가 (10, 10)이고 반지름이 5인 원의 내부의 모든 색은 청록색(cyan)이다.\n",
    "\n",
    "참고: 중심이 $(x_c, y_c)$이고 반지름이 $r$인 원 내부는 $(x-x_c)^2 + (y-y_c)^2 \\le r^2$으로 표현된다."
   ]
  },
  {
   "cell_type": "code",
   "execution_count": 323,
   "metadata": {
    "scrolled": true,
    "tags": [],
    "ExecuteTime": {
     "end_time": "2023-11-08T07:55:09.210214400Z",
     "start_time": "2023-11-08T07:55:09.128636500Z"
    }
   },
   "outputs": [
    {
     "data": {
      "text/plain": "<Figure size 640x480 with 1 Axes>",
      "image/png": "[encoded data removed]"
     },
     "metadata": {},
     "output_type": "display_data"
    }
   ],
   "source": [
    "import numpy as np\n",
    "import matplotlib.pyplot as plt\n",
    "\n",
    "# COLOR\n",
    "MAGENTA = [255, 0, 255]\n",
    "CYAN = [0, 100, 100]\n",
    "# SCREEN SIZE\n",
    "SIZE_Y = 21\n",
    "SIZE_X = 21\n",
    "screen = np.full((SIZE_X, SIZE_Y, 3), 0, dtype=np.uint8)\n",
    "# SQUARE\n",
    "screen[:21, :21] = np.full((21, 21, 3), MAGENTA, dtype=np.uint8)\n",
    "# CIRCLE\n",
    "for x in range(0, 11+10):\n",
    "    for y in range(0, 11+10):\n",
    "        if (x - 10) ** 2 + (y - 10) ** 2 <= 5 ** 2:\n",
    "            screen[x, y] = CYAN\n",
    "# SHOW\n",
    "plt.imshow(screen)\n",
    "plt.show()"
   ]
  },
  {
   "cell_type": "markdown",
   "metadata": {},
   "source": [
    "### 예제 7. 다음 조건을 만족하는 영상을 화면에 표시하라.\n",
    "\n",
    "1. 한 변의 길이가 201인 정사각형의 모든 색은 마젠터(magenta, 또는 자홍색)이다.\n",
    "2. 정사각형 내부에 중심의 위치가 (100, 100)이고 반지름이 50인 원의 내부의 모든 색은 청록색(cyan)이다.\n"
   ]
  },
  {
   "cell_type": "code",
   "execution_count": 322,
   "metadata": {
    "scrolled": true,
    "tags": [],
    "ExecuteTime": {
     "end_time": "2023-11-08T07:55:02.480643500Z",
     "start_time": "2023-11-08T07:55:02.315221600Z"
    }
   },
   "outputs": [
    {
     "data": {
      "text/plain": "<Figure size 640x480 with 1 Axes>",
      "image/png": "[encoded data removed]"
     },
     "metadata": {},
     "output_type": "display_data"
    }
   ],
   "source": [
    "import numpy as np\n",
    "import matplotlib.pyplot as plt\n",
    "\n",
    "# COLOR\n",
    "MAGENTA = [255, 0, 255]\n",
    "CYAN = [0, 100, 100]\n",
    "# SCREEN SIZE\n",
    "SIZE_Y = 201\n",
    "SIZE_X = 201\n",
    "screen = np.full((SIZE_X, SIZE_Y, 3), 0, dtype=np.uint8)\n",
    "# SQUARE\n",
    "screen[:201, :201] = np.full((201, 201, 3), MAGENTA, dtype=np.uint8)\n",
    "# CIRCLE\n",
    "for x in range(0, 101+100):\n",
    "    for y in range(0, 101+100):\n",
    "        if (x - 100) ** 2 + (y - 100) ** 2 <= 50 ** 2:\n",
    "            screen[x, y] = CYAN\n",
    "# SHOW\n",
    "plt.imshow(screen)\n",
    "plt.show()"
   ]
  },
  {
   "cell_type": "markdown",
   "metadata": {},
   "source": [
    "### 예제 8. Boolean array indexing"
   ]
  },
  {
   "cell_type": "code",
   "execution_count": 296,
   "metadata": {
    "ExecuteTime": {
     "end_time": "2023-11-08T07:40:02.409506100Z",
     "start_time": "2023-11-08T07:40:02.359480100Z"
    }
   },
   "outputs": [
    {
     "name": "stdout",
     "output_type": "stream",
     "text": [
      "[20 20 20 20 20 20 20 20 20 20]\n",
      "[ True  True  True  True  True False False False False False]\n",
      "[10 10 10 10 10 20 20 20 20 20]\n"
     ]
    }
   ],
   "source": [
    "idx = np.arange(10)\n",
    "a = np.full(10, 20)\n",
    "print(a)\n",
    "print(idx<5)\n",
    "a[idx<5] = 10\n",
    "print(a)"
   ]
  },
  {
   "cell_type": "markdown",
   "metadata": {},
   "source": [
    "### 예제 9. 예제 7을 boolean array indexing으로 해결하라."
   ]
  },
  {
   "cell_type": "code",
   "execution_count": 297,
   "metadata": {
    "ExecuteTime": {
     "end_time": "2023-11-08T07:40:02.498783300Z",
     "start_time": "2023-11-08T07:40:02.373993300Z"
    }
   },
   "outputs": [
    {
     "data": {
      "text/plain": "<Figure size 640x480 with 1 Axes>",
      "image/png": "[encoded data removed]"
     },
     "metadata": {},
     "output_type": "display_data"
    }
   ],
   "source": [
    "cols = 121\n",
    "rows = 121\n",
    "center = np.array([60, 60])\n",
    "cyan = (0, 255, 255)\n",
    "yellow = (255, 255, 0)\n",
    "radius = 30\n",
    "rect = np.full((rows, cols, 3), cyan, np.uint8)\n",
    "c = np.arange(cols)\n",
    "r = np.arange(cols).reshape((cols,1))\n",
    "\n",
    "rect[(c-center[1])**2 + (r-center[0])**2 <= radius**2] = yellow\n",
    "plt.imshow(rect)\n",
    "plt.show()"
   ]
  },
  {
   "cell_type": "code",
   "execution_count": 298,
   "metadata": {
    "ExecuteTime": {
     "end_time": "2023-11-08T07:40:02.531583200Z",
     "start_time": "2023-11-08T07:40:02.500782200Z"
    }
   },
   "outputs": [
    {
     "data": {
      "text/plain": "array([[5.7, 5. , 4.5, 4.1, 4. , 4.1, 4.5, 5. , 5.7],\n       [5. , 4.2, 3.6, 3.2, 3. , 3.2, 3.6, 4.2, 5. ],\n       [4.5, 3.6, 2.8, 2.2, 2. , 2.2, 2.8, 3.6, 4.5],\n       [4.1, 3.2, 2.2, 1.4, 1. , 1.4, 2.2, 3.2, 4.1],\n       [4. , 3. , 2. , 1. , 0. , 1. , 2. , 3. , 4. ],\n       [4.1, 3.2, 2.2, 1.4, 1. , 1.4, 2.2, 3.2, 4.1],\n       [4.5, 3.6, 2.8, 2.2, 2. , 2.2, 2.8, 3.6, 4.5],\n       [5. , 4.2, 3.6, 3.2, 3. , 3.2, 3.6, 4.2, 5. ],\n       [5.7, 5. , 4.5, 4.1, 4. , 4.1, 4.5, 5. , 5.7]])"
     },
     "execution_count": 298,
     "metadata": {},
     "output_type": "execute_result"
    }
   ],
   "source": [
    "c = np.arange(9)\n",
    "r = np.arange(9).reshape(-1,1)\n",
    "np.sqrt((c-4)**2 + (r-4)**2).round(1)"
   ]
  },
  {
   "cell_type": "markdown",
   "metadata": {},
   "source": [
    "### 문제 6. 3원색 원 그리기\n",
    "아래와 같은 그림을 그려라.\n",
    "\n",
    "![RGB circles](rgb_circles.png \"RGB circles\")"
   ]
  },
  {
   "cell_type": "code",
   "execution_count": 352,
   "metadata": {
    "ExecuteTime": {
     "end_time": "2023-11-08T08:14:27.831270Z",
     "start_time": "2023-11-08T08:14:27.752839200Z"
    }
   },
   "outputs": [
    {
     "data": {
      "text/plain": "<Figure size 640x480 with 1 Axes>",
      "image/png": "[encoded data removed]"
     },
     "metadata": {},
     "output_type": "display_data"
    }
   ],
   "source": [
    "import numpy as np\n",
    "import matplotlib.pyplot as plt\n",
    "# COLOR\n",
    "RED = [255, 0, 0]\n",
    "GREEN = [0, 255, 0]\n",
    "BLUE = [0, 0, 255]\n",
    "# SCREEN\n",
    "SIZE = 301\n",
    "screen = np.full((SIZE, SIZE, 3), 0, dtype=np.uint8)\n",
    "temp_r = np.full((SIZE, SIZE, 3), 0, dtype=np.uint8)\n",
    "for y in range(100-65, 110+65+1):\n",
    "    for x in range(150-65, 150+65+1):\n",
    "        if ((y - 110) ** 2 + (x - 150) ** 2 <= 65**2):\n",
    "            temp_r[y, x] = RED\n",
    "temp_g = np.full((SIZE, SIZE, 3), 0, dtype=np.uint8)\n",
    "for y in range(100-65, 190+65+1):\n",
    "    for x in range(110-65, 110+65+1):\n",
    "        if ((y - 190) ** 2 + (x - 110) ** 2 <= 65**2):\n",
    "            temp_g[y, x] = GREEN\n",
    "temp_b = np.full((SIZE, SIZE, 3), 0, dtype=np.uint8)\n",
    "for y in range(100-65, 190+65+1):\n",
    "    for x in range(190-65, 190+65+1):\n",
    "        if ((y - 190) ** 2 + (x - 190) ** 2 <= 65**2):\n",
    "            temp_b[y, x] = BLUE\n",
    "screen[:,:] += temp_r\n",
    "screen[:,:] += temp_g\n",
    "screen[:,:] += temp_b\n",
    "# SHOW\n",
    "plt.imshow(screen)\n",
    "plt.axis('off')\n",
    "plt.show()"
   ]
  },
  {
   "cell_type": "code",
   "execution_count": null,
   "outputs": [],
   "source": [],
   "metadata": {
    "collapsed": false
   }
  }
 ],
 "metadata": {
  "kernelspec": {
   "display_name": "Python 3 (ipykernel)",
   "language": "python",
   "name": "python3"
  },
  "language_info": {
   "codemirror_mode": {
    "name": "ipython",
    "version": 3
   },
   "file_extension": ".py",
   "mimetype": "text/x-python",
   "name": "python",
   "nbconvert_exporter": "python",
   "pygments_lexer": "ipython3",
   "version": "3.11.4"
  },
  "latex_envs": {
   "LaTeX_envs_menu_present": true,
   "autoclose": false,
   "autocomplete": true,
   "bibliofile": "biblio.bib",
   "cite_by": "apalike",
   "current_citInitial": 1,
   "eqLabelWithNumbers": true,
   "eqNumInitial": 1,
   "hotkeys": {
    "equation": "Ctrl-E",
    "itemize": "Ctrl-I"
   },
   "labels_anchors": false,
   "latex_user_defs": false,
   "report_style_numbering": false,
   "user_envs_cfg": false
  },
  "toc": {
   "base_numbering": 1,
   "nav_menu": {},
   "number_sections": false,
   "sideBar": true,
   "skip_h1_title": false,
   "title_cell": "Table of Contents",
   "title_sidebar": "Contents",
   "toc_cell": false,
   "toc_position": {
    "height": "calc(100% - 180px)",
    "left": "10px",
    "top": "150px",
    "width": "270.5px"
   },
   "toc_section_display": true,
   "toc_window_display": false
  }
 },
 "nbformat": 4,
 "nbformat_minor": 4
}
