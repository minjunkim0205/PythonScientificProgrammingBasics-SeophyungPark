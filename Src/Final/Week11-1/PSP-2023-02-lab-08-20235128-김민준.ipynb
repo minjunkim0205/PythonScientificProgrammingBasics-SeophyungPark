{
 "cells": [
  {
   "cell_type": "markdown",
   "metadata": {},
   "source": [
    "<h1 align='center'> 파이썬과학프로그래밍기초 실습 8</h1>\n",
    "\n",
    "<p style=\"text-align: right\"> 2023.11.9.</p>"
   ]
  },
  {
   "cell_type": "markdown",
   "metadata": {},
   "source": [
    "### <div class=\"alert alert-block alert-info\">\n",
    "    \n",
    "- 파일 이름에서 00000000을 자신의 학번으로, name을 자신의 이름으로 수정하세요.\n",
    "\n",
    "- 다음 줄에 자신의 이름, 학번, 학과(전공)을 적으세요.\n",
    "\n",
    "* 이름:김민준   &nbsp;&nbsp;          학번:20235128    &nbsp;&nbsp;         학과(전공):소프트웨어융합\n",
    "\n",
    "    \n",
    "</div>\n",
    "\n",
    "- Jupyter notebook에 대한 설명은 [The Jupyter Notebook](https://jupyter-notebook.readthedocs.io/en/stable/)을  참고하라\n",
    "\n",
    "- Markdown은 [Markdown Guide](https://www.markdownguide.org/)를 참고하라.\n",
    "- [Markdown Cheat Sheet](https://www.markdownguide.org/cheat-sheet/)\n",
    "\n",
    "* 과제 제출: 11월 8일 (수) 오후 10:00까지 최종본 제출. \n"
   ]
  },
  {
   "cell_type": "markdown",
   "metadata": {},
   "source": [
    "#### 준비: 아래 셀에 다음 명령을 실행하라.\n",
    "\n",
    "```\n",
    "import numpy as np\n",
    "import matplotlib.pyplot as plt\n",
    "from matplotlib import image\n",
    "from scipy import misc\n",
    "from PIL import Image\n",
    "```\n"
   ]
  },
  {
   "cell_type": "code",
   "execution_count": 85,
   "metadata": {
    "tags": [],
    "ExecuteTime": {
     "end_time": "2023-11-08T04:19:31.204936500Z",
     "start_time": "2023-11-08T04:19:31.119834800Z"
    }
   },
   "outputs": [],
   "source": [
    "import numpy as np\n",
    "import matplotlib.pyplot as plt\n",
    "from matplotlib import image\n",
    "from scipy import misc\n",
    "from PIL import Image"
   ]
  },
  {
   "cell_type": "markdown",
   "metadata": {},
   "source": [
    "## 문제 1.\n",
    "NumPy의 arange와 reshape을 사용하여 다음 ndarray를 만들어라.\n",
    "\n",
    "```\n",
    "array([[[ 1,  4,  7, 10],\n",
    "        [13, 16, 19, 22],\n",
    "        [25, 28, 31, 34]],\n",
    "\n",
    "       [[37, 40, 43, 46],\n",
    "        [49, 52, 55, 58],\n",
    "        [61, 64, 67, 70]]])\n",
    "```"
   ]
  },
  {
   "cell_type": "code",
   "execution_count": 86,
   "metadata": {
    "scrolled": true,
    "tags": [],
    "ExecuteTime": {
     "end_time": "2023-11-08T04:19:31.262848100Z",
     "start_time": "2023-11-08T04:19:31.136842300Z"
    }
   },
   "outputs": [
    {
     "name": "stdout",
     "output_type": "stream",
     "text": [
      "[[[ 1  4  7 10]\n",
      "  [13 16 19 22]\n",
      "  [25 28 31 34]]\n",
      "\n",
      " [[37 40 43 46]\n",
      "  [49 52 55 58]\n",
      "  [61 64 67 70]]]"
     ]
    }
   ],
   "source": [
    "import numpy as np\n",
    "\n",
    "ans = np.arange(1, 71, 3)\n",
    "ans = ans.reshape(2, 3, 4)\n",
    "\n",
    "print(ans , end=\"\")"
   ]
  },
  {
   "cell_type": "markdown",
   "metadata": {},
   "source": [
    "## 문제 2.\n",
    "NumPy의 arange와 reshape을 사용하여 다음 ndarray를 만들어라.\n",
    "\n",
    "```\n",
    "array([[[[  1,   2,   3,   4,   5],\n",
    "         [  6,   7,   8,   9,  10],\n",
    "         [ 11,  12,  13,  14,  15]],\n",
    "\n",
    "        [[ 16,  17,  18,  19,  20],\n",
    "         [ 21,  22,  23,  24,  25],\n",
    "         [ 26,  27,  28,  29,  30]],\n",
    "\n",
    "        [[ 31,  32,  33,  34,  35],\n",
    "         [ 36,  37,  38,  39,  40],\n",
    "         [ 41,  42,  43,  44,  45]],\n",
    "\n",
    "        [[ 46,  47,  48,  49,  50],\n",
    "         [ 51,  52,  53,  54,  55],\n",
    "         [ 56,  57,  58,  59,  60]]],\n",
    "\n",
    "\n",
    "       [[[ 61,  62,  63,  64,  65],\n",
    "         [ 66,  67,  68,  69,  70],\n",
    "         [ 71,  72,  73,  74,  75]],\n",
    "\n",
    "        [[ 76,  77,  78,  79,  80],\n",
    "         [ 81,  82,  83,  84,  85],\n",
    "         [ 86,  87,  88,  89,  90]],\n",
    "\n",
    "        [[ 91,  92,  93,  94,  95],\n",
    "         [ 96,  97,  98,  99, 100],\n",
    "         [101, 102, 103, 104, 105]],\n",
    "\n",
    "        [[106, 107, 108, 109, 110],\n",
    "         [111, 112, 113, 114, 115],\n",
    "         [116, 117, 118, 119, 120]]]])\n",
    "```"
   ]
  },
  {
   "cell_type": "code",
   "execution_count": 87,
   "metadata": {
    "tags": [],
    "ExecuteTime": {
     "end_time": "2023-11-08T04:19:31.282884800Z",
     "start_time": "2023-11-08T04:19:31.150901900Z"
    }
   },
   "outputs": [
    {
     "name": "stdout",
     "output_type": "stream",
     "text": [
      "[[[[  1   2   3   4   5]\n",
      "   [  6   7   8   9  10]\n",
      "   [ 11  12  13  14  15]]\n",
      "\n",
      "  [[ 16  17  18  19  20]\n",
      "   [ 21  22  23  24  25]\n",
      "   [ 26  27  28  29  30]]\n",
      "\n",
      "  [[ 31  32  33  34  35]\n",
      "   [ 36  37  38  39  40]\n",
      "   [ 41  42  43  44  45]]\n",
      "\n",
      "  [[ 46  47  48  49  50]\n",
      "   [ 51  52  53  54  55]\n",
      "   [ 56  57  58  59  60]]]\n",
      "\n",
      "\n",
      " [[[ 61  62  63  64  65]\n",
      "   [ 66  67  68  69  70]\n",
      "   [ 71  72  73  74  75]]\n",
      "\n",
      "  [[ 76  77  78  79  80]\n",
      "   [ 81  82  83  84  85]\n",
      "   [ 86  87  88  89  90]]\n",
      "\n",
      "  [[ 91  92  93  94  95]\n",
      "   [ 96  97  98  99 100]\n",
      "   [101 102 103 104 105]]\n",
      "\n",
      "  [[106 107 108 109 110]\n",
      "   [111 112 113 114 115]\n",
      "   [116 117 118 119 120]]]]"
     ]
    }
   ],
   "source": [
    "import numpy as np\n",
    "\n",
    "ans = np.arange(1, 121, 1)\n",
    "ans = ans.reshape(2, 4, 3, 5)\n",
    "print(ans, end=\"\")"
   ]
  },
  {
   "cell_type": "markdown",
   "metadata": {},
   "source": [
    "## 문제 3.\n",
    "NumPy의 full과 hstack을 사용하여 다음 ndarray를 만들어라.\n",
    "\n",
    "```\n",
    "array([[ 10,  10,  70,  70, 130, 130, 190, 190, 250, 250],\n",
    "       [ 10,  10,  70,  70, 130, 130, 190, 190, 250, 250],\n",
    "       [ 10,  10,  70,  70, 130, 130, 190, 190, 250, 250],\n",
    "       [ 10,  10,  70,  70, 130, 130, 190, 190, 250, 250],\n",
    "       [ 10,  10,  70,  70, 130, 130, 190, 190, 250, 250]], dtype=uint8)\n",
    "```"
   ]
  },
  {
   "cell_type": "code",
   "execution_count": 88,
   "metadata": {
    "ExecuteTime": {
     "end_time": "2023-11-08T04:19:31.294893500Z",
     "start_time": "2023-11-08T04:19:31.168907Z"
    }
   },
   "outputs": [
    {
     "name": "stdout",
     "output_type": "stream",
     "text": [
      "[[ 10  10  70  70 130 130 190 190 250 250]\n",
      " [ 10  10  70  70 130 130 190 190 250 250]\n",
      " [ 10  10  70  70 130 130 190 190 250 250]\n",
      " [ 10  10  70  70 130 130 190 190 250 250]\n",
      " [ 10  10  70  70 130 130 190 190 250 250]]"
     ]
    }
   ],
   "source": [
    "import numpy as np\n",
    "\n",
    "ans = np.hstack([np.full((5, 2), n, dtype=np.uint8) for n in np.arange(10, 260, 60)])\n",
    "print(ans, end=\"\")"
   ]
  },
  {
   "cell_type": "markdown",
   "metadata": {},
   "source": [
    "## 예제 1. 다음 cell을 실행하라."
   ]
  },
  {
   "cell_type": "code",
   "execution_count": 89,
   "metadata": {
    "scrolled": true,
    "ExecuteTime": {
     "end_time": "2023-11-08T04:19:31.330055300Z",
     "start_time": "2023-11-08T04:19:31.183928100Z"
    }
   },
   "outputs": [
    {
     "data": {
      "text/plain": "<Figure size 640x480 with 1 Axes>",
      "image/png": "[encoded data removed]"
     },
     "metadata": {},
     "output_type": "display_data"
    }
   ],
   "source": [
    "x =  np.hstack([np.full((5, 2), n, dtype=np.uint8) for n in np.arange(10, 260, 60)])\n",
    "plt.imshow(x)\n",
    "plt.xticks(range(10))\n",
    "plt.show()"
   ]
  },
  {
   "cell_type": "code",
   "execution_count": 90,
   "metadata": {
    "ExecuteTime": {
     "end_time": "2023-11-08T04:19:31.410675800Z",
     "start_time": "2023-11-08T04:19:31.261849100Z"
    }
   },
   "outputs": [
    {
     "data": {
      "text/plain": "<Figure size 640x480 with 1 Axes>",
      "image/png": "[encoded data removed]"
     },
     "metadata": {},
     "output_type": "display_data"
    }
   ],
   "source": [
    "x =  np.hstack([np.full((5, 2), n, dtype=np.uint8) for n in np.arange(10, 260, 60)])\n",
    "plt.imshow(x, cmap='gray', vmin=0, vmax=255)\n",
    "plt.xticks(range(10))\n",
    "plt.show()"
   ]
  },
  {
   "cell_type": "markdown",
   "metadata": {},
   "source": [
    "## 문제 4. \n",
    "### 4-1. \n",
    "shape이 (100, 80, 3), dtype이 np.uint8이고 모든 원소가 [255, 0, 0]인 3차원 배열 a를 만들어서 imshow() 함수를 이용해서 화면에 표시하라."
   ]
  },
  {
   "cell_type": "code",
   "execution_count": 90,
   "metadata": {
    "tags": [],
    "ExecuteTime": {
     "end_time": "2023-11-08T04:19:31.410675800Z",
     "start_time": "2023-11-08T04:19:31.341566500Z"
    }
   },
   "outputs": [],
   "source": []
  },
  {
   "cell_type": "markdown",
   "metadata": {},
   "source": [
    "### 4-2. \n",
    "shape이 (100, 120, 3), dtype이 np.uint8이고 모든 원소가 [0, 255, 0]인 3차원 배열 b를 만들어서 imshow() 함수를 이용해서 화면에 표시하라"
   ]
  },
  {
   "cell_type": "code",
   "execution_count": 90,
   "metadata": {
    "scrolled": true,
    "tags": [],
    "ExecuteTime": {
     "end_time": "2023-11-08T04:19:31.410675800Z",
     "start_time": "2023-11-08T04:19:31.356568400Z"
    }
   },
   "outputs": [],
   "source": []
  },
  {
   "cell_type": "markdown",
   "metadata": {},
   "source": [
    "### 4-3. \n",
    "shape이 (100, 80, 3), dtype이 np.uint8이고 모든 원소가 [0, 0, 255]인 3차원 배열 c를 만들어서 imshow() 함수를 이용해서 화면에 표시하라."
   ]
  },
  {
   "cell_type": "code",
   "execution_count": 90,
   "metadata": {
    "tags": [],
    "ExecuteTime": {
     "end_time": "2023-11-08T04:19:31.411677300Z",
     "start_time": "2023-11-08T04:19:31.372650700Z"
    }
   },
   "outputs": [],
   "source": []
  },
  {
   "cell_type": "markdown",
   "metadata": {},
   "source": [
    "### 4-4. \n",
    "배열 a, b, c를 수평 방향으로 이어붙인 shape이 (100, 280, 3)인 배열 d를 만들어서 imshow() 함수를 이용해서 화면에 표시하라."
   ]
  },
  {
   "cell_type": "code",
   "execution_count": 90,
   "metadata": {
    "tags": [],
    "ExecuteTime": {
     "end_time": "2023-11-08T04:19:31.411677300Z",
     "start_time": "2023-11-08T04:19:31.388164200Z"
    }
   },
   "outputs": [],
   "source": []
  },
  {
   "cell_type": "markdown",
   "metadata": {},
   "source": [
    "### 4-5.\n",
    "다음 cell에서 각 문장이 하는 기능을 설명하라."
   ]
  },
  {
   "cell_type": "code",
   "execution_count": 91,
   "metadata": {
    "tags": [],
    "ExecuteTime": {
     "end_time": "2023-11-08T04:19:31.422690900Z",
     "start_time": "2023-11-08T04:19:31.402679Z"
    }
   },
   "outputs": [
    {
     "ename": "NameError",
     "evalue": "name 'a' is not defined",
     "output_type": "error",
     "traceback": [
      "\u001B[1;31m---------------------------------------------------------------------------\u001B[0m",
      "\u001B[1;31mNameError\u001B[0m                                 Traceback (most recent call last)",
      "Cell \u001B[1;32mIn[91], line 2\u001B[0m\n\u001B[0;32m      1\u001B[0m x \u001B[38;5;241m=\u001B[39m np\u001B[38;5;241m.\u001B[39mfull((\u001B[38;5;241m100\u001B[39m, \u001B[38;5;241m240\u001B[39m, \u001B[38;5;241m3\u001B[39m), \u001B[38;5;241m0\u001B[39m, np\u001B[38;5;241m.\u001B[39muint8)\n\u001B[1;32m----> 2\u001B[0m x[:,:\u001B[38;5;241m80\u001B[39m,:] \u001B[38;5;241m+\u001B[39m\u001B[38;5;241m=\u001B[39m \u001B[43ma\u001B[49m\n\u001B[0;32m      3\u001B[0m plt\u001B[38;5;241m.\u001B[39mimshow(x)\n\u001B[0;32m      4\u001B[0m plt\u001B[38;5;241m.\u001B[39mshow()\n",
      "\u001B[1;31mNameError\u001B[0m: name 'a' is not defined"
     ]
    }
   ],
   "source": [
    "x = np.full((100, 240, 3), 0, np.uint8)\n",
    "x[:,:80,:] += a\n",
    "plt.imshow(x)\n",
    "plt.show()"
   ]
  },
  {
   "cell_type": "markdown",
   "metadata": {},
   "source": [
    "**설명**:"
   ]
  },
  {
   "cell_type": "code",
   "execution_count": null,
   "metadata": {
    "tags": [],
    "ExecuteTime": {
     "start_time": "2023-11-08T04:19:31.419681900Z"
    }
   },
   "outputs": [],
   "source": [
    "x[:,40:160,:] += b\n",
    "plt.imshow(x)\n",
    "plt.show()"
   ]
  },
  {
   "cell_type": "markdown",
   "metadata": {},
   "source": [
    "**설명**:"
   ]
  },
  {
   "cell_type": "code",
   "execution_count": null,
   "metadata": {
    "tags": [],
    "ExecuteTime": {
     "start_time": "2023-11-08T04:19:31.421689600Z"
    }
   },
   "outputs": [],
   "source": [
    "x[:,120:200,:] += c\n",
    "plt.imshow(x)\n",
    "plt.show()"
   ]
  },
  {
   "cell_type": "markdown",
   "metadata": {},
   "source": [
    "**설명**:"
   ]
  },
  {
   "cell_type": "code",
   "execution_count": null,
   "metadata": {
    "tags": [],
    "ExecuteTime": {
     "start_time": "2023-11-08T04:19:31.424690800Z"
    }
   },
   "outputs": [],
   "source": [
    "x[:,200:,:] = a[:,:40,:] + c[:,0:40,:]\n",
    "plt.imshow(x)\n",
    "plt.show()"
   ]
  },
  {
   "cell_type": "markdown",
   "metadata": {},
   "source": [
    "**설명**:"
   ]
  },
  {
   "cell_type": "markdown",
   "metadata": {
    "tags": []
   },
   "source": [
    "### 문제 5. 다음 조건을 만족하는 영상을 화면에 표시하라.\n",
    "\n",
    "1. 한 변의 길이가 21인 정사각형의 모든 색은 마젠터(magenta, 또는 자홍색)이다.\n",
    "2. 정사각형 내부에 중심의 위치가 (10, 10)이고 반지름이 5인 원의 내부의 모든 색은 청록색(cyan)이다.\n",
    "\n",
    "참고: 중심이 $(x_c, y_c)$이고 반지름이 $r$인 원 내부는 $(x-x_c)^2 + (y-y_c)^2 \\le r^2$으로 표현된다."
   ]
  },
  {
   "cell_type": "code",
   "execution_count": null,
   "metadata": {
    "scrolled": true,
    "tags": [],
    "ExecuteTime": {
     "start_time": "2023-11-08T04:19:31.426690900Z"
    }
   },
   "outputs": [],
   "source": []
  },
  {
   "cell_type": "markdown",
   "metadata": {},
   "source": [
    "### 예제 7. 다음 조건을 만족하는 영상을 화면에 표시하라.\n",
    "\n",
    "1. 한 변의 길이가 201인 정사각형의 모든 색은 마젠터(magenta, 또는 자홍색)이다.\n",
    "2. 정사각형 내부에 중심의 위치가 (100, 100)이고 반지름이 50인 원의 내부의 모든 색은 청록색(cyan)이다.\n"
   ]
  },
  {
   "cell_type": "code",
   "execution_count": null,
   "metadata": {
    "scrolled": true,
    "tags": [],
    "ExecuteTime": {
     "end_time": "2023-11-08T04:19:31.432198100Z",
     "start_time": "2023-11-08T04:19:31.427690400Z"
    }
   },
   "outputs": [],
   "source": []
  },
  {
   "cell_type": "markdown",
   "metadata": {},
   "source": [
    "### 예제 8. Boolean array indexing"
   ]
  },
  {
   "cell_type": "code",
   "execution_count": null,
   "metadata": {
    "ExecuteTime": {
     "start_time": "2023-11-08T04:19:31.428689800Z"
    }
   },
   "outputs": [],
   "source": [
    "idx = np.arange(10)\n",
    "a = np.full(10, 20)\n",
    "print(a)\n",
    "print(idx<5)\n",
    "a[idx<5] = 10\n",
    "print(a)"
   ]
  },
  {
   "cell_type": "markdown",
   "metadata": {},
   "source": [
    "### 예제 9. 예제 7을 boolean array indexing으로 해결하라."
   ]
  },
  {
   "cell_type": "code",
   "execution_count": null,
   "metadata": {
    "ExecuteTime": {
     "start_time": "2023-11-08T04:19:31.430193300Z"
    }
   },
   "outputs": [],
   "source": [
    "cols = 121\n",
    "rows = 121\n",
    "center = np.array([60, 60])\n",
    "cyan = (0, 255, 255)\n",
    "yellow = (255, 255, 0)\n",
    "radius = 30\n",
    "rect = np.full((rows, cols, 3), cyan, np.uint8)\n",
    "c = np.arange(cols)\n",
    "r = np.arange(cols).reshape((cols,1))\n",
    "\n",
    "rect[(c-center[1])**2 + (r-center[0])**2 <= radius**2] = yellow\n",
    "plt.imshow(rect)\n",
    "plt.show()"
   ]
  },
  {
   "cell_type": "code",
   "execution_count": null,
   "metadata": {
    "ExecuteTime": {
     "start_time": "2023-11-08T04:19:31.431198300Z"
    }
   },
   "outputs": [],
   "source": [
    "c = np.arange(9)\n",
    "r = np.arange(9).reshape(-1,1)\n",
    "np.sqrt((c-4)**2 + (r-4)**2).round(1)"
   ]
  },
  {
   "cell_type": "markdown",
   "metadata": {},
   "source": [
    "### 문제 6. 3원색 원 그리기\n",
    "아래와 같은 그림을 그려라.\n",
    "\n",
    "![RGB circles](rgb_circles.png \"RGB circles\")"
   ]
  },
  {
   "cell_type": "code",
   "execution_count": null,
   "metadata": {
    "ExecuteTime": {
     "end_time": "2023-11-08T04:19:31.440197700Z",
     "start_time": "2023-11-08T04:19:31.432198100Z"
    }
   },
   "outputs": [],
   "source": []
  }
 ],
 "metadata": {
  "kernelspec": {
   "display_name": "Python 3 (ipykernel)",
   "language": "python",
   "name": "python3"
  },
  "language_info": {
   "codemirror_mode": {
    "name": "ipython",
    "version": 3
   },
   "file_extension": ".py",
   "mimetype": "text/x-python",
   "name": "python",
   "nbconvert_exporter": "python",
   "pygments_lexer": "ipython3",
   "version": "3.11.4"
  },
  "latex_envs": {
   "LaTeX_envs_menu_present": true,
   "autoclose": false,
   "autocomplete": true,
   "bibliofile": "biblio.bib",
   "cite_by": "apalike",
   "current_citInitial": 1,
   "eqLabelWithNumbers": true,
   "eqNumInitial": 1,
   "hotkeys": {
    "equation": "Ctrl-E",
    "itemize": "Ctrl-I"
   },
   "labels_anchors": false,
   "latex_user_defs": false,
   "report_style_numbering": false,
   "user_envs_cfg": false
  },
  "toc": {
   "base_numbering": 1,
   "nav_menu": {},
   "number_sections": false,
   "sideBar": true,
   "skip_h1_title": false,
   "title_cell": "Table of Contents",
   "title_sidebar": "Contents",
   "toc_cell": false,
   "toc_position": {
    "height": "calc(100% - 180px)",
    "left": "10px",
    "top": "150px",
    "width": "270.5px"
   },
   "toc_section_display": true,
   "toc_window_display": false
  }
 },
 "nbformat": 4,
 "nbformat_minor": 4
}
