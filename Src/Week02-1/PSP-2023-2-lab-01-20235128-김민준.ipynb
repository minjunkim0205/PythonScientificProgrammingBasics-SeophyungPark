{
 "cells": [
  {
   "cell_type": "markdown",
   "metadata": {},
   "source": [
    "<h1 align='center'> 파이썬과학프로그래밍기초 실습 1</h1>\n",
    "\n",
    "<h6 align='right'> 2023.3.7.</h6>"
   ]
  },
  {
   "cell_type": "markdown",
   "metadata": {},
   "source": [
    "<div class=\"alert alert-block alert-info\">\n",
    "    \n",
    "- 파일 이름에서 00000000을 자신의 학번으로, name을 자신의 이름으로 수정하라.\n",
    "\n",
    "- 다음 줄에 자신의 이름, 학번, 학과(전공)을 적어라.\n",
    "\n",
    "* 이름:김민준   &nbsp;&nbsp;          학번:20235128    &nbsp;&nbsp;         학과(전공):소프트웨어융합\n",
    "    \n",
    "</div>\n",
    "\n",
    "- JupyterLab 문서의 최신 버전은 [JupyterLab Documentation](https://jupyterlab.readthedocs.io/en/stable/index.html#/)을  참고하라\n",
    "\n",
    "- Markdown은 [Markdown Guide](https://www.markdownguide.org/)를 참고하라.\n",
    "- [Markdown Cheat Sheet](https://www.markdownguide.org/cheat-sheet/)\n",
    "\n",
    "* 제출 마감: 3월 6일 (화) 오후 10:00까지 최종본 SmartLEAD제출\n"
   ]
  },
  {
   "cell_type": "markdown",
   "metadata": {
    "jp-MarkdownHeadingCollapsed": true,
    "tags": []
   },
   "source": [
    "# JupyterLab 관련\n",
    "\n",
    "## Notebook의 셀 모드에서 hot key\n",
    "\n",
    "- Edit mode\n",
    "  - 셀 실행\n",
    "    * shift + enter: 현재 셀 실행 후 아래 셀로 이동\n",
    "    * ctrl + enter: 현재 셀 실행\n",
    "    * alt + enter: 현재 셀 실행 후 아래에 새로운 셀을 하나 삽입 후 삽입된 셀로 이동\n",
    "  - tab: 인덴트 또는 코드 완성 (code completion)\n",
    "  - tab, ctrl+\\] : 인덴트\n",
    "  - shift-tab, ctrl+\\[: 디인덴트\n",
    "  - ctrl + a: 셀 내부 모두 선택\n",
    "  - ctrl + c: 선택한 부분 복사\n",
    "  - ctrl + v: 붙여 넣기\n",
    "  - ctrl + /: comment 토글\n",
    "  - ctrl + shift + -: cursor에서 셀 분리\n",
    "- Command mode \n",
    "  - 선택한 셀 실행\n",
    "    * shift + enter: 선택한 셀 모두 실행 후 아래 셀로 이동\n",
    "    * ctrl + enter: 선택한 셀 모두 실행\n",
    "    * alt + enter: 선택한 셀 모두 실행 후 아래에 새로운 셀을 하나 만들고 이동  * enter: Edit mode로 전환\n",
    "  - Heading 번호 지정\n",
    "    * 1 : 셀을 heading 1으로 전환\n",
    "    * 2 : 셀을 heading 2으로 전환\n",
    "    * 3 : 셀을 heading 3으로 전환\n",
    "    * 4 : 셀을 heading 4으로 전환\n",
    "    * 5 : 셀을 heading 5으로 전환\n",
    "    * 6 : 셀을 heading 6으로 전환\n",
    "  - 셀 선택\n",
    "    * k, 위 화살표: 위의 셀을 선택\n",
    "    * j, 아래 화살표: 위의 셀을 선택\n",
    "    * shift + k,  shift + 위 화살표: 위의 셀을 추가로 선택\n",
    "    * shift + j,  shift + 아래 화살표: 위의 셀을 추가로 선택\n",
    "  - 페이지 스크롤\n",
    "    * PgUp, shift-space: 스크롤 업\n",
    "    * PgDn, space: 스크롤 다운  \n",
    "  - 셀 삽입\n",
    "    * a: 현재 셀의 위에 새로운 셀 삽입\n",
    "    * b: 현재 셀의 아래에 새로운 셀 삽입\n",
    "  - 셀 모드 변환\n",
    "    * m: 선택한 셀들을 Mardown 모드로 변환\n",
    "    * y: 선택한 셀들을 code 모드로 변환\n",
    "    * r: 선택한 셀들을 raw 모드로 변환\n",
    "  \n",
    "  * shift + m: 선택한 셀들 통합\n",
    "  * c: 선택한 셀 모두 복사\n",
    "  * v: 복사한 셀을 현재 셀 아래에 붙이기\n",
    "  * x, dd: 선택한 셀들 모두 삭제\n",
    "  * z: 직전 명령 취소\n",
    "  * ctrl-s: 페이지 저장\n",
    "  "
   ]
  },
  {
   "cell_type": "markdown",
   "metadata": {},
   "source": [
    "# Markdown 관련\n"
   ]
  },
  {
   "cell_type": "markdown",
   "metadata": {},
   "source": [
    "## Markdown 셀에서 수식 사용하기\n",
    "\n",
    "Markdown cell에 수식을 사용하기 위해서는 &#37;와 &#37; 사이에 또는 &#37;&#37;와 &#37;&#37; 사이에수식을 넣을 수 있다. "
   ]
  },
  {
   "cell_type": "markdown",
   "metadata": {},
   "source": [
    "- $n$ 개의 원소 $x_i$로 이루어진 모집단의 평균, 분산, 표준편차를 구하는 식은 다음과 같다.\n",
    "\n",
    "-----------\n",
    "$$\\bar{x} = \\frac{1}{n}\\sum_{i=1}^{n} x_i $$\n",
    "$$\\sigma^2 =  \\frac{1}{n}\\sum_{i=1}^{n} (x_i - \\bar{x})^2 $$\n",
    "$$\\sigma =  \\sqrt{\\frac{1}{n}\\sum_{i=1}^{n} (x_i - \\bar{x})^2} $$\n",
    "-----------\n",
    "$$ \\sqrt[3]{8} = 2$$\n",
    "----\n",
    "- 수식에서 사용되는 Greek alphabet\n",
    "\n",
    "|  alpha   |  beta   |  gamma   |  delta   |  epsilon   |  zeta   |   eta   |\n",
    "|:--------:|:-------:|:--------:|:--------:|:----------:|:-------:|:-------:|\n",
    "| $\\alpha$ | $\\beta$ | $\\gamma$ | $\\delta$ | $\\epsilon$ | $\\zeta$ | $\\eta $ |\n",
    "|   $A$    |   $B$   | $\\Gamma$ | $\\Delta$ |    $E$     |   $Z$   |   $E$   |"
   ]
  },
  {
   "cell_type": "markdown",
   "metadata": {},
   "source": [
    "### 문제 1.\n",
    "나머지 그리스어 문자들은 다음과 같다. 이 글자들을 위의 표에 넣어 전체 표를 완성하라.\n",
    "\n",
    "- theta\n",
    "- iota\n",
    "- kappa\n",
    "- lambda\n",
    "- mu\n",
    "- nu\n",
    "- xi\n",
    "- omicron\n",
    "- pi\n",
    "- rho\n",
    "- sigma\n",
    "- tau\n",
    "- upsilon\n",
    "- phi\n",
    "- chi\n",
    "- psi\n",
    "- omega"
   ]
  },
  {
   "cell_type": "markdown",
   "source": [
    "#### 답\n",
    "|  theta   |  iota   |  kappa   |  lambda   |  mu   |  nu   |  xi   |  omicron   |  pi   |  rho   |  sigma   |  tau   |  upsilon   |  phi   |  chi   |  psi   |  omega   |\n",
    "|:--------:|:-------:|:--------:|:---------:|:-----:|:-----:|:-----:|:----------:|:-----:|:------:|:--------:|:------:|:----------:|:------:|:------:|:------:|:--------:|\n",
    "| $\\theta$ | $\\iota$ | $\\kappa$ | $\\lambda$ | $\\mu$ | $\\nu$ | $\\xi$ | $\\omicron$ | $\\pi$ | $\\rho$ | $\\sigma$ | $\\tau$ | $\\upsilon$ | $\\phi$ | $\\chi$ | $\\psi$ | $\\omega$ |\n",
    "| $\\Theta$ | $\\Iota$ | $\\Kappa$ | $\\Lambda$ | $\\Mu$ | $\\Nu$ | $\\Xi$ | $\\omicron$ | $\\Pi$ | $\\Rho$ | $\\Sigma$ | $\\Tau$ | $\\Upsilon$ | $\\Phi$ | $\\Chi$ | $\\Psi$ | $\\Omega$ |"
   ],
   "metadata": {
    "collapsed": false
   }
  },
  {
   "cell_type": "markdown",
   "metadata": {},
   "source": [
    "### 문제 2. 아래 셀에 위 셀의 수식들을 직접 입력해 보고, 적당히 변형시켜서 새로운 식을 작성해 보라."
   ]
  },
  {
   "cell_type": "markdown",
   "metadata": {},
   "source": [
    "#### 답\n",
    "$\n",
    "x(t) = \\sin \\left( t + \\frac{\\pi}{3} \\right), 0 \\le t \\le 4\\pi\n",
    "$\n"
   ]
  },
  {
   "cell_type": "markdown",
   "metadata": {},
   "source": [
    "### 문제 3. \n",
    "Python에서 사용되는 숫자 자료형 (data type) 4 종류의 이름을 적고, 각 자료 형의 예를 몇 가지씩 적어라."
   ]
  },
  {
   "cell_type": "markdown",
   "metadata": {},
   "source": [
    "#### 답\n",
    "| 숫자 자료형 |     정수     |       불       |       실수       |        복소수         |\n",
    "|:------:|:----------:|:-------------:|:--------------:|:------------------:|\n",
    "| 자료형 예시 | x_int = 42 | x_bool = true | x_float = 3.14 | x_complex = 2 + 3j |"
   ]
  },
  {
   "cell_type": "markdown",
   "metadata": {},
   "source": [
    "### 문제 4. \n",
    "아래 주어진 문자열들를 각각 Python의 식별자로 사용할 수 있는지 없는지 답하고, 식별자로 사용할 수 없는 경우에는 그 이유를 설명하라."
   ]
  },
  {
   "cell_type": "markdown",
   "metadata": {},
   "source": [
    "- class\n",
    "- import\n",
    "- my-variable\n",
    "- name\n",
    "- 123user\n",
    "- student_name\n",
    "- this-is-a-long-identifier\n",
    "- total_score\n",
    "- user123\n",
    "- _private_variable\n",
    "- camelCase\n",
    "- spaces are not allowed\n",
    "- @special\n",
    "- 변수\n",
    "- 변수_a\n",
    "- 가-나-다"
   ]
  },
  {
   "cell_type": "markdown",
   "source": [
    "#### 답\n",
    "|            식별자            |       사용 불가능 이유        |\n",
    "|:-------------------------:|:----------------------:|\n",
    "|           class           |          예약어           |\n",
    "|          import           |          예약어           |\n",
    "|        my-variable        |                        |\n",
    "|           name            |                        |\n",
    "|          123user          |         숫자로 시작         |\n",
    "|       student_name        |                        |\n",
    "| this-is-a-long-identifier |                        |\n",
    "|        total_score        |                        |\n",
    "|          user123          |                        |\n",
    "|     _private_variable     |                        |\n",
    "|         camelCase         |                        |\n",
    "|  spaces are not allowed   |         공백을 포함         |\n",
    "|         @special          |     특수 문자 '@'를 포함      |\n",
    "|            변수             |                        |\n",
    "|           변수_a            |                        |\n",
    "|           가-나-다           | 한글과 '-'를 혼합해서 사용할 수 없음 |"
   ],
   "metadata": {
    "collapsed": false
   }
  },
  {
   "cell_type": "markdown",
   "metadata": {},
   "source": [
    "### 문제 5. \n",
    "현재 사용하고 있는 Python의 버전 정보를 콘솔에 표시하라."
   ]
  },
  {
   "cell_type": "code",
   "execution_count": 1,
   "metadata": {
    "ExecuteTime": {
     "end_time": "2023-09-08T11:04:38.654881200Z",
     "start_time": "2023-09-08T11:04:38.481359200Z"
    }
   },
   "outputs": [
    {
     "name": "stdout",
     "output_type": "stream",
     "text": [
      "[Python 버전 정보]\n",
      "3.9.13 (tags/v3.9.13:6de2ca5, May 17 2022, 16:36:42) [MSC v.1929 64 bit (AMD64)]"
     ]
    }
   ],
   "source": [
    "# 답\n",
    "import sys\n",
    "\n",
    "print(\"[Python 버전 정보]\\n\"+sys.version, end=\"\")"
   ]
  },
  {
   "cell_type": "markdown",
   "metadata": {},
   "source": [
    "### 문제 6. \n",
    "주어진 너비와 높이의 직사각형의 넓이를 계산하고 결과를 인쇄하려고 한다. 두 변수 width와 height에 각각 10과 8.5를 할당하고, print() 함수를 사용하여 사각형의 넓이를 콘솔에 표시하는 프로그램을 작성하라.\n"
   ]
  },
  {
   "cell_type": "code",
   "execution_count": 2,
   "outputs": [
    {
     "name": "stdout",
     "output_type": "stream",
     "text": [
      "[사각형의 넓이]\n",
      "80"
     ]
    }
   ],
   "source": [
    "# 답\n",
    "width = int(10)\n",
    "height = int(8.5)\n",
    "\n",
    "print(\"[사각형의 넓이]\\n\"+str(width*height), end=\"\")"
   ],
   "metadata": {
    "collapsed": false
   }
  },
  {
   "cell_type": "markdown",
   "metadata": {},
   "source": [
    "### 문제 7. \n",
    "현재 사용하고 있는 Python의 버전 정보를 콘솔에 표시하라."
   ]
  },
  {
   "cell_type": "code",
   "execution_count": 3,
   "metadata": {
    "tags": [],
    "ExecuteTime": {
     "end_time": "2023-09-08T11:04:38.655880200Z",
     "start_time": "2023-09-08T11:04:38.511361700Z"
    }
   },
   "outputs": [
    {
     "name": "stdout",
     "output_type": "stream",
     "text": [
      "[Python 버전 정보]\n",
      "3.9.13 (tags/v3.9.13:6de2ca5, May 17 2022, 16:36:42) [MSC v.1929 64 bit (AMD64)]"
     ]
    }
   ],
   "source": [
    "# 답\n",
    "import sys\n",
    "\n",
    "print(\"[Python 버전 정보]\\n\"+sys.version, end=\"\")"
   ]
  },
  {
   "cell_type": "markdown",
   "metadata": {},
   "source": [
    "### 문제 8. \n",
    "현재 사용하고 있는 Python의 키워드를 모두 출력하는 프로그램을 작성하라."
   ]
  },
  {
   "cell_type": "code",
   "execution_count": 4,
   "metadata": {
    "tags": [],
    "ExecuteTime": {
     "end_time": "2023-09-08T11:04:38.655880200Z",
     "start_time": "2023-09-08T11:04:38.528360Z"
    }
   },
   "outputs": [
    {
     "name": "stdout",
     "output_type": "stream",
     "text": [
      "[현재 사용 중인 Python 키워드]\n",
      "False\n",
      "None\n",
      "True\n",
      "__peg_parser__\n",
      "and\n",
      "as\n",
      "assert\n",
      "async\n",
      "await\n",
      "break\n",
      "class\n",
      "continue\n",
      "def\n",
      "del\n",
      "elif\n",
      "else\n",
      "except\n",
      "finally\n",
      "for\n",
      "from\n",
      "global\n",
      "if\n",
      "import\n",
      "in\n",
      "is\n",
      "lambda\n",
      "nonlocal\n",
      "not\n",
      "or\n",
      "pass\n",
      "raise\n",
      "return\n",
      "try\n",
      "while\n",
      "with\n",
      "yield\n"
     ]
    }
   ],
   "source": [
    "# 답\n",
    "import keyword\n",
    "\n",
    "keywords = keyword.kwlist\n",
    "print(\"[현재 사용 중인 Python 키워드]\\n\", end=\"\")\n",
    "for kw in keywords:\n",
    "    print(kw)"
   ]
  },
  {
   "cell_type": "markdown",
   "metadata": {},
   "source": [
    "## Python 연산자\n",
    "\n",
    "### Python의 기본 산술 연산\n",
    "\n",
    "|연산\t\t\t| \t연산자\t\t| 예\t\t\t\t| 결과|\n",
    "|:-----:|:--:|:--:|:-----:|\n",
    "|덧셈\t\t\t|\t+\t\t| 2+3\t\t\t|5\t |\n",
    "|뺄셈\t\t\t|\t-\t\t| 5-3\t\t\t|2\t |\n",
    "|곱셈\t\t\t|\t*\t|  5 * 6\t\t|30\t\t|\n",
    "|정수 나눗셈\t\t|\t/\t\t|\t 11/3\t\t|3.6666666666666665 \t|\n",
    "|실수 나눗셈\t\t|\t/ \t\t|\t11.0/3 \t|3.6666666666666665|\n",
    "|나눗셈의 몫\t\t|\t//\t\t|\t11//3\t\t|3 \t\t|\n",
    "|나눗셈의 몫\t\t|\t//\t\t|\t11. // 3.\t\t|3. \t\t|\n",
    "|나눗셈의 나머지\t|\t%\t\t|\t11 % 3\t\t|2 \t\t|\n",
    "|지수승\t\t\t| **\t\t\t|  3 ** 2\t|9\t\t|"
   ]
  },
  {
   "cell_type": "markdown",
   "metadata": {
    "tags": []
   },
   "source": [
    "### 예제 9. 정수와 실수의 연산\n",
    "\n",
    "다음 연산을 새로운 셀에 직접 입력하여 실행한 결과를 살펴 보라.\n",
    "\n",
    "- 35 + 26\n",
    "- 35 - 26\n",
    "- 35 * 26\n",
    "- 35 / 4\n",
    "- 35 // 4\n",
    "- 2 ** 3"
   ]
  },
  {
   "cell_type": "markdown",
   "source": [
    "#### 답"
   ],
   "metadata": {
    "collapsed": false
   }
  },
  {
   "cell_type": "code",
   "execution_count": 5,
   "metadata": {
    "ExecuteTime": {
     "end_time": "2023-09-08T11:04:38.656881300Z",
     "start_time": "2023-09-08T11:04:38.546358900Z"
    }
   },
   "outputs": [
    {
     "data": {
      "text/plain": "61"
     },
     "execution_count": 5,
     "metadata": {},
     "output_type": "execute_result"
    }
   ],
   "source": [
    "35 + 26"
   ]
  },
  {
   "cell_type": "code",
   "execution_count": 6,
   "metadata": {
    "ExecuteTime": {
     "end_time": "2023-09-08T11:04:38.656881300Z",
     "start_time": "2023-09-08T11:04:38.558364500Z"
    }
   },
   "outputs": [
    {
     "data": {
      "text/plain": "9"
     },
     "execution_count": 6,
     "metadata": {},
     "output_type": "execute_result"
    }
   ],
   "source": [
    "35 - 26"
   ]
  },
  {
   "cell_type": "code",
   "execution_count": 7,
   "metadata": {
    "ExecuteTime": {
     "end_time": "2023-09-08T11:04:38.657879800Z",
     "start_time": "2023-09-08T11:04:38.573876Z"
    }
   },
   "outputs": [
    {
     "data": {
      "text/plain": "910"
     },
     "execution_count": 7,
     "metadata": {},
     "output_type": "execute_result"
    }
   ],
   "source": [
    "35 * 26"
   ]
  },
  {
   "cell_type": "code",
   "execution_count": 8,
   "metadata": {
    "ExecuteTime": {
     "end_time": "2023-09-08T11:04:38.657879800Z",
     "start_time": "2023-09-08T11:04:38.587875100Z"
    }
   },
   "outputs": [
    {
     "data": {
      "text/plain": "8.75"
     },
     "execution_count": 8,
     "metadata": {},
     "output_type": "execute_result"
    }
   ],
   "source": [
    "35 / 4"
   ]
  },
  {
   "cell_type": "code",
   "execution_count": 9,
   "metadata": {
    "ExecuteTime": {
     "end_time": "2023-09-08T11:04:38.657879800Z",
     "start_time": "2023-09-08T11:04:38.603874600Z"
    }
   },
   "outputs": [
    {
     "data": {
      "text/plain": "8"
     },
     "execution_count": 9,
     "metadata": {},
     "output_type": "execute_result"
    }
   ],
   "source": [
    "35 // 4"
   ]
  },
  {
   "cell_type": "code",
   "execution_count": 10,
   "metadata": {
    "ExecuteTime": {
     "end_time": "2023-09-08T11:04:38.658880700Z",
     "start_time": "2023-09-08T11:04:38.619874100Z"
    }
   },
   "outputs": [
    {
     "data": {
      "text/plain": "8"
     },
     "execution_count": 10,
     "metadata": {},
     "output_type": "execute_result"
    }
   ],
   "source": [
    "2 ** 3"
   ]
  },
  {
   "cell_type": "markdown",
   "metadata": {},
   "source": [
    "### 문제 10. \n",
    "아래 계산 식에 포함된 연산자 중에서 연산자가 실행되는 순서를 적어라."
   ]
  },
  {
   "cell_type": "code",
   "execution_count": 11,
   "metadata": {
    "tags": [],
    "ExecuteTime": {
     "end_time": "2023-09-08T11:04:38.666396400Z",
     "start_time": "2023-09-08T11:04:38.636877200Z"
    }
   },
   "outputs": [
    {
     "data": {
      "text/plain": "-10.0"
     },
     "execution_count": 11,
     "metadata": {},
     "output_type": "execute_result"
    }
   ],
   "source": [
    "3*-8/2+4//2%5"
   ]
  },
  {
   "cell_type": "markdown",
   "metadata": {},
   "source": [
    "#### 답\n",
    "| 순서 | 사용 연산자 |  해당 식   | 연산결과  |\n",
    "|:--:|:------:|:-------:|:-----:|\n",
    "| 1  |   *    |  3*-8   |  -24  |\n",
    "| 2  | / |  -24/2  | -12.0 |\n",
    "| 3  | % |   2%5   |   2   |\n",
    "| 4  | // |  4//2   |   2   |\n",
    "| 5  | + | -12.0+2 | -10.0 |\n",
    "##### 최종 연산 결과\n",
    "-10.0"
   ]
  },
  {
   "cell_type": "markdown",
   "metadata": {
    "tags": []
   },
   "source": [
    "다음 연산을 직접 실행해 보라.\n",
    "\n",
    "- 7 // 3\n",
    "- -7 // 3"
   ]
  },
  {
   "cell_type": "markdown",
   "source": [
    "#### 답"
   ],
   "metadata": {
    "collapsed": false
   }
  },
  {
   "cell_type": "code",
   "execution_count": 12,
   "metadata": {
    "ExecuteTime": {
     "end_time": "2023-09-08T11:04:38.687394800Z",
     "start_time": "2023-09-08T11:04:38.650881700Z"
    }
   },
   "outputs": [
    {
     "data": {
      "text/plain": "2"
     },
     "execution_count": 12,
     "metadata": {},
     "output_type": "execute_result"
    }
   ],
   "source": [
    "7//3"
   ]
  },
  {
   "cell_type": "code",
   "execution_count": 13,
   "outputs": [
    {
     "data": {
      "text/plain": "-3"
     },
     "execution_count": 13,
     "metadata": {},
     "output_type": "execute_result"
    }
   ],
   "source": [
    "-7//3"
   ],
   "metadata": {
    "collapsed": false,
    "ExecuteTime": {
     "end_time": "2023-09-08T11:04:38.855920300Z",
     "start_time": "2023-09-08T11:04:38.666396400Z"
    }
   }
  },
  {
   "cell_type": "markdown",
   "metadata": {
    "tags": []
   },
   "source": [
    "다음 연산을 직접 실행해 보라.\n",
    "\n",
    "- 3.5 + 26\n",
    "- 3.5 - 26.6\n",
    "- 3.5 * 26\n",
    "- 35.4 / 4\n",
    "- 35.4 // 4"
   ]
  },
  {
   "cell_type": "markdown",
   "source": [
    "#### 답"
   ],
   "metadata": {
    "collapsed": false
   }
  },
  {
   "cell_type": "code",
   "execution_count": 14,
   "metadata": {
    "ExecuteTime": {
     "end_time": "2023-09-08T11:04:38.865972700Z",
     "start_time": "2023-09-08T11:04:38.685395600Z"
    }
   },
   "outputs": [
    {
     "data": {
      "text/plain": "29.5"
     },
     "execution_count": 14,
     "metadata": {},
     "output_type": "execute_result"
    }
   ],
   "source": [
    "3.5+26"
   ]
  },
  {
   "cell_type": "code",
   "execution_count": 15,
   "outputs": [
    {
     "data": {
      "text/plain": "-23.1"
     },
     "execution_count": 15,
     "metadata": {},
     "output_type": "execute_result"
    }
   ],
   "source": [
    "3.5-26.6"
   ],
   "metadata": {
    "collapsed": false,
    "ExecuteTime": {
     "end_time": "2023-09-08T11:04:38.901974Z",
     "start_time": "2023-09-08T11:04:38.699394500Z"
    }
   }
  },
  {
   "cell_type": "code",
   "execution_count": 16,
   "outputs": [
    {
     "data": {
      "text/plain": "91.0"
     },
     "execution_count": 16,
     "metadata": {},
     "output_type": "execute_result"
    }
   ],
   "source": [
    "3.5*26"
   ],
   "metadata": {
    "collapsed": false,
    "ExecuteTime": {
     "end_time": "2023-09-08T11:04:38.901974Z",
     "start_time": "2023-09-08T11:04:38.715393800Z"
    }
   }
  },
  {
   "cell_type": "code",
   "execution_count": 17,
   "outputs": [
    {
     "data": {
      "text/plain": "8.85"
     },
     "execution_count": 17,
     "metadata": {},
     "output_type": "execute_result"
    }
   ],
   "source": [
    "35.4/4"
   ],
   "metadata": {
    "collapsed": false,
    "ExecuteTime": {
     "end_time": "2023-09-08T11:04:38.902974900Z",
     "start_time": "2023-09-08T11:04:38.730394500Z"
    }
   }
  },
  {
   "cell_type": "code",
   "execution_count": 18,
   "outputs": [
    {
     "data": {
      "text/plain": "8.0"
     },
     "execution_count": 18,
     "metadata": {},
     "output_type": "execute_result"
    }
   ],
   "source": [
    "35.4//4"
   ],
   "metadata": {
    "collapsed": false,
    "ExecuteTime": {
     "end_time": "2023-09-08T11:04:38.903975700Z",
     "start_time": "2023-09-08T11:04:38.747394400Z"
    }
   }
  },
  {
   "cell_type": "markdown",
   "metadata": {
    "tags": []
   },
   "source": [
    "### 예제 1. 복합 연산\n",
    "\n",
    "다음 연산을 직접 실행해 보라.\n",
    "\n",
    "\n",
    "- 35 + -26\n",
    "- 35 - -26\n",
    "- -35 * -26\n",
    "- 2 ** -3\n",
    "- 3 + 5 * 4 - 7 // 2\n",
    "- 3 + 5 * (4 - 7) // 2"
   ]
  },
  {
   "cell_type": "code",
   "execution_count": 18,
   "metadata": {
    "ExecuteTime": {
     "end_time": "2023-09-08T11:04:38.904975Z",
     "start_time": "2023-09-08T11:04:38.762904500Z"
    }
   },
   "outputs": [],
   "source": []
  },
  {
   "cell_type": "code",
   "execution_count": 18,
   "metadata": {
    "ExecuteTime": {
     "end_time": "2023-09-08T11:04:38.904975Z",
     "start_time": "2023-09-08T11:04:38.777909400Z"
    }
   },
   "outputs": [],
   "source": []
  },
  {
   "cell_type": "markdown",
   "metadata": {},
   "source": [
    "<div class=\"alert alert-info\">\n",
    "    \n",
    "**나머지 정리**\n",
    "    \n",
    "정수 $m$을 $n$으로 나누었을 때의 몫과 나머지를 각각 $q$와 $r$이라고 하면,\n",
    "   $$ m = qn + r,  (0 \\le r < n)$$\n",
    "</div>\n",
    "\n",
    "$$ 5 = 2 \\cdot 2 + 1$$\n",
    "$$ -5 = -3 \\cdot 2 + 1$$"
   ]
  },
  {
   "cell_type": "markdown",
   "metadata": {},
   "source": [
    "&#32; | 0000011 ( 3) | 1001101 (77)\n",
    "--|--|--\n",
    "n | Shift Left (<< n) | Shift Right(>> n)\n",
    "1  | 0000110 ( 6)  | 0100110 (38)\n",
    "2  | 0001100 (12)  | 0010011 (19)\n",
    "3  | 0011000 (24)  | 0001001 ( 9)\n",
    "4  | 0110000 (48)  | 0000100 ( 4)"
   ]
  },
  {
   "cell_type": "markdown",
   "metadata": {},
   "source": [
    "### 참고. 연산자 우선 순위\n",
    "\n",
    "| 순위 |  연산자 |\n",
    "|--:|:--:|\n",
    "1 | ( )\n",
    "2 | \\*\\*\n",
    "3 | +x, -x, ~x\n",
    "4 | \\*, \\/, \\/\\/, \\%\n",
    "5 | +, -\n",
    "6 | \\<\\<, \\>\\>\n",
    "7 | \\&\n",
    "8 | \\^\n",
    "9 | &#124;\n",
    "10 | ==, !=, \\>, \\>=, \\<, \\<=, is, is not, in, not in\n",
    "11 | not\n",
    "12 | and\n",
    "13 | or\n",
    "\n",
    "- 한 명령 줄에 우선 순위가 동일한 연산자들이 여러 개 있는 경우에는 왼쪽에서 오른쪽\n",
    "순으로 연산이 실행됨"
   ]
  },
  {
   "cell_type": "code",
   "execution_count": 19,
   "metadata": {
    "ExecuteTime": {
     "end_time": "2023-09-08T11:04:38.906971400Z",
     "start_time": "2023-09-08T11:04:38.794911Z"
    }
   },
   "outputs": [
    {
     "data": {
      "text/plain": "18.0"
     },
     "execution_count": 19,
     "metadata": {},
     "output_type": "execute_result"
    }
   ],
   "source": [
    "4 * 3 ** 2 / 2\n",
    "\n"
   ]
  },
  {
   "cell_type": "markdown",
   "metadata": {},
   "source": [
    "### 예제 2. 변수 이용하기\n",
    "\n",
    "#### 4.2.\n",
    "1 mile은 약 1.609km이다. 다음을 km로 변환하라.\n",
    "\n",
    "- 2.3 miles\n",
    "- 3.7 miles\n"
   ]
  },
  {
   "cell_type": "code",
   "execution_count": 19,
   "metadata": {
    "ExecuteTime": {
     "end_time": "2023-09-08T11:04:38.907976Z",
     "start_time": "2023-09-08T11:04:38.810909300Z"
    }
   },
   "outputs": [],
   "source": []
  },
  {
   "cell_type": "markdown",
   "metadata": {},
   "source": [
    "#### 4.3.\n",
    "다음을 mile로 변환하라.\n",
    "- 3.78 km\n",
    "- 2.256 km"
   ]
  },
  {
   "cell_type": "code",
   "execution_count": 19,
   "metadata": {
    "ExecuteTime": {
     "end_time": "2023-09-08T11:04:38.907976Z",
     "start_time": "2023-09-08T11:04:38.825910400Z"
    }
   },
   "outputs": [],
   "source": []
  },
  {
   "cell_type": "markdown",
   "metadata": {},
   "source": [
    "#### 4.4.\n",
    "섭씨 온도를 C라 하고, 화씨 온도를 F라 하자. 화씨와 섭씨 온도를 서로 변환하는 식은 다음과 같이 주어진다.\n",
    "\n",
    "F = C x (9/5) + 32\n",
    "\n",
    "C = (F - 32) * (5/9)\n",
    "\n",
    "다음 섭씨 온도는 화씨 온도로, 화씨 온도는 섭씨 온도로 각각 변환하라.\n",
    "- $22^\\circ$C\n",
    "- $96^\\circ$F\n"
   ]
  },
  {
   "cell_type": "code",
   "execution_count": 19,
   "metadata": {
    "ExecuteTime": {
     "end_time": "2023-09-08T11:04:38.908970100Z",
     "start_time": "2023-09-08T11:04:38.841909700Z"
    }
   },
   "outputs": [],
   "source": []
  },
  {
   "cell_type": "markdown",
   "metadata": {},
   "source": [
    "## 복수어(multi-word) 변수 이름 정하기\n",
    "\n",
    "- Camel case\n",
    "  * camelCaseVariableName\n",
    "- Pascal case\n",
    "  * PascalCaseVariableName\n",
    "- Snake case\n",
    "  * snake_case_variable_name"
   ]
  },
  {
   "cell_type": "markdown",
   "metadata": {},
   "source": [
    "### 예제 5. 변수 이용하기\n",
    "변수 a에 10을 할당하고, print() 함수로 변수의 값을 화면에 출력하라."
   ]
  },
  {
   "cell_type": "code",
   "execution_count": 19,
   "metadata": {
    "ExecuteTime": {
     "end_time": "2023-09-08T11:04:39.045643300Z",
     "start_time": "2023-09-08T11:04:38.858923Z"
    }
   },
   "outputs": [],
   "source": []
  },
  {
   "cell_type": "markdown",
   "metadata": {},
   "source": [
    "위에서 a = 10 이라는 문장의 의미를 적어라."
   ]
  },
  {
   "cell_type": "markdown",
   "metadata": {},
   "source": [
    "변수 a에 2를 더한 값을 변수 b에 할당하고, print() 함수로 두 변수의 값을 화면에 출력하라."
   ]
  },
  {
   "cell_type": "code",
   "execution_count": 19,
   "metadata": {
    "ExecuteTime": {
     "end_time": "2023-09-08T11:04:39.059648200Z",
     "start_time": "2023-09-08T11:04:38.898969400Z"
    }
   },
   "outputs": [],
   "source": []
  },
  {
   "cell_type": "markdown",
   "metadata": {},
   "source": [
    "### 예제 6.\n",
    "type()을 이용하여 두 숫자 6과 6.0의 자료형을 알아보라."
   ]
  },
  {
   "cell_type": "code",
   "execution_count": 19,
   "metadata": {
    "ExecuteTime": {
     "end_time": "2023-09-08T11:04:39.064156400Z",
     "start_time": "2023-09-08T11:04:38.906971400Z"
    }
   },
   "outputs": [],
   "source": []
  },
  {
   "cell_type": "code",
   "execution_count": 19,
   "metadata": {
    "ExecuteTime": {
     "end_time": "2023-09-08T11:04:39.065156Z",
     "start_time": "2023-09-08T11:04:38.922971500Z"
    }
   },
   "outputs": [],
   "source": []
  },
  {
   "cell_type": "code",
   "execution_count": 19,
   "metadata": {
    "ExecuteTime": {
     "end_time": "2023-09-08T11:04:39.065156Z",
     "start_time": "2023-09-08T11:04:38.938975500Z"
    }
   },
   "outputs": [],
   "source": []
  },
  {
   "cell_type": "markdown",
   "metadata": {},
   "source": [
    "### 예제 7. \n",
    "input 함수를 이용하여 키보드의 문자열 입력하고, 입력한 문자열을 다시 콘솔에 출력하는 프로그램을 작성하라."
   ]
  },
  {
   "cell_type": "code",
   "execution_count": 19,
   "metadata": {
    "ExecuteTime": {
     "end_time": "2023-09-08T11:04:39.066156Z",
     "start_time": "2023-09-08T11:04:38.953979400Z"
    }
   },
   "outputs": [],
   "source": []
  },
  {
   "cell_type": "markdown",
   "metadata": {},
   "source": [
    "### 예제 8. \n",
    "키보드로 입력한 숫자에 1을 더한 수를 콘솔에 출력하는 프로그램을 작성하라."
   ]
  },
  {
   "cell_type": "code",
   "execution_count": 19,
   "metadata": {
    "ExecuteTime": {
     "end_time": "2023-09-08T11:04:39.066156Z",
     "start_time": "2023-09-08T11:04:38.969490900Z"
    }
   },
   "outputs": [],
   "source": []
  },
  {
   "cell_type": "markdown",
   "metadata": {
    "tags": []
   },
   "source": [
    "### 예제 9. 비교 연산자\n",
    "\n",
    "비교 연산자가 포함된 다음 표현식을 실행해 보고 이 결과가 나온 이유를 설명해 보라.\n",
    "\n",
    "- 3 > 5\n",
    "- 3 < 5\n",
    "- 3 == 5"
   ]
  },
  {
   "cell_type": "code",
   "execution_count": 19,
   "metadata": {
    "ExecuteTime": {
     "end_time": "2023-09-08T11:04:39.067155600Z",
     "start_time": "2023-09-08T11:04:39.008498100Z"
    }
   },
   "outputs": [],
   "source": []
  },
  {
   "cell_type": "code",
   "execution_count": 19,
   "metadata": {
    "ExecuteTime": {
     "end_time": "2023-09-08T11:04:39.067155600Z",
     "start_time": "2023-09-08T11:04:39.017498300Z"
    }
   },
   "outputs": [],
   "source": []
  },
  {
   "cell_type": "markdown",
   "metadata": {
    "jp-MarkdownHeadingCollapsed": true,
    "tags": []
   },
   "source": [
    "비교 연산자가 포함된 다음 표현식을 실행해 보고 이 결과가 나온 이유를 설명해 보라.\n",
    "\n",
    "- '3' > '5'\n",
    "- 'a' < '5'\n",
    "- 'a' < 'A'"
   ]
  },
  {
   "cell_type": "code",
   "execution_count": 19,
   "metadata": {
    "ExecuteTime": {
     "end_time": "2023-09-08T11:04:39.068156Z",
     "start_time": "2023-09-08T11:04:39.032643500Z"
    }
   },
   "outputs": [],
   "source": []
  },
  {
   "cell_type": "code",
   "execution_count": 19,
   "metadata": {
    "ExecuteTime": {
     "end_time": "2023-09-08T11:04:39.074156500Z",
     "start_time": "2023-09-08T11:04:39.048650300Z"
    }
   },
   "outputs": [],
   "source": []
  },
  {
   "cell_type": "code",
   "execution_count": 19,
   "metadata": {
    "ExecuteTime": {
     "end_time": "2023-09-08T11:04:39.126156600Z",
     "start_time": "2023-09-08T11:04:39.063152Z"
    }
   },
   "outputs": [],
   "source": []
  },
  {
   "cell_type": "markdown",
   "metadata": {},
   "source": [
    "## 조건문\n",
    "\n",
    "1.\n",
    "```code\n",
    "if <조건식>: \n",
    "    <statement(s)>\n",
    "```\n",
    "\n",
    "\n",
    "2.\n",
    "```code\n",
    "if <조건식>: \n",
    "    <statement(s)>\n",
    "else:\n",
    "    <statement(s)>\n",
    "```\n",
    "\n",
    "3.\n",
    "\n",
    "```code\n",
    "if <조건식>: \n",
    "    <statement(s)>\n",
    "elif <조건식>:\n",
    "    <statement(s)>\n",
    "else:\n",
    "    <statement(s)>\n",
    "```"
   ]
  },
  {
   "cell_type": "markdown",
   "metadata": {},
   "source": [
    "### 예제 10.\n",
    "변수 x에 할당된 숫자가 3과 같으면 'x is 3'을 출력하고, 그렇지 않으면 'x is not 3'을 출력하는 프로그램을 작성하라."
   ]
  },
  {
   "cell_type": "code",
   "execution_count": 19,
   "metadata": {
    "ExecuteTime": {
     "end_time": "2023-09-08T11:04:39.127156200Z",
     "start_time": "2023-09-08T11:04:39.080155500Z"
    }
   },
   "outputs": [],
   "source": []
  },
  {
   "cell_type": "markdown",
   "metadata": {
    "tags": []
   },
   "source": [
    "### 예제 11. \n",
    "키보드로 입력한 정수가 홀수인지 짝수인지 출력하는 프로그램을 작성하라."
   ]
  },
  {
   "cell_type": "code",
   "execution_count": 19,
   "metadata": {
    "ExecuteTime": {
     "end_time": "2023-09-08T11:04:39.128157600Z",
     "start_time": "2023-09-08T11:04:39.095155900Z"
    }
   },
   "outputs": [],
   "source": []
  },
  {
   "cell_type": "markdown",
   "metadata": {},
   "source": [
    "### 숙제\n",
    "\n",
    "이번 실습 과정에서 ChatGPT를 사용하여 새로운 해를 구한 경우가 있거나, 잘못된 답을 알려준 경우가 있다면 어떤 과정을 거쳐서 답을 수정했는지 설명하라. 각 문제마다 자신이 공부한 내용을 추가하라."
   ]
  },
  {
   "cell_type": "code",
   "execution_count": 19,
   "metadata": {
    "ExecuteTime": {
     "end_time": "2023-09-08T11:04:39.128157600Z",
     "start_time": "2023-09-08T11:04:39.111156400Z"
    }
   },
   "outputs": [],
   "source": []
  }
 ],
 "metadata": {
  "kernelspec": {
   "display_name": "Python 3 (ipykernel)",
   "language": "python",
   "name": "python3"
  },
  "language_info": {
   "codemirror_mode": {
    "name": "ipython",
    "version": 3
   },
   "file_extension": ".py",
   "mimetype": "text/x-python",
   "name": "python",
   "nbconvert_exporter": "python",
   "pygments_lexer": "ipython3",
   "version": "3.11.4"
  },
  "latex_envs": {
   "LaTeX_envs_menu_present": true,
   "autoclose": false,
   "autocomplete": true,
   "bibliofile": "biblio.bib",
   "cite_by": "apalike",
   "current_citInitial": 1,
   "eqLabelWithNumbers": true,
   "eqNumInitial": 1,
   "hotkeys": {
    "equation": "Ctrl-E",
    "itemize": "Ctrl-I"
   },
   "labels_anchors": false,
   "latex_user_defs": false,
   "report_style_numbering": false,
   "user_envs_cfg": false
  },
  "toc": {
   "base_numbering": 1,
   "nav_menu": {},
   "number_sections": false,
   "sideBar": true,
   "skip_h1_title": false,
   "title_cell": "Table of Contents",
   "title_sidebar": "Contents",
   "toc_cell": false,
   "toc_position": {
    "height": "calc(100% - 180px)",
    "left": "10px",
    "top": "150px",
    "width": "270.5px"
   },
   "toc_section_display": true,
   "toc_window_display": false
  }
 },
 "nbformat": 4,
 "nbformat_minor": 4
}
