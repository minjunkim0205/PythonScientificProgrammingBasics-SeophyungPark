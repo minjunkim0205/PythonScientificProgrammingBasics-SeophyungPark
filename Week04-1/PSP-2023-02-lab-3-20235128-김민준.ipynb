{
 "cells": [
  {
   "cell_type": "markdown",
   "metadata": {},
   "source": [
    "<h1 align='center'> 파이썬과학프로그래밍기초 실습 3</h1>\n",
    "\n",
    "<p style=\"text-align: right\"> 2023.9.21</p>"
   ]
  },
  {
   "cell_type": "markdown",
   "metadata": {},
   "source": [
    "<div class=\"alert alert-block alert-info\">\n",
    "    \n",
    "- 파일 이름에서 00000000을 자신의 학번으로, name을 자신의 이름으로 수정하세요.\n",
    "\n",
    "- 다음 줄에 자신의 이름, 학번, 학과(전공)을 적으세요.\n",
    "\n",
    "* 이름:김민준   &nbsp;&nbsp;          학번:20235128    &nbsp;&nbsp;         학과(전공):소융\n",
    "    \n",
    "</div>\n",
    "\n",
    "- JupyterLab 문서의 최신 버전은 [JupyterLab Documentation](https://jupyterlab.readthedocs.io/en/stable/index.html#/)을  참고하라\n",
    "\n",
    "- Markdown은 [Markdown Guide](https://www.markdownguide.org/)를 참고하라.\n",
    "- [Markdown Cheat Sheet](https://www.markdownguide.org/cheat-sheet/)\n",
    "\n",
    "* 제출 마감: 9월 20일 (수) 오후 10:00까지 최종본을 SmartLEAD에 제출"
   ]
  },
  {
   "cell_type": "markdown",
   "metadata": {},
   "source": [
    "## 조건문\n",
    "\n",
    "1.\n",
    "```code\n",
    "if <조건식>: \n",
    "    <statement(s)>\n",
    "```\n",
    "\n",
    "\n",
    "2.\n",
    "```code\n",
    "if <조건식>: \n",
    "    <statement(s)>\n",
    "else:\n",
    "    <statement(s)>\n",
    "```\n",
    "\n",
    "3.\n",
    "\n",
    "```code\n",
    "if <조건식>: \n",
    "    <statement(s)>\n",
    "elif <조건식>:\n",
    "    <statement(s)>\n",
    "else:\n",
    "    <statement(s)>\n",
    "```"
   ]
  },
  {
   "cell_type": "markdown",
   "metadata": {},
   "source": [
    "### 문제 1.\n",
    "2의 보수 표현을 사용하는 경우에, 5비트로 표현할 수 있는 정수의 범위를 10진수로 표현하라.\n"
   ]
  },
  {
   "cell_type": "markdown",
   "metadata": {},
   "source": [
    "**답**: \n",
    "n = 5\n",
    "- 최소값: -2^(n-1) = -16\n",
    "- 최대값: 2^(n-1) - 1 = 15\n",
    "\n",
    "따라서 범위는 -16~15 이다"
   ]
  },
  {
   "cell_type": "markdown",
   "metadata": {},
   "source": [
    "### 문제 2.\n",
    "10진수 -13을 6 비트 2진수의 signed int 표현으로 변환하는 과정을 설명하고, 답을 적어라."
   ]
  },
  {
   "cell_type": "markdown",
   "metadata": {},
   "source": [
    "**답**\n",
    "- 비트 단위로 설정하기(6비트) <br>\n",
    "    -13 -> 13 <br>\n",
    "    13 -> 001101 <br>\n",
    "    001101 -> 101101(최상위 비트만 반전해줌(부호 비트, 음수 표현))\n",
    "- 비트 단위에서 1은 0으로, 0은 1으로(1의보수, 비트반전) <br>\n",
    "    101101 -> 110010(부호 비트(최상위 비트)는 건들지 않음)\n",
    "- 비트 1을 더하기(비트 덧샘 연산) <br>\n",
    "    110010 - > 110011\n",
    "- [ -13(10진) -> 110011(2진) ]\n",
    "  \n",
    "따라서 -13를 2진수로 변환 하면 110011이다."
   ]
  },
  {
   "cell_type": "markdown",
   "metadata": {},
   "source": [
    "### 문제 3. \n",
    "다음 연산 결과가 나오는 이유를 설명하라."
   ]
  },
  {
   "cell_type": "code",
   "execution_count": 9,
   "metadata": {
    "tags": [],
    "ExecuteTime": {
     "end_time": "2023-09-18T19:03:37.313005200Z",
     "start_time": "2023-09-18T19:03:36.744981700Z"
    }
   },
   "outputs": [
    {
     "data": {
      "text/plain": "-32"
     },
     "execution_count": 9,
     "metadata": {},
     "output_type": "execute_result"
    }
   ],
   "source": [
    "-9 ^ 23"
   ]
  },
  {
   "cell_type": "markdown",
   "metadata": {},
   "source": [
    "**답**\n",
    "^의 연산 기호는 XOR의 의미이다.\n",
    "8비트 베이스 연산으로 풀이하자면\n",
    "- -9 -> 9 -> 00001001 -> 10001001 -> 11110110 -> 11110111\n",
    "- 23 -> 00010111\n",
    "- 11110111 xor 00010111 -> 11100000\n",
    "- 11100000 -> 00011111 -> 00100000 -> 32 -> -32\n",
    "\n",
    "따라서 -9^23은 -32 이다."
   ]
  },
  {
   "cell_type": "markdown",
   "metadata": {},
   "source": [
    "### 문제 4.\n",
    "아래 셀에 있는 프로그램이 실행되는 과정을 설명하시오.\n",
    "\n",
    "for 루프와 range() 함수는 다음을 참조하시오.\n",
    "\n",
    "https://docs.python.org/ko/3.11/tutorial/controlflow.html#the-range-function\n",
    "\n",
    "**답**:"
   ]
  },
  {
   "cell_type": "code",
   "execution_count": 1,
   "metadata": {
    "tags": [],
    "ExecuteTime": {
     "end_time": "2023-09-20T02:37:56.049897900Z",
     "start_time": "2023-09-20T02:37:56.033893600Z"
    }
   },
   "outputs": [
    {
     "name": "stdout",
     "output_type": "stream",
     "text": [
      "0\n",
      "1\n",
      "2\n",
      "3\n",
      "4\n"
     ]
    }
   ],
   "source": [
    "for n in range(5):\n",
    "    print(n)"
   ]
  },
  {
   "cell_type": "markdown",
   "metadata": {},
   "source": [
    "### 문제 5.\n",
    "아래 셀에 있는 프로그램이 실행되는 과정을 설명하라."
   ]
  },
  {
   "cell_type": "code",
   "execution_count": 11,
   "metadata": {
    "tags": [],
    "ExecuteTime": {
     "end_time": "2023-09-18T19:03:37.347464800Z",
     "start_time": "2023-09-18T19:03:36.782852900Z"
    }
   },
   "outputs": [
    {
     "name": "stdout",
     "output_type": "stream",
     "text": [
      "1\n",
      "3\n",
      "5\n",
      "7\n",
      "9\n"
     ]
    }
   ],
   "source": [
    "for n in range(1, 10, 2):\n",
    "    print(n)"
   ]
  },
  {
   "cell_type": "markdown",
   "metadata": {},
   "source": [
    "**설명**"
   ]
  },
  {
   "cell_type": "markdown",
   "metadata": {},
   "source": [
    "### 문제 6.\n",
    "아래 셀에 있는 프로그램이 실행되는 과정을 설명하라."
   ]
  },
  {
   "cell_type": "code",
   "execution_count": 12,
   "metadata": {
    "tags": [],
    "ExecuteTime": {
     "end_time": "2023-09-18T19:03:37.353620Z",
     "start_time": "2023-09-18T19:03:36.799009100Z"
    }
   },
   "outputs": [
    {
     "name": "stdout",
     "output_type": "stream",
     "text": [
      "1\n",
      "3\n",
      "5\n",
      "7\n",
      "9\n"
     ]
    }
   ],
   "source": [
    "for n in [1, 3, 5, 7, 9]:\n",
    "    print(n)"
   ]
  },
  {
   "cell_type": "markdown",
   "metadata": {},
   "source": [
    "**설명**"
   ]
  },
  {
   "cell_type": "markdown",
   "metadata": {},
   "source": [
    "### 문제 7. \n",
    "콘솔에 다음과 같은 결과가 나타나도록 아래 셀에 있는 프로그램을 완성하라.\n",
    "```\n",
    "1\n",
    "3\n",
    "7\n",
    "9\n",
    "```"
   ]
  },
  {
   "cell_type": "code",
   "execution_count": 13,
   "metadata": {
    "tags": [],
    "ExecuteTime": {
     "end_time": "2023-09-18T19:03:37.396255700Z",
     "start_time": "2023-09-18T19:03:36.814122900Z"
    }
   },
   "outputs": [
    {
     "name": "stdout",
     "output_type": "stream",
     "text": [
      "1\n",
      "3\n",
      "5\n",
      "7\n",
      "9\n"
     ]
    }
   ],
   "source": [
    "for n in range(1, 10, 2):\n",
    "    if n  :\n",
    "        print(n)"
   ]
  },
  {
   "cell_type": "markdown",
   "metadata": {},
   "source": [
    "### 문제 8.\n",
    "아래 셀의 프로그램을 실행했을 때, 리스트 a의 원소를 변경하지 않았음에도, a의 원소 중에 2가 10으로 변하는지 설명하라."
   ]
  },
  {
   "cell_type": "code",
   "execution_count": 14,
   "metadata": {
    "tags": [],
    "ExecuteTime": {
     "end_time": "2023-09-18T19:03:37.396255700Z",
     "start_time": "2023-09-18T19:03:36.829693200Z"
    }
   },
   "outputs": [
    {
     "name": "stdout",
     "output_type": "stream",
     "text": [
      "[1, 2, 3, 4]\n",
      "[1, 10, 3, 4]\n"
     ]
    }
   ],
   "source": [
    "a = [1, 2, 3, 4]\n",
    "print(a)\n",
    "b = a\n",
    "b[1] = 10\n",
    "print(a)"
   ]
  },
  {
   "cell_type": "markdown",
   "metadata": {},
   "source": [
    "**답**"
   ]
  },
  {
   "cell_type": "markdown",
   "metadata": {},
   "source": [
    "### 문제 9.\n",
    "아래 셀에 있는 프로그램을 반복 실행하면서, 1부터 5 사이의 정수를 차례로 입력하면서 출력 결과를 살펴본 후에, 이 프로그램이 하는 역할을 설명하라. (언제 A가 출력되는지, 언제 B가 출력되는지 설명하라.)"
   ]
  },
  {
   "cell_type": "code",
   "execution_count": 15,
   "metadata": {
    "ExecuteTime": {
     "end_time": "2023-09-18T19:03:38.809114700Z",
     "start_time": "2023-09-18T19:03:36.855035900Z"
    }
   },
   "outputs": [
    {
     "name": "stdout",
     "output_type": "stream",
     "text": [
      "A\n",
      "프로그램 종료\n"
     ]
    }
   ],
   "source": [
    "x = input('1과 5 사이의 정수를 입력하고 엔터 키를 누르시오: ')\n",
    "x = eval(x)\n",
    "if x % 2 == 1:\n",
    "    print('A')\n",
    "else:\n",
    "    print('B')\n",
    "print('프로그램 종료')"
   ]
  },
  {
   "cell_type": "markdown",
   "metadata": {},
   "source": [
    "**답**:"
   ]
  },
  {
   "cell_type": "markdown",
   "metadata": {
    "tags": []
   },
   "source": [
    "### 문제 10. \n",
    "콘솔에 다음과 같은 결과가 나타나도록 아래 셀에 있는 프로그램을 완성하라.\n",
    "```\n",
    "0 a\n",
    "1 b\n",
    "2 c\n",
    "3 d\n",
    "```"
   ]
  },
  {
   "cell_type": "code",
   "execution_count": 16,
   "metadata": {
    "tags": [],
    "ExecuteTime": {
     "end_time": "2023-09-18T19:03:38.809625500Z",
     "start_time": "2023-09-18T19:03:38.548055300Z"
    }
   },
   "outputs": [
    {
     "ename": "SyntaxError",
     "evalue": "invalid syntax (1925358256.py, line 1)",
     "output_type": "error",
     "traceback": [
      "\u001B[1;36m  Cell \u001B[1;32mIn[16], line 1\u001B[1;36m\u001B[0m\n\u001B[1;33m    for :\u001B[0m\n\u001B[1;37m        ^\u001B[0m\n\u001B[1;31mSyntaxError\u001B[0m\u001B[1;31m:\u001B[0m invalid syntax\n"
     ]
    }
   ],
   "source": [
    "for :\n",
    "    print"
   ]
  },
  {
   "cell_type": "code",
   "execution_count": null,
   "metadata": {
    "ExecuteTime": {
     "start_time": "2023-09-18T19:03:38.567775800Z"
    }
   },
   "outputs": [],
   "source": []
  },
  {
   "cell_type": "markdown",
   "metadata": {},
   "source": [
    "### 예제 1. \n",
    "\n",
    "다음과 같이 주어지는 리스트가 있다.\n",
    "\n",
    "```\n",
    "[3, 9, 8, 2, 5, 9, 7, 10, 9, 1, 9, 0, 7, 4, 8, 3, 3, 7, 8, 8, 7, 6, 10, 2, 3]\n",
    "```\n",
    "\n",
    "\n",
    "이 리스트의 item 중에서 4로 나누었을 때 나머지가 1인 정수들의 합을 구하는 프로그램을 작성하라."
   ]
  },
  {
   "cell_type": "code",
   "execution_count": null,
   "metadata": {
    "scrolled": true,
    "tags": [],
    "ExecuteTime": {
     "start_time": "2023-09-18T19:03:38.571992300Z"
    }
   },
   "outputs": [],
   "source": [
    "import random\n",
    "random.seed(5)\n",
    "[random.randint(0, 10) for _ in range(10)]"
   ]
  },
  {
   "cell_type": "code",
   "execution_count": null,
   "metadata": {
    "tags": [],
    "ExecuteTime": {
     "start_time": "2023-09-18T19:03:38.576988800Z"
    }
   },
   "outputs": [],
   "source": [
    "lst = [9, 4, 5, 10, 8, 0, 7, 3, 10, 0]\n"
   ]
  },
  {
   "cell_type": "markdown",
   "metadata": {
    "tags": []
   },
   "source": [
    "### 예제 2. \n",
    "\n",
    "문제 1에 주어진 리스트에서 인덱스가 0을 제외한 3의 배수인 item들의 곱을 구하는 프로그램을 작성하라"
   ]
  },
  {
   "cell_type": "code",
   "execution_count": null,
   "metadata": {
    "tags": [],
    "ExecuteTime": {
     "start_time": "2023-09-18T19:03:38.581512300Z"
    }
   },
   "outputs": [],
   "source": [
    "lst = [9, 4, 5, 10, 8, 0, 7, 3, 10, 0]\n"
   ]
  },
  {
   "cell_type": "code",
   "execution_count": null,
   "metadata": {
    "tags": [],
    "ExecuteTime": {
     "start_time": "2023-09-18T19:03:38.586539100Z"
    }
   },
   "outputs": [],
   "source": [
    "lst = [9, 4, 5, 10, 8, 0, 7, 3, 10, 0]\n"
   ]
  },
  {
   "cell_type": "code",
   "execution_count": null,
   "metadata": {
    "tags": [],
    "ExecuteTime": {
     "start_time": "2023-09-18T19:03:38.590651700Z"
    }
   },
   "outputs": [],
   "source": [
    "lst = [9, 4, 5, 10, 8, 0, 7, 3, 10, 0]\n"
   ]
  },
  {
   "cell_type": "markdown",
   "metadata": {},
   "source": [
    "### 예제 3.\n",
    "\n",
    "List comprehension을 사용해서 아래 셀의 리스트 x에서 음수값을 가진 원소들을 다음과 같이 모두 부호를 양으로 바꾸어 새로운 리스트 y를 만들고, y를 출력하라.\n",
    "```\n",
    "[5, -3, -2, 1, 5, -2, -3, 2, -7, 1, -4, -6, 3, -4, -2, -5, 6, 8, 3, -2]\n",
    "```\n",
    "가 다음과 같이 출력되어야 함.\n",
    "```\n",
    "[5, 3, 2, 1, 5, 2, 3, 2, 7, 1, 4, 6, 3, 4, 2, 5, 6, 8, 3, 2]\n",
    "```"
   ]
  },
  {
   "cell_type": "code",
   "execution_count": null,
   "metadata": {
    "tags": [],
    "ExecuteTime": {
     "start_time": "2023-09-18T19:03:38.594171800Z"
    }
   },
   "outputs": [],
   "source": [
    "x = [5, -3, -2, 1, 5, -2, -3, 2, -7, 1, -4, -6, 3, -4, -2, -5, 6, 8, 3, -2]\n",
    "abs_x = []\n",
    "print(abs_x)"
   ]
  },
  {
   "cell_type": "markdown",
   "metadata": {},
   "source": [
    "### 예제 3.\n",
    "\n",
    "다음과 같이 주어지는 두 개의 리스트가 있다.\n",
    "```\n",
    "lst_1 = [1, 8, 10, 12, 9, 5, 14, 3, 3, 2, 1, 7, 8]\n",
    "lst_2 = [1, 2, 11, 15, 6, 3, 3, 6, 14]\n",
    "```\n",
    "\n",
    "for loop을 사용하여 lst_1과 lst_2에 공통적으로 있는 원소들을 원소로 갖는 리스트 lst 를 만들어라.\n",
    "단, lst에 중복된 원소는 없어야 하고, 원소의 크기는 오름차순으로 정렬되어야 하고, set() 함수는 사용하지 말아야 한다.\n",
    "답은 다음과 같아야 한다.\n",
    "```\n",
    "lst: [1, 2, 3, 14]\n",
    "```"
   ]
  },
  {
   "cell_type": "code",
   "execution_count": null,
   "metadata": {
    "tags": [],
    "ExecuteTime": {
     "start_time": "2023-09-18T19:03:38.596172300Z"
    }
   },
   "outputs": [],
   "source": [
    "lst_1 = [1, 8, 10, 12, 9, 5, 14, 3, 3, 2, 1, 7, 8]\n",
    "lst_2 = [1, 2, 11, 15, 6, 3, 3, 6, 14]\n",
    "lst = []\n"
   ]
  },
  {
   "cell_type": "markdown",
   "metadata": {},
   "source": [
    "### 예제 4.\n",
    "다음과 같은 결과가 나오는 이유를 설명하라."
   ]
  },
  {
   "cell_type": "code",
   "execution_count": null,
   "metadata": {
    "tags": [],
    "ExecuteTime": {
     "start_time": "2023-09-18T19:03:38.599131200Z"
    }
   },
   "outputs": [],
   "source": [
    "from copy import deepcopy\n",
    "lst1 = [1, 3, 4]\n",
    "lst2 = lst1\n",
    "lst3 = lst1.copy()\n",
    "lst4 = deepcopy(lst1)"
   ]
  },
  {
   "cell_type": "code",
   "execution_count": null,
   "metadata": {
    "ExecuteTime": {
     "start_time": "2023-09-18T19:03:38.601207600Z"
    }
   },
   "outputs": [],
   "source": [
    "lst1[1] = 13\n",
    "print(lst1, lst2, lst3, lst4)"
   ]
  },
  {
   "cell_type": "markdown",
   "metadata": {},
   "source": [
    "**설명**:\n"
   ]
  },
  {
   "cell_type": "code",
   "execution_count": null,
   "metadata": {
    "ExecuteTime": {
     "start_time": "2023-09-18T19:03:38.604219900Z"
    }
   },
   "outputs": [],
   "source": [
    "lst5 = [[1, 3], 4, 5, 6]\n",
    "lst6 = lst5\n",
    "lst7 = lst5.copy()\n",
    "lst8 = deepcopy(lst5)"
   ]
  },
  {
   "cell_type": "code",
   "execution_count": null,
   "metadata": {
    "ExecuteTime": {
     "start_time": "2023-09-18T19:03:38.606254700Z"
    }
   },
   "outputs": [],
   "source": [
    "lst5[0][1] = 13\n",
    "lst5[3] = 16\n",
    "print(lst5, lst6, lst7, lst8)"
   ]
  },
  {
   "cell_type": "markdown",
   "metadata": {},
   "source": [
    "**설명**:\n"
   ]
  },
  {
   "cell_type": "markdown",
   "metadata": {},
   "source": [
    "### 예제 5.\n",
    "\n",
    "다음과 같은 8-bit minifloat format이 있다고 가정하자.\n",
    "\n",
    "\n",
    "\n",
    "<table style=\"border:1px solid black;\">\n",
    "    <thead>\n",
    "        <tr>\n",
    "            <th style=\"border:1px solid black;\">b7</th>\n",
    "            <th style=\"border:1px solid black;\">b6</th>\n",
    "            <th style=\"border:1px solid black;\">b5</th>\n",
    "            <th style=\"border:1px solid black;\">b4</th>\n",
    "            <th style=\"border:1px solid black;\">b3</th>\n",
    "            <th style=\"border:1px solid black;\">b2</th>\n",
    "            <th style=\"border:1px solid black;\">b1</th>\n",
    "            <th style=\"border:1px solid black;\">b0</th>\n",
    "        </tr>\n",
    "        <tr>\n",
    "            <td style=\"border:1px solid black;\">sign (1 bit)</td>\n",
    "            <td colspan=4 style=\"border:1px solid black;\">q = e + 7 (4 btis)</td>\n",
    "            <td colspan=3 style=\"border:1px solid black;\">mantissa (3 btis))</td>\n",
    "        </tr>\n",
    "    </thead>\n",
    "    \n",
    "</table>\n",
    "\n",
    "위 형식으로 표현된 8 bits 이진수를 10 진수 실수로 변환하면 다음과 같다.\n",
    "\n",
    "$$x=(-1)^s×(1.b_2 b_1 b_0)_2×2^e=(-1)^s×(1.b_2 b_1 b_0)_2×2^{q-7}$$\n",
    "\n",
    "여기에서, 다음 4 가지 이진수는 다음과 같은 의미를 갖는다고 정의하자.\n",
    "- 0 0000 000 = 0\n",
    "- 1 0000 000 = -0\n",
    "- 0 1111 000 = +infinity\n",
    "- 1 1111 000 = -infinity\n",
    "\n",
    "위의 4 가지 이진수 이외의 이진수들은 다음과 같이 변환된다.\n",
    "\n",
    "예를 들면, 0 1011 101은 다음과 같다.\n",
    "$$0 1011 101 = (-1)^0 \\times (1.101)_2\\times 2^{11-7}=(1.101)_2\\times 2^4=(11010)_2$$\n",
    "$$(11010)_2 = 0 \\times 1 + 1 \\times 2^1 + 0 \\times 2^2 + 1 \\times 2^3 + 1 \\times 2^4 = 2 + 8 + 16 = 26$$\n",
    "\n",
    "예를 들면, 1 0110 001은 다음과 같다.\n",
    "$$ 1 0110 001 = (-1)^1\\times(1.001)_2\\times2^{6-7}=-(1.001)_2\\times2^{-1}=-(0.1001)_2$$\n",
    "$$ -(0.1001)_2 = -\\left(1\\times 2^{-1} + 2^{-4} = 0.5 + 0.1625\\right) =  -0.5625$$\n",
    "\n",
    "\n",
    "8-bit minifloat format으로 표현된 다음 8 bits 이진수들을 10 진수 실수로 변환하는 과정을 설명하라.\n",
    "\n",
    "1) 0 1011 111 \n",
    "\n",
    "2) 0 0011 011 \n",
    "\n",
    "3) 1 0110 101 "
   ]
  },
  {
   "cell_type": "markdown",
   "metadata": {},
   "source": [
    "##### 답:\n",
    "\n",
    "1) 0 1011 111 $ = (-1)^0×(1.111)_2×2^{11-7}=(1.111)_2×2^{4}=(11110)_2 = 30$\n",
    "\n",
    "2) 0 0011 011 $ = (-1)^0×(1.011)_2×2^{3-7}=(1.011)_2×2^{-4}=(0.0001011)_2 = 0.0859375$\n",
    "\n",
    "\n",
    "3) 1 0110 101 $ = (-1)^1×(1.101)_2×2^{6-7}=-(1.101)_2×2^{-1}=-(0.1101)_2 = -(0.5+0.25+0.0625) = -0.8125$\n"
   ]
  },
  {
   "cell_type": "code",
   "execution_count": null,
   "metadata": {
    "ExecuteTime": {
     "start_time": "2023-09-18T19:03:38.608764200Z"
    }
   },
   "outputs": [],
   "source": []
  }
 ],
 "metadata": {
  "kernelspec": {
   "display_name": "Python 3 (ipykernel)",
   "language": "python",
   "name": "python3"
  },
  "language_info": {
   "codemirror_mode": {
    "name": "ipython",
    "version": 3
   },
   "file_extension": ".py",
   "mimetype": "text/x-python",
   "name": "python",
   "nbconvert_exporter": "python",
   "pygments_lexer": "ipython3",
   "version": "3.11.4"
  },
  "latex_envs": {
   "LaTeX_envs_menu_present": true,
   "autoclose": false,
   "autocomplete": true,
   "bibliofile": "biblio.bib",
   "cite_by": "apalike",
   "current_citInitial": 1,
   "eqLabelWithNumbers": true,
   "eqNumInitial": 1,
   "hotkeys": {
    "equation": "Ctrl-E",
    "itemize": "Ctrl-I"
   },
   "labels_anchors": false,
   "latex_user_defs": false,
   "report_style_numbering": false,
   "user_envs_cfg": false
  },
  "toc": {
   "base_numbering": 1,
   "nav_menu": {},
   "number_sections": false,
   "sideBar": true,
   "skip_h1_title": false,
   "title_cell": "Table of Contents",
   "title_sidebar": "Contents",
   "toc_cell": false,
   "toc_position": {
    "height": "calc(100% - 180px)",
    "left": "10px",
    "top": "150px",
    "width": "270.5px"
   },
   "toc_section_display": true,
   "toc_window_display": false
  }
 },
 "nbformat": 4,
 "nbformat_minor": 4
}
