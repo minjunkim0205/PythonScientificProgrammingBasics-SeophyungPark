{
 "cells": [
  {
   "cell_type": "markdown",
   "metadata": {},
   "source": [
    "<h1 align='center'> 파이썬과학프로그래밍기초 실습 2</h1>\n",
    "\n",
    "<p style=\"text-align: right\"> 2023.9.14.</p>"
   ]
  },
  {
   "cell_type": "markdown",
   "metadata": {},
   "source": [
    "<div class=\"alert alert-block alert-info\">\n",
    "    \n",
    "- 파일 이름에서 00000000을 자신의 학번으로, name을 자신의 이름으로 수정하세요.\n",
    "\n",
    "- 다음 줄에 자신의 이름, 학번, 학과(전공)을 적으세요.\n",
    "\n",
    "* 이름:김민준  &nbsp;&nbsp;          학번:20235128    &nbsp;&nbsp;         학과(전공):소프트웨어융합\n",
    "    \n",
    "</div>\n",
    "\n",
    "- JupyterLab 문서의 최신 버전은 [JupyterLab Documentation](https://jupyterlab.readthedocs.io/en/stable/index.html#/)을  참고하라\n",
    "\n",
    "- Markdown은 [Markdown Guide](https://www.markdownguide.org/)를 참고하라.\n",
    "- [Markdown Cheat Sheet](https://www.markdownguide.org/cheat-sheet/)\n",
    "\n",
    "* 제출 마감: 9월 13일(tn) 오후 10:00까지 최종본 SmartLEAD에 제출"
   ]
  },
  {
   "cell_type": "markdown",
   "metadata": {},
   "source": [
    "<div class=\"alert alert-info\">\n",
    "    \n",
    "**참고: 나머지 정리**\n",
    "    \n",
    "정수 $m$을 $n$으로 나누었을 때의 몫과 나머지를 각각 $q$와 $r$이라고 하면,\n",
    "   $$ m = qn + r,  (0 \\le r < n)$$\n",
    "</div>\n",
    "\n",
    "$$ 5 = 2 \\cdot 2 + 1$$\n",
    "$$ -5 = -3 \\cdot 2 + 1$$"
   ]
  },
  {
   "cell_type": "code",
   "execution_count": 43,
   "metadata": {
    "tags": [],
    "ExecuteTime": {
     "end_time": "2023-09-14T04:07:15.447040100Z",
     "start_time": "2023-09-14T04:07:15.093898400Z"
    }
   },
   "outputs": [
    {
     "data": {
      "text/plain": "(2, -3)"
     },
     "execution_count": 43,
     "metadata": {},
     "output_type": "execute_result"
    }
   ],
   "source": [
    "5 // 2, -5 // 2"
   ]
  },
  {
   "cell_type": "markdown",
   "source": [
    "(y, x) 형태의 데이터는 튜플 타입\n",
    "튜플은 괄호를 생략하고 ,로 구분 가능"
   ],
   "metadata": {
    "collapsed": false
   }
  },
  {
   "cell_type": "code",
   "execution_count": 44,
   "metadata": {
    "tags": [],
    "ExecuteTime": {
     "end_time": "2023-09-14T04:07:15.752543100Z",
     "start_time": "2023-09-14T04:07:15.113633600Z"
    }
   },
   "outputs": [
    {
     "data": {
      "text/plain": "(2, 1)"
     },
     "execution_count": 44,
     "metadata": {},
     "output_type": "execute_result"
    }
   ],
   "source": [
    "divmod(5, 2)"
   ]
  },
  {
   "cell_type": "markdown",
   "source": [
    "divmod()함수는 몫과 나머지를 튜플 데이터 타입으로 반환"
   ],
   "metadata": {
    "collapsed": false
   }
  },
  {
   "cell_type": "code",
   "execution_count": 45,
   "metadata": {
    "tags": [],
    "ExecuteTime": {
     "end_time": "2023-09-14T04:07:15.752543100Z",
     "start_time": "2023-09-14T04:07:15.127197700Z"
    }
   },
   "outputs": [
    {
     "data": {
      "text/plain": "(-3, 1)"
     },
     "execution_count": 45,
     "metadata": {},
     "output_type": "execute_result"
    }
   ],
   "source": [
    "divmod(-5, 2)"
   ]
  },
  {
   "cell_type": "markdown",
   "metadata": {
    "tags": []
   },
   "source": [
    "### 문제 1. \n",
    "Python에서 바인딩의 개념이 무엇인지 서술하라."
   ]
  },
  {
   "cell_type": "markdown",
   "metadata": {},
   "source": [
    "**설명**\n",
    "어떤 name(변수)가 객체를 참조하도록 만드는 과정"
   ]
  },
  {
   "cell_type": "markdown",
   "metadata": {
    "tags": []
   },
   "source": [
    "### 문제 2. \n",
    "다음 셀을 실행하고 실행 결과에서 처음에는 True가, 두번째는 False가 나오는 이유를 설명하라."
   ]
  },
  {
   "cell_type": "code",
   "execution_count": 46,
   "metadata": {
    "ExecuteTime": {
     "end_time": "2023-09-14T04:07:15.752543100Z",
     "start_time": "2023-09-14T04:07:15.141438600Z"
    }
   },
   "outputs": [
    {
     "name": "stdout",
     "output_type": "stream",
     "text": [
      "1943723922416\n",
      "1943723923120\n",
      "True\n",
      "False\n"
     ]
    }
   ],
   "source": [
    "x = 5.\n",
    "y = 5.\n",
    "print(id(x))\n",
    "print(id(y))\n",
    "print(x == y)\n",
    "print(x is y)"
   ]
  },
  {
   "cell_type": "markdown",
   "metadata": {},
   "source": [
    "**설명**\n",
    "== 두값을 비교하는 연산\n",
    "is 두 객체가 참조하는 주소를 비교하는 연산\n",
    "두 변수가 갖고 있는 값은 같지만, 참조하는 주소값이 다르기 때문에"
   ]
  },
  {
   "cell_type": "markdown",
   "metadata": {},
   "source": [
    "### 문제 3.\n",
    "\n",
    "파이썬 데이터 형 중에 변경한 객체와 변경 불가능한 객체의 차이점을 설명하라."
   ]
  },
  {
   "cell_type": "markdown",
   "metadata": {},
   "source": [
    "**설명**\n",
    "list: 변경가능(mutable) 자료형\n",
    "tuple: 변경 불가능(immutable) 자료형\n",
    "string: 유니코드 문자열, 변경 불가능(immutable)\n",
    "bytes: 0~255사이의 숫자들의 시퀀스로 변경 불가능.\n",
    "bytearray: bytes의 변경 가능 버전\n",
    "range:range() 함수가 생성하는 변경 불가능 자료형\n",
    "\n",
    "Mutable는 개별 원소를 수정할수 있지만, Immutable은 개별 원소를 수정할수 없다"
   ]
  },
  {
   "cell_type": "markdown",
   "metadata": {},
   "source": [
    "### 문제 4. \n",
    "아래에 있는 세 코드 셀들의 실행 결과가 나오는 과정을 각각 설명하라. "
   ]
  },
  {
   "cell_type": "code",
   "execution_count": 47,
   "metadata": {
    "tags": [],
    "ExecuteTime": {
     "end_time": "2023-09-14T04:07:15.814783200Z",
     "start_time": "2023-09-14T04:07:15.166706100Z"
    }
   },
   "outputs": [
    {
     "data": {
      "text/plain": "set()"
     },
     "execution_count": 47,
     "metadata": {},
     "output_type": "execute_result"
    }
   ],
   "source": [
    "1 and ' 가나다' and 5 and set() and \"str\" and {'a':1, 'b':5}"
   ]
  },
  {
   "cell_type": "markdown",
   "metadata": {},
   "source": [
    "**설명**\n",
    "Lazy Evaluation 에 따라\n",
    "A1 and A2 and ... An\n",
    "- Ai, 1<= i <= n,이 모두 True이면 An의 값을 반환\n",
    "- 그렇지 않으면, 첫번째 False 피연산자를 반환\n",
    "\n",
    "따라서 비어있는 set()는 False이기 때문에 피연산자 set()이 반환된다\n"
   ]
  },
  {
   "cell_type": "code",
   "execution_count": 48,
   "metadata": {
    "tags": [],
    "ExecuteTime": {
     "end_time": "2023-09-14T04:07:15.845050200Z",
     "start_time": "2023-09-14T04:07:15.179269900Z"
    }
   },
   "outputs": [
    {
     "data": {
      "text/plain": "'0'"
     },
     "execution_count": 48,
     "metadata": {},
     "output_type": "execute_result"
    }
   ],
   "source": [
    "0 or [] or () or '0'"
   ]
  },
  {
   "cell_type": "markdown",
   "metadata": {},
   "source": [
    "**설명**\n",
    "Lazy Evaluation 에 따라\n",
    "A1 or A2 or ... An\n",
    "- Ai, 1<= i <= n,이 모두 False이면 An의 값을 반환\n",
    "- 그렇지 않으면, 첫번째 True 피연산자를 반환\n",
    "\n",
    "따라서 비어 있지 않은 '0'는 True이기 때문에 피연산자 '0'이 반환된다"
   ]
  },
  {
   "cell_type": "code",
   "execution_count": 49,
   "metadata": {
    "tags": [],
    "ExecuteTime": {
     "end_time": "2023-09-14T04:07:15.909163100Z",
     "start_time": "2023-09-14T04:07:15.197218300Z"
    }
   },
   "outputs": [
    {
     "data": {
      "text/plain": "'str'"
     },
     "execution_count": 49,
     "metadata": {},
     "output_type": "execute_result"
    }
   ],
   "source": [
    "1 and 'str' or [] or 34 and '0'"
   ]
  },
  {
   "cell_type": "markdown",
   "source": [
    "**설명**\n",
    "and와 or가 섞여 있으면 and를 먼저 평가한다\n",
    "- 1 and 'str' : 'str'\n",
    "- 34 and '0' : '0'\n",
    "- 'str' or [] or '0' : 'str'\n",
    "\n",
    "의 순서로 피연산자 'str'이 반환된다"
   ],
   "metadata": {
    "collapsed": false
   }
  },
  {
   "cell_type": "markdown",
   "metadata": {},
   "source": [
    "### 문제 5. \n",
    "다음은 4비트 2진수로 표현할 수 있는 16 종류의 서로 다른 수이다. 각 이진수를 unsigned 정수와 2의 보수 형식을 이용한 signed 정수로 해석할 때, 10 진수에 해당하는 값을 적어라.\n",
    "\n",
    "2진수의 표현에 대해서는 여기를 참조하라.\n",
    "\n",
    "https://ko.wikipedia.org/wiki/%EB%B6%80%ED%98%B8%ED%99%94%EB%90%9C_%EC%88%AB%EC%9E%90_%ED%91%9C%ED%98%84"
   ]
  },
  {
   "cell_type": "markdown",
   "metadata": {},
   "source": [
    "| 2진수  | unsigned 4 비트 정수 | 2의 보수 형식 |\n",
    "|:----:|:----------------:|:--------:|\n",
    "| 0000 |        0         |    0     |\n",
    "| 0001 |        1         |    1     |\n",
    "| 0010 |        2         |    2     |\n",
    "| 0011 |        3         |    3     |\n",
    "| 0100 |        4         |    4     |\n",
    "| 0101 |        5         |    5     |\n",
    "| 0110 |        6         |    6     |\n",
    "| 0111 |        7         |    7     |\n",
    "| 1000 |        8         |    -8    |\n",
    "| 1001 |        9         |    -7    |\n",
    "| 1010 |        10        |    -6    |\n",
    "| 1011 |        11        |    -5    |\n",
    "| 1100 |        12        |    -4    |\n",
    "| 1101 |        13        |    -3    |\n",
    "| 1110 |        14        |    -2    |\n",
    "| 1111 |        15        |    -1    |"
   ]
  },
  {
   "cell_type": "code",
   "execution_count": 49,
   "metadata": {
    "ExecuteTime": {
     "end_time": "2023-09-14T04:07:16.182914700Z",
     "start_time": "2023-09-14T04:07:15.236160900Z"
    }
   },
   "outputs": [],
   "source": []
  },
  {
   "cell_type": "markdown",
   "metadata": {},
   "source": [
    "### 예제 1."
   ]
  },
  {
   "cell_type": "code",
   "execution_count": 50,
   "metadata": {
    "tags": [],
    "ExecuteTime": {
     "end_time": "2023-09-14T04:07:16.192613400Z",
     "start_time": "2023-09-14T04:07:15.255397100Z"
    }
   },
   "outputs": [
    {
     "data": {
      "text/plain": "(13, 6)"
     },
     "execution_count": 50,
     "metadata": {},
     "output_type": "execute_result"
    }
   ],
   "source": [
    "m = 0b1101\n",
    "n = 0b110\n",
    "m, n"
   ]
  },
  {
   "cell_type": "code",
   "execution_count": 51,
   "metadata": {
    "tags": [],
    "ExecuteTime": {
     "end_time": "2023-09-14T04:07:16.275457300Z",
     "start_time": "2023-09-14T04:07:15.271319900Z"
    }
   },
   "outputs": [
    {
     "data": {
      "text/plain": "(4, 4, 3, 3)"
     },
     "execution_count": 51,
     "metadata": {},
     "output_type": "execute_result"
    }
   ],
   "source": [
    "m.bit_length(),(-m).bit_length(), n.bit_length(), (-n).bit_length()"
   ]
  },
  {
   "cell_type": "code",
   "execution_count": 52,
   "metadata": {
    "tags": [],
    "ExecuteTime": {
     "end_time": "2023-09-14T04:07:16.275457300Z",
     "start_time": "2023-09-14T04:07:15.285364600Z"
    }
   },
   "outputs": [
    {
     "data": {
      "text/plain": "-13"
     },
     "execution_count": 52,
     "metadata": {},
     "output_type": "execute_result"
    }
   ],
   "source": [
    "~m + 1"
   ]
  },
  {
   "cell_type": "code",
   "execution_count": 53,
   "metadata": {
    "tags": [],
    "ExecuteTime": {
     "end_time": "2023-09-14T04:07:16.371134200Z",
     "start_time": "2023-09-14T04:07:15.300842800Z"
    }
   },
   "outputs": [
    {
     "data": {
      "text/plain": "(4, 15, 11)"
     },
     "execution_count": 53,
     "metadata": {},
     "output_type": "execute_result"
    }
   ],
   "source": [
    "m&n, m|n, m^n"
   ]
  },
  {
   "cell_type": "code",
   "execution_count": 54,
   "metadata": {
    "tags": [],
    "ExecuteTime": {
     "end_time": "2023-09-14T04:07:16.373134200Z",
     "start_time": "2023-09-14T04:07:15.315485900Z"
    }
   },
   "outputs": [
    {
     "data": {
      "text/plain": "(-14, -5, 9)"
     },
     "execution_count": 54,
     "metadata": {},
     "output_type": "execute_result"
    }
   ],
   "source": [
    "-m & -n, -m|-n, (-m)^(-n)"
   ]
  },
  {
   "cell_type": "code",
   "execution_count": 54,
   "metadata": {
    "ExecuteTime": {
     "end_time": "2023-09-14T04:07:16.495232700Z",
     "start_time": "2023-09-14T04:07:15.329591Z"
    }
   },
   "outputs": [],
   "source": []
  },
  {
   "cell_type": "code",
   "execution_count": 54,
   "metadata": {
    "ExecuteTime": {
     "end_time": "2023-09-14T04:07:16.524820600Z",
     "start_time": "2023-09-14T04:07:15.347599700Z"
    }
   },
   "outputs": [],
   "source": []
  },
  {
   "cell_type": "markdown",
   "metadata": {},
   "source": [
    "**설명**\n",
    "\n",
    "\n",
    "\n"
   ]
  },
  {
   "cell_type": "code",
   "execution_count": 55,
   "metadata": {
    "ExecuteTime": {
     "end_time": "2023-09-14T04:07:16.541318600Z",
     "start_time": "2023-09-14T04:07:15.365030Z"
    }
   },
   "outputs": [
    {
     "data": {
      "text/plain": "True"
     },
     "execution_count": 55,
     "metadata": {},
     "output_type": "execute_result"
    }
   ],
   "source": [
    "45 > 5"
   ]
  },
  {
   "cell_type": "code",
   "execution_count": 56,
   "metadata": {
    "ExecuteTime": {
     "end_time": "2023-09-14T04:07:16.543317800Z",
     "start_time": "2023-09-14T04:07:15.377071400Z"
    }
   },
   "outputs": [
    {
     "ename": "TypeError",
     "evalue": "'>' not supported between instances of 'int' and 'complex'",
     "output_type": "error",
     "traceback": [
      "\u001B[1;31m---------------------------------------------------------------------------\u001B[0m",
      "\u001B[1;31mTypeError\u001B[0m                                 Traceback (most recent call last)",
      "Cell \u001B[1;32mIn[56], line 1\u001B[0m\n\u001B[1;32m----> 1\u001B[0m \u001B[38;5;241;43m3\u001B[39;49m\u001B[43m \u001B[49m\u001B[38;5;241;43m>\u001B[39;49m\u001B[43m \u001B[49m\u001B[38;5;241;43m3\u001B[39;49m\u001B[38;5;241;43m+\u001B[39;49m\u001B[43m \u001B[49m\u001B[38;5;241;43m3\u001B[39;49m\u001B[43mj\u001B[49m\n",
      "\u001B[1;31mTypeError\u001B[0m: '>' not supported between instances of 'int' and 'complex'"
     ]
    }
   ],
   "source": [
    "3 > 3+ 3j"
   ]
  },
  {
   "cell_type": "code",
   "execution_count": null,
   "metadata": {
    "ExecuteTime": {
     "start_time": "2023-09-14T04:07:15.408575100Z"
    }
   },
   "outputs": [],
   "source": [
    "'a' > 'b'"
   ]
  },
  {
   "cell_type": "code",
   "execution_count": null,
   "metadata": {
    "ExecuteTime": {
     "start_time": "2023-09-14T04:07:15.413809400Z"
    }
   },
   "outputs": [],
   "source": [
    "'abcd' > 'abaf'"
   ]
  },
  {
   "cell_type": "code",
   "execution_count": null,
   "metadata": {
    "ExecuteTime": {
     "start_time": "2023-09-14T04:07:15.417251400Z"
    }
   },
   "outputs": [],
   "source": [
    "'가' > 'abc'"
   ]
  },
  {
   "cell_type": "code",
   "execution_count": null,
   "metadata": {
    "ExecuteTime": {
     "start_time": "2023-09-14T04:07:15.422683800Z"
    }
   },
   "outputs": [],
   "source": [
    "[1, 5, 'tabc'] > [1, 5, 'str']"
   ]
  },
  {
   "cell_type": "code",
   "execution_count": null,
   "metadata": {
    "ExecuteTime": {
     "start_time": "2023-09-14T04:07:15.426368400Z"
    }
   },
   "outputs": [],
   "source": [
    "(2, 2) > (1, 1, 5)"
   ]
  },
  {
   "cell_type": "markdown",
   "metadata": {},
   "source": [
    "## print 함수 사용시 유효자리 숫자 표현에 관한 질문\n",
    "\n",
    "- 정수를 표현할 때 컴퓨터의 메모리가 허락하는 한도에서 최대한 많은 비트 수를 사용한다.\n",
    "- Python 자습서의 15. 부동 소수점 산술: 문제점 및 한계 참조\n",
    "\n",
    "https://docs.python.org/ko/3.9/tutorial/floatingpoint.html\n"
   ]
  },
  {
   "cell_type": "markdown",
   "metadata": {},
   "source": [
    "### 예제 2. 아래 셀들의 문장들을 실행해 보라."
   ]
  },
  {
   "cell_type": "code",
   "execution_count": null,
   "metadata": {
    "ExecuteTime": {
     "start_time": "2023-09-14T04:07:15.432286400Z"
    }
   },
   "outputs": [],
   "source": [
    "print(2**120)"
   ]
  },
  {
   "cell_type": "code",
   "execution_count": null,
   "metadata": {
    "ExecuteTime": {
     "start_time": "2023-09-14T04:07:15.437459900Z"
    }
   },
   "outputs": [],
   "source": [
    "f = 0.1234567890123456789012345678901234567890\n",
    "print(f)\n",
    "print(f + 0.3)\n",
    "g = f + 0.30000000000000005\n",
    "print(g)\n",
    "print(g*100)\n"
   ]
  },
  {
   "cell_type": "code",
   "execution_count": null,
   "metadata": {
    "ExecuteTime": {
     "start_time": "2023-09-14T04:07:15.440816100Z"
    }
   },
   "outputs": [],
   "source": [
    "0.42345678901234571"
   ]
  },
  {
   "cell_type": "code",
   "execution_count": null,
   "metadata": {
    "scrolled": true,
    "ExecuteTime": {
     "start_time": "2023-09-14T04:07:15.445525100Z"
    }
   },
   "outputs": [],
   "source": [
    "import sys\n",
    "print(sys.float_info)"
   ]
  },
  {
   "cell_type": "code",
   "execution_count": null,
   "metadata": {
    "ExecuteTime": {
     "start_time": "2023-09-14T04:07:15.449050800Z"
    }
   },
   "outputs": [],
   "source": [
    "import math\n",
    "math.log10(2**53)"
   ]
  },
  {
   "cell_type": "code",
   "execution_count": null,
   "metadata": {
    "ExecuteTime": {
     "start_time": "2023-09-14T04:07:15.453050100Z"
    }
   },
   "outputs": [],
   "source": [
    "delta = 0.1\n",
    "x = 0.\n",
    "for _ in range(10):\n",
    "    x = x + delta\n",
    "    print(x)"
   ]
  },
  {
   "cell_type": "code",
   "execution_count": null,
   "metadata": {
    "ExecuteTime": {
     "start_time": "2023-09-14T04:07:15.457051100Z"
    }
   },
   "outputs": [],
   "source": [
    "x = 0.1234567890123456789\n",
    "repr(x)"
   ]
  },
  {
   "cell_type": "code",
   "execution_count": null,
   "metadata": {
    "ExecuteTime": {
     "start_time": "2023-09-14T04:07:15.461049800Z"
    }
   },
   "outputs": [],
   "source": [
    "float(repr(x))"
   ]
  },
  {
   "cell_type": "code",
   "execution_count": null,
   "metadata": {
    "ExecuteTime": {
     "start_time": "2023-09-14T04:07:15.467050100Z"
    }
   },
   "outputs": [],
   "source": [
    "x = 0.3\n",
    "float('0.1234567890123456789')"
   ]
  },
  {
   "cell_type": "code",
   "execution_count": null,
   "metadata": {
    "ExecuteTime": {
     "start_time": "2023-09-14T04:07:15.469050600Z"
    }
   },
   "outputs": [],
   "source": [
    "repr(x)"
   ]
  },
  {
   "cell_type": "markdown",
   "metadata": {},
   "source": [
    "## print 함수에서 정수와 실수 포맷"
   ]
  },
  {
   "cell_type": "markdown",
   "metadata": {},
   "source": [
    "### 예제3."
   ]
  },
  {
   "cell_type": "code",
   "execution_count": null,
   "metadata": {
    "ExecuteTime": {
     "start_time": "2023-09-14T04:07:15.473049900Z"
    }
   },
   "outputs": [],
   "source": [
    "n = 1234567890\n",
    "print(n)\n",
    "print(\"n =\",n)"
   ]
  },
  {
   "cell_type": "code",
   "execution_count": null,
   "metadata": {
    "ExecuteTime": {
     "start_time": "2023-09-14T04:07:15.475050500Z"
    }
   },
   "outputs": [],
   "source": [
    "print(\"  1\")\n",
    "print(\" 11\")\n",
    "print(\"111\")"
   ]
  },
  {
   "cell_type": "code",
   "execution_count": null,
   "metadata": {
    "ExecuteTime": {
     "start_time": "2023-09-14T04:07:15.477050100Z"
    }
   },
   "outputs": [],
   "source": [
    "print(f'n={n}')"
   ]
  },
  {
   "cell_type": "code",
   "execution_count": null,
   "metadata": {
    "tags": [],
    "ExecuteTime": {
     "start_time": "2023-09-14T04:07:15.481437300Z"
    }
   },
   "outputs": [],
   "source": [
    "print(f'n={n}')"
   ]
  },
  {
   "cell_type": "code",
   "execution_count": null,
   "metadata": {
    "tags": [],
    "ExecuteTime": {
     "start_time": "2023-09-14T04:07:15.483771500Z"
    }
   },
   "outputs": [],
   "source": [
    "print(f'n={n:,}')"
   ]
  },
  {
   "cell_type": "code",
   "execution_count": null,
   "metadata": {
    "ExecuteTime": {
     "start_time": "2023-09-14T04:07:15.485636100Z"
    }
   },
   "outputs": [],
   "source": [
    "x = 1234567.89012345678\n",
    "print(x)"
   ]
  },
  {
   "cell_type": "code",
   "execution_count": null,
   "metadata": {
    "ExecuteTime": {
     "start_time": "2023-09-14T04:07:15.487643Z"
    }
   },
   "outputs": [],
   "source": [
    "print(f'x = {x}')"
   ]
  },
  {
   "cell_type": "code",
   "execution_count": null,
   "metadata": {
    "ExecuteTime": {
     "start_time": "2023-09-14T04:07:15.489646600Z"
    }
   },
   "outputs": [],
   "source": [
    "print(f'x = {x:,}')"
   ]
  },
  {
   "cell_type": "code",
   "execution_count": null,
   "metadata": {
    "ExecuteTime": {
     "start_time": "2023-09-14T04:07:15.493664900Z"
    }
   },
   "outputs": [],
   "source": [
    "print(f'x = {x:_}')"
   ]
  },
  {
   "cell_type": "code",
   "execution_count": null,
   "metadata": {
    "ExecuteTime": {
     "start_time": "2023-09-14T04:07:15.495441700Z"
    }
   },
   "outputs": [],
   "source": [
    "print(f'x = {x:15,.2f}')"
   ]
  },
  {
   "cell_type": "code",
   "execution_count": null,
   "metadata": {
    "ExecuteTime": {
     "start_time": "2023-09-14T04:07:15.498686400Z"
    }
   },
   "outputs": [],
   "source": [
    "print(f'x = {x:15.4e}')"
   ]
  },
  {
   "cell_type": "code",
   "execution_count": null,
   "metadata": {
    "ExecuteTime": {
     "start_time": "2023-09-14T04:07:15.501180500Z"
    }
   },
   "outputs": [],
   "source": []
  },
  {
   "cell_type": "code",
   "execution_count": null,
   "metadata": {
    "ExecuteTime": {
     "start_time": "2023-09-14T04:07:15.502986500Z"
    }
   },
   "outputs": [],
   "source": []
  }
 ],
 "metadata": {
  "kernelspec": {
   "display_name": "Python 3 (ipykernel)",
   "language": "python",
   "name": "python3"
  },
  "language_info": {
   "codemirror_mode": {
    "name": "ipython",
    "version": 3
   },
   "file_extension": ".py",
   "mimetype": "text/x-python",
   "name": "python",
   "nbconvert_exporter": "python",
   "pygments_lexer": "ipython3",
   "version": "3.11.4"
  },
  "latex_envs": {
   "LaTeX_envs_menu_present": true,
   "autoclose": false,
   "autocomplete": true,
   "bibliofile": "biblio.bib",
   "cite_by": "apalike",
   "current_citInitial": 1,
   "eqLabelWithNumbers": true,
   "eqNumInitial": 1,
   "hotkeys": {
    "equation": "Ctrl-E",
    "itemize": "Ctrl-I"
   },
   "labels_anchors": false,
   "latex_user_defs": false,
   "report_style_numbering": false,
   "user_envs_cfg": false
  },
  "toc": {
   "base_numbering": 1,
   "nav_menu": {},
   "number_sections": false,
   "sideBar": true,
   "skip_h1_title": false,
   "title_cell": "Table of Contents",
   "title_sidebar": "Contents",
   "toc_cell": false,
   "toc_position": {
    "height": "calc(100% - 180px)",
    "left": "10px",
    "top": "150px",
    "width": "270.5px"
   },
   "toc_section_display": true,
   "toc_window_display": false
  }
 },
 "nbformat": 4,
 "nbformat_minor": 4
}
